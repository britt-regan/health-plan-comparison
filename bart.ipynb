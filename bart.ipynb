{
 "cells": [
  {
   "attachments": {},
   "cell_type": "markdown",
   "metadata": {},
   "source": [
    "### Import Libraries"
   ]
  },
  {
   "cell_type": "code",
   "execution_count": 5,
   "metadata": {},
   "outputs": [],
   "source": [
    "import re\n",
    "import os\n",
    "import pandas as pd\n",
    "import fitz\n",
    "import pickle\n",
    "\n",
    "from langchain.chains.summarize import load_summarize_chain\n",
    "from langchain.docstore.document import Document\n",
    "from langchain.llms.huggingface_pipeline import HuggingFacePipeline\n",
    "from langchain.text_splitter import RecursiveCharacterTextSplitter\n",
    "from transformers import AutoTokenizer, BartForConditionalGeneration, pipeline"
   ]
  },
  {
   "attachments": {},
   "cell_type": "markdown",
   "metadata": {},
   "source": [
    "### Load Data"
   ]
  },
  {
   "cell_type": "code",
   "execution_count": 2,
   "metadata": {},
   "outputs": [],
   "source": [
    "directory = os.listdir('2023 Competitor Docs')\n",
    "data = []\n",
    "\n",
    "for state_folder in directory:\n",
    "    state_path = '2023 Competitor Docs/' + state_folder\n",
    "    state_directory = os.listdir(state_path)\n",
    "\n",
    "    for file in state_directory:\n",
    "        file_path = state_path + '/' + file\n",
    "        pdf_file = fitz.open(file_path)\n",
    "\n",
    "        text = ''\n",
    "\n",
    "        for page in pdf_file:\n",
    "            extracted_text = page.get_text()\n",
    "            text += extracted_text + '\\n\\n'\n",
    "                    \n",
    "        data.append([state_folder, file, text])\n",
    "\n",
    "documents = pd.DataFrame(data, columns = ['state', 'file', 'text'])"
   ]
  },
  {
   "cell_type": "code",
   "execution_count": 3,
   "metadata": {},
   "outputs": [],
   "source": [
    "#Strip spaces and dashes from file names\n",
    "documents['file'] = documents['file'].str.replace('-', '') #strip dashes\n",
    "documents['file'] = documents['file'].str.replace(' ', '') #strip spaces\n",
    "documents['file'] = documents['file'].str.replace('_', '') #strip underscores"
   ]
  },
  {
   "cell_type": "markdown",
   "metadata": {},
   "source": [
    "### Load Target"
   ]
  },
  {
   "cell_type": "code",
   "execution_count": 4,
   "metadata": {},
   "outputs": [],
   "source": [
    "benefits_grid = pd.read_csv('Benefits Grid.csv')"
   ]
  },
  {
   "cell_type": "code",
   "execution_count": 5,
   "metadata": {},
   "outputs": [],
   "source": [
    "benefits_grid = benefits_grid.rename(columns = {'CONTRACT_PLAN': 'contract_plan'})\n",
    "benefits_grid['contract_plan'] = benefits_grid['contract_plan'].str.replace(' ', '')\n",
    "benefits_grid['contract_plan'] = benefits_grid['contract_plan'].str.replace('-', '') #strip dashes"
   ]
  },
  {
   "cell_type": "code",
   "execution_count": 6,
   "metadata": {},
   "outputs": [],
   "source": [
    "#Keep only benefits grid columns we care about\n",
    "benefits_grid = benefits_grid[['County','Provider','contract_plan','Implant Coverage (Y/N)','Root Canal Coverage (Y/N)','Healthy Food Rollover','OTC Rollover (Y/N)']]"
   ]
  },
  {
   "cell_type": "code",
   "execution_count": 7,
   "metadata": {},
   "outputs": [],
   "source": [
    "#Drop rows with NA\n",
    "benefits_grid = benefits_grid.dropna()"
   ]
  },
  {
   "cell_type": "markdown",
   "metadata": {},
   "source": [
    "### Clean Target"
   ]
  },
  {
   "cell_type": "code",
   "execution_count": 8,
   "metadata": {},
   "outputs": [],
   "source": [
    "#Function to group targets correctly\n",
    "def process_text(text):\n",
    "    y_variations = ['Y','Y ','Y  ','Y?','Y, one month will carry over to the next month only within the same calendar quarter','Y -- carries over each month and expires at the end of the year','Y -- $20 monthly allowance rolls over to next month and expires at the end of the year','Y -- $35 monthly allowance rolls over each month and expires at the end of the year','Y -- $30 monthly allowance rolls over each month and expires at the end of the year']\n",
    "    if isinstance(text, str):\n",
    "        for y_variation in y_variations:\n",
    "            if re.search(re.escape(y_variation), text, re.IGNORECASE):\n",
    "                return 'Y'\n",
    "        return 'N'\n",
    "    return 'N'"
   ]
  },
  {
   "cell_type": "code",
   "execution_count": 9,
   "metadata": {},
   "outputs": [],
   "source": [
    "#Process targets\n",
    "benefits_grid['Implant Coverage (Y/N)'] = benefits_grid['Implant Coverage (Y/N)'].apply(process_text)\n",
    "benefits_grid['Root Canal Coverage (Y/N)'] = benefits_grid['Root Canal Coverage (Y/N)'].apply(process_text)\n",
    "benefits_grid['Healthy Food Rollover'] = benefits_grid['Healthy Food Rollover'].apply(process_text)\n",
    "benefits_grid['OTC Rollover (Y/N)'] = benefits_grid['OTC Rollover (Y/N)'].apply(process_text)"
   ]
  },
  {
   "cell_type": "code",
   "execution_count": 10,
   "metadata": {},
   "outputs": [],
   "source": [
    "benefits_grid['Implant Coverage (Y/N)'] = benefits_grid['Implant Coverage (Y/N)'].str.upper()\n",
    "benefits_grid['Root Canal Coverage (Y/N)'] = benefits_grid['Root Canal Coverage (Y/N)'].str.upper()\n",
    "benefits_grid['Healthy Food Rollover'] = benefits_grid['Healthy Food Rollover'].str.upper()\n",
    "benefits_grid['OTC Rollover (Y/N)'] = benefits_grid['OTC Rollover (Y/N)'].str.upper()"
   ]
  },
  {
   "cell_type": "markdown",
   "metadata": {},
   "source": [
    "### Join Documents to Target"
   ]
  },
  {
   "cell_type": "code",
   "execution_count": 11,
   "metadata": {},
   "outputs": [],
   "source": [
    "plan_list = benefits_grid[benefits_grid['contract_plan'] != 'EOC']['contract_plan']"
   ]
  },
  {
   "cell_type": "code",
   "execution_count": 12,
   "metadata": {},
   "outputs": [],
   "source": [
    "def find_contract_plan(file_name):\n",
    "    for plan in plan_list:\n",
    "        if plan in file_name:\n",
    "            return plan"
   ]
  },
  {
   "cell_type": "code",
   "execution_count": 13,
   "metadata": {},
   "outputs": [],
   "source": [
    "documents['contract_plan_file'] = documents.apply(lambda row : find_contract_plan(row['file']), axis = 1)\n",
    "documents['contract_plan_text'] = documents.apply(lambda row : find_contract_plan(row['text']), axis = 1)\n",
    "documents['contract_plan'] = documents.contract_plan_file.combine_first(documents.contract_plan_text)\n",
    "#documents = documents.drop(['contract_plan_text', 'contract_plan_file'], axis = 1)"
   ]
  },
  {
   "cell_type": "code",
   "execution_count": 14,
   "metadata": {},
   "outputs": [],
   "source": [
    "#Minor text cleaning to remove \\xa0 characters\n",
    "#documents['text'] = documents['text'].replace('\\xa0', ' ')\n",
    "documents['text'] = documents['text'].apply(lambda x: re.sub(r'\\xa0', ' ', x))"
   ]
  },
  {
   "cell_type": "code",
   "execution_count": 15,
   "metadata": {},
   "outputs": [],
   "source": [
    "#Look for start and end phrases\n",
    "start_phrase = 'You will see this apple next'\n",
    "end_phrase = 'What services are not covered'\n",
    "\n",
    "# Function to extract text between the start and end phrases\n",
    "def extract_text(text):\n",
    "    start_index = text.find(start_phrase)\n",
    "    end_index = text.find(end_phrase, start_index + len(start_phrase))\n",
    "    if start_index != -1 and end_index != -1 and start_index < end_index:\n",
    "        return text[start_index + len(start_phrase):end_index].strip()\n",
    "    return ''"
   ]
  },
  {
   "cell_type": "code",
   "execution_count": 16,
   "metadata": {},
   "outputs": [],
   "source": [
    "#Apply function to the text column\n",
    "documents['text_cleaned'] = documents['text'].apply(extract_text)"
   ]
  },
  {
   "cell_type": "code",
   "execution_count": 17,
   "metadata": {},
   "outputs": [],
   "source": [
    "#Merge document data with benefits grid\n",
    "dataset = pd.merge(benefits_grid, documents, how = 'inner', on = ['contract_plan'])"
   ]
  },
  {
   "cell_type": "code",
   "execution_count": 18,
   "metadata": {},
   "outputs": [],
   "source": [
    "benefits_grid = benefits_grid.rename(columns = {'CONTRACT_PLAN': 'contract_plan'})"
   ]
  },
  {
   "cell_type": "code",
   "execution_count": 20,
   "metadata": {},
   "outputs": [
    {
     "data": {
      "text/html": [
       "<div>\n",
       "<style scoped>\n",
       "    .dataframe tbody tr th:only-of-type {\n",
       "        vertical-align: middle;\n",
       "    }\n",
       "\n",
       "    .dataframe tbody tr th {\n",
       "        vertical-align: top;\n",
       "    }\n",
       "\n",
       "    .dataframe thead th {\n",
       "        text-align: right;\n",
       "    }\n",
       "</style>\n",
       "<table border=\"1\" class=\"dataframe\">\n",
       "  <thead>\n",
       "    <tr style=\"text-align: right;\">\n",
       "      <th></th>\n",
       "      <th>County</th>\n",
       "      <th>Provider</th>\n",
       "      <th>contract_plan</th>\n",
       "      <th>Implant Coverage (Y/N)</th>\n",
       "      <th>Root Canal Coverage (Y/N)</th>\n",
       "      <th>Healthy Food Rollover</th>\n",
       "      <th>OTC Rollover (Y/N)</th>\n",
       "      <th>state</th>\n",
       "      <th>file</th>\n",
       "      <th>text</th>\n",
       "      <th>contract_plan_file</th>\n",
       "      <th>contract_plan_text</th>\n",
       "      <th>text_cleaned</th>\n",
       "    </tr>\n",
       "  </thead>\n",
       "  <tbody>\n",
       "    <tr>\n",
       "      <th>0</th>\n",
       "      <td>AL: Birmingham</td>\n",
       "      <td>UnitedHealth Group, Inc.</td>\n",
       "      <td>H0432009000</td>\n",
       "      <td>Y</td>\n",
       "      <td>Y</td>\n",
       "      <td>N</td>\n",
       "      <td>N</td>\n",
       "      <td>Alabama</td>\n",
       "      <td>H0432009000UHCALBirminghamFullDualEOC.pdf</td>\n",
       "      <td>Evidence of \\nCoverage 2023\\nUnitedHealthcare ...</td>\n",
       "      <td>H0432009000</td>\n",
       "      <td>None</td>\n",
       "      <td>to the preventive services in the benefits cha...</td>\n",
       "    </tr>\n",
       "    <tr>\n",
       "      <th>1</th>\n",
       "      <td>AL: Huntsville</td>\n",
       "      <td>UnitedHealth Group, Inc.</td>\n",
       "      <td>H0432009000</td>\n",
       "      <td>Y</td>\n",
       "      <td>Y</td>\n",
       "      <td>N</td>\n",
       "      <td>N</td>\n",
       "      <td>Alabama</td>\n",
       "      <td>H0432009000UHCALBirminghamFullDualEOC.pdf</td>\n",
       "      <td>Evidence of \\nCoverage 2023\\nUnitedHealthcare ...</td>\n",
       "      <td>H0432009000</td>\n",
       "      <td>None</td>\n",
       "      <td>to the preventive services in the benefits cha...</td>\n",
       "    </tr>\n",
       "    <tr>\n",
       "      <th>2</th>\n",
       "      <td>AL: Birmingham</td>\n",
       "      <td>UnitedHealth Group, Inc.</td>\n",
       "      <td>H2802044000</td>\n",
       "      <td>Y</td>\n",
       "      <td>Y</td>\n",
       "      <td>N</td>\n",
       "      <td>N</td>\n",
       "      <td>Alabama</td>\n",
       "      <td>H2802044000UHCALBirminghamPartialDualEOC.pdf</td>\n",
       "      <td>Evidence of \\nCoverage 2023\\nUnitedHealthcare ...</td>\n",
       "      <td>H2802044000</td>\n",
       "      <td>None</td>\n",
       "      <td>to the preventive services in the benefits cha...</td>\n",
       "    </tr>\n",
       "    <tr>\n",
       "      <th>3</th>\n",
       "      <td>AL: Huntsville</td>\n",
       "      <td>CIGNA</td>\n",
       "      <td>H4513055000</td>\n",
       "      <td>N</td>\n",
       "      <td>Y</td>\n",
       "      <td>N</td>\n",
       "      <td>N</td>\n",
       "      <td>Alabama</td>\n",
       "      <td>CignaTotalCareHMODSNPEOCH4513055000.pdf</td>\n",
       "      <td>January 1 - December 31, 2023\\nEVIDENCE OF COV...</td>\n",
       "      <td>H4513055000</td>\n",
       "      <td>None</td>\n",
       "      <td>to the preventive services in the benefits cha...</td>\n",
       "    </tr>\n",
       "    <tr>\n",
       "      <th>4</th>\n",
       "      <td>AL: Huntsville</td>\n",
       "      <td>Humana Inc.</td>\n",
       "      <td>H5619093000</td>\n",
       "      <td>N</td>\n",
       "      <td>Y</td>\n",
       "      <td>Y</td>\n",
       "      <td>Y</td>\n",
       "      <td>Alabama</td>\n",
       "      <td>H5619093000EOC23.pdf</td>\n",
       "      <td>H5619_EOC_MAPD_HMO_093000_2023_C\\nH5619093000E...</td>\n",
       "      <td>H5619093000</td>\n",
       "      <td>H5619093000</td>\n",
       "      <td>to the preventive services in the benefits cha...</td>\n",
       "    </tr>\n",
       "    <tr>\n",
       "      <th>...</th>\n",
       "      <td>...</td>\n",
       "      <td>...</td>\n",
       "      <td>...</td>\n",
       "      <td>...</td>\n",
       "      <td>...</td>\n",
       "      <td>...</td>\n",
       "      <td>...</td>\n",
       "      <td>...</td>\n",
       "      <td>...</td>\n",
       "      <td>...</td>\n",
       "      <td>...</td>\n",
       "      <td>...</td>\n",
       "      <td>...</td>\n",
       "    </tr>\n",
       "    <tr>\n",
       "      <th>382</th>\n",
       "      <td>TX: Houston</td>\n",
       "      <td>Centene Corporation</td>\n",
       "      <td>H0174009000</td>\n",
       "      <td>N</td>\n",
       "      <td>Y</td>\n",
       "      <td>N</td>\n",
       "      <td>N</td>\n",
       "      <td>Texas</td>\n",
       "      <td>H0174009WellcareTexasAustinWellcareAssist(HMO)...</td>\n",
       "      <td>H0174_009_2023_TX_EOC_HMAPD_105873E_C \\nOMB Ap...</td>\n",
       "      <td>None</td>\n",
       "      <td>H0174009000</td>\n",
       "      <td>to the preventive services in the benefits cha...</td>\n",
       "    </tr>\n",
       "    <tr>\n",
       "      <th>383</th>\n",
       "      <td>TX: Houston</td>\n",
       "      <td>Memorial Hermann Health System</td>\n",
       "      <td>H7115003000</td>\n",
       "      <td>N</td>\n",
       "      <td>Y</td>\n",
       "      <td>N</td>\n",
       "      <td>N</td>\n",
       "      <td>Texas</td>\n",
       "      <td>H7115003000MemorialHermannAdvantagePlusHMOEOC.pdf</td>\n",
       "      <td>Memorial Hermann Advantage Plus HMO\\n2023 Evid...</td>\n",
       "      <td>H7115003000</td>\n",
       "      <td>None</td>\n",
       "      <td>to the preventive services in the benefits cha...</td>\n",
       "    </tr>\n",
       "    <tr>\n",
       "      <th>384</th>\n",
       "      <td>TX: Houston</td>\n",
       "      <td>UnitedHealth Group, Inc.</td>\n",
       "      <td>H0332008000</td>\n",
       "      <td>Y</td>\n",
       "      <td>Y</td>\n",
       "      <td>N</td>\n",
       "      <td>N</td>\n",
       "      <td>Texas</td>\n",
       "      <td>H0332008000GoldCommunityHMOPOSEOC.pdf</td>\n",
       "      <td>H0332_001EOC22_C\\n1-866-535-8343 (TTY: 711)   ...</td>\n",
       "      <td>H0332008000</td>\n",
       "      <td>None</td>\n",
       "      <td>to the preventive services in the benefits cha...</td>\n",
       "    </tr>\n",
       "    <tr>\n",
       "      <th>385</th>\n",
       "      <td>TX: San Antonio</td>\n",
       "      <td>UnitedHealth Group, Inc.</td>\n",
       "      <td>H1278005000</td>\n",
       "      <td>Y</td>\n",
       "      <td>Y</td>\n",
       "      <td>N</td>\n",
       "      <td>N</td>\n",
       "      <td>Texas</td>\n",
       "      <td>H1278005000UHCTXSanAntonioPPOEOC.pdf</td>\n",
       "      <td>Evidence of \\nCoverage 2023\\nAARP® Medicare Ad...</td>\n",
       "      <td>H1278005000</td>\n",
       "      <td>None</td>\n",
       "      <td>to the preventive services in the benefits cha...</td>\n",
       "    </tr>\n",
       "    <tr>\n",
       "      <th>386</th>\n",
       "      <td>TX: San Antonio</td>\n",
       "      <td>CVS Health Corporation</td>\n",
       "      <td>H2293019000</td>\n",
       "      <td>N</td>\n",
       "      <td>Y</td>\n",
       "      <td>N</td>\n",
       "      <td>N</td>\n",
       "      <td>Texas</td>\n",
       "      <td>H2293019000AetnaTXSanAntonioAetnaMedicareFreed...</td>\n",
       "      <td>2023 Evidence of Coverage for Aetna Medicare F...</td>\n",
       "      <td>H2293019000</td>\n",
       "      <td>None</td>\n",
       "      <td>to the preventive services in the benefits cha...</td>\n",
       "    </tr>\n",
       "  </tbody>\n",
       "</table>\n",
       "<p>387 rows × 13 columns</p>\n",
       "</div>"
      ],
      "text/plain": [
       "              County                        Provider contract_plan  \\\n",
       "0     AL: Birmingham        UnitedHealth Group, Inc.   H0432009000   \n",
       "1     AL: Huntsville        UnitedHealth Group, Inc.   H0432009000   \n",
       "2     AL: Birmingham        UnitedHealth Group, Inc.   H2802044000   \n",
       "3     AL: Huntsville                           CIGNA   H4513055000   \n",
       "4     AL: Huntsville                     Humana Inc.   H5619093000   \n",
       "..               ...                             ...           ...   \n",
       "382      TX: Houston             Centene Corporation   H0174009000   \n",
       "383      TX: Houston  Memorial Hermann Health System   H7115003000   \n",
       "384      TX: Houston        UnitedHealth Group, Inc.   H0332008000   \n",
       "385  TX: San Antonio        UnitedHealth Group, Inc.   H1278005000   \n",
       "386  TX: San Antonio          CVS Health Corporation   H2293019000   \n",
       "\n",
       "    Implant Coverage (Y/N) Root Canal Coverage (Y/N) Healthy Food Rollover  \\\n",
       "0                        Y                         Y                     N   \n",
       "1                        Y                         Y                     N   \n",
       "2                        Y                         Y                     N   \n",
       "3                        N                         Y                     N   \n",
       "4                        N                         Y                     Y   \n",
       "..                     ...                       ...                   ...   \n",
       "382                      N                         Y                     N   \n",
       "383                      N                         Y                     N   \n",
       "384                      Y                         Y                     N   \n",
       "385                      Y                         Y                     N   \n",
       "386                      N                         Y                     N   \n",
       "\n",
       "    OTC Rollover (Y/N)    state  \\\n",
       "0                    N  Alabama   \n",
       "1                    N  Alabama   \n",
       "2                    N  Alabama   \n",
       "3                    N  Alabama   \n",
       "4                    Y  Alabama   \n",
       "..                 ...      ...   \n",
       "382                  N    Texas   \n",
       "383                  N    Texas   \n",
       "384                  N    Texas   \n",
       "385                  N    Texas   \n",
       "386                  N    Texas   \n",
       "\n",
       "                                                  file  \\\n",
       "0            H0432009000UHCALBirminghamFullDualEOC.pdf   \n",
       "1            H0432009000UHCALBirminghamFullDualEOC.pdf   \n",
       "2         H2802044000UHCALBirminghamPartialDualEOC.pdf   \n",
       "3              CignaTotalCareHMODSNPEOCH4513055000.pdf   \n",
       "4                                 H5619093000EOC23.pdf   \n",
       "..                                                 ...   \n",
       "382  H0174009WellcareTexasAustinWellcareAssist(HMO)...   \n",
       "383  H7115003000MemorialHermannAdvantagePlusHMOEOC.pdf   \n",
       "384              H0332008000GoldCommunityHMOPOSEOC.pdf   \n",
       "385               H1278005000UHCTXSanAntonioPPOEOC.pdf   \n",
       "386  H2293019000AetnaTXSanAntonioAetnaMedicareFreed...   \n",
       "\n",
       "                                                  text contract_plan_file  \\\n",
       "0    Evidence of \\nCoverage 2023\\nUnitedHealthcare ...        H0432009000   \n",
       "1    Evidence of \\nCoverage 2023\\nUnitedHealthcare ...        H0432009000   \n",
       "2    Evidence of \\nCoverage 2023\\nUnitedHealthcare ...        H2802044000   \n",
       "3    January 1 - December 31, 2023\\nEVIDENCE OF COV...        H4513055000   \n",
       "4    H5619_EOC_MAPD_HMO_093000_2023_C\\nH5619093000E...        H5619093000   \n",
       "..                                                 ...                ...   \n",
       "382  H0174_009_2023_TX_EOC_HMAPD_105873E_C \\nOMB Ap...               None   \n",
       "383  Memorial Hermann Advantage Plus HMO\\n2023 Evid...        H7115003000   \n",
       "384  H0332_001EOC22_C\\n1-866-535-8343 (TTY: 711)   ...        H0332008000   \n",
       "385  Evidence of \\nCoverage 2023\\nAARP® Medicare Ad...        H1278005000   \n",
       "386  2023 Evidence of Coverage for Aetna Medicare F...        H2293019000   \n",
       "\n",
       "    contract_plan_text                                       text_cleaned  \n",
       "0                 None  to the preventive services in the benefits cha...  \n",
       "1                 None  to the preventive services in the benefits cha...  \n",
       "2                 None  to the preventive services in the benefits cha...  \n",
       "3                 None  to the preventive services in the benefits cha...  \n",
       "4          H5619093000  to the preventive services in the benefits cha...  \n",
       "..                 ...                                                ...  \n",
       "382        H0174009000  to the preventive services in the benefits cha...  \n",
       "383               None  to the preventive services in the benefits cha...  \n",
       "384               None  to the preventive services in the benefits cha...  \n",
       "385               None  to the preventive services in the benefits cha...  \n",
       "386               None  to the preventive services in the benefits cha...  \n",
       "\n",
       "[387 rows x 13 columns]"
      ]
     },
     "execution_count": 20,
     "metadata": {},
     "output_type": "execute_result"
    }
   ],
   "source": [
    "dataset"
   ]
  },
  {
   "cell_type": "code",
   "execution_count": 22,
   "metadata": {},
   "outputs": [],
   "source": [
    "docs = dataset[\"text_cleaned\"].to_list()"
   ]
  },
  {
   "cell_type": "markdown",
   "metadata": {},
   "source": [
    "### Summaries"
   ]
  },
  {
   "cell_type": "code",
   "execution_count": 21,
   "metadata": {},
   "outputs": [],
   "source": [
    "model = BartForConditionalGeneration.from_pretrained(\"facebook/bart-large-cnn\")\n",
    "tokenizer = AutoTokenizer.from_pretrained(\"facebook/bart-large-cnn\")\n",
    "\n",
    "pipe = pipeline(\n",
    "    \"summarization\",\n",
    "    model = model,\n",
    "    tokenizer = tokenizer,\n",
    "    min_length = 5,\n",
    "    max_length = 21\n",
    "    )\n",
    "\n",
    "llm = HuggingFacePipeline(pipeline = pipe)\n",
    "\n",
    "text_splitter = RecursiveCharacterTextSplitter.from_huggingface_tokenizer(tokenizer, chunk_size = 1024, chunk_overlap = 0)"
   ]
  },
  {
   "cell_type": "code",
   "execution_count": 3,
   "metadata": {},
   "outputs": [],
   "source": [
    "def summarize(doc):\n",
    "    texts = text_splitter.split_text(doc)\n",
    "    docs = [Document(page_content = t) for t in texts[:]]\n",
    "    chain = load_summarize_chain(llm, chain_type = \"map_reduce\")\n",
    "    output_summary = chain.run(docs)\n",
    "    return output_summary"
   ]
  },
  {
   "cell_type": "code",
   "execution_count": 12,
   "metadata": {},
   "outputs": [],
   "source": [
    "dataset_file = open('docs.pkl', 'rb')\n",
    "docs = pickle.load(dataset_file)\n",
    "dataset_file.close()"
   ]
  },
  {
   "cell_type": "code",
   "execution_count": 11,
   "metadata": {},
   "outputs": [
    {
     "data": {
      "text/html": [
       "<div>\n",
       "<style scoped>\n",
       "    .dataframe tbody tr th:only-of-type {\n",
       "        vertical-align: middle;\n",
       "    }\n",
       "\n",
       "    .dataframe tbody tr th {\n",
       "        vertical-align: top;\n",
       "    }\n",
       "\n",
       "    .dataframe thead th {\n",
       "        text-align: right;\n",
       "    }\n",
       "</style>\n",
       "<table border=\"1\" class=\"dataframe\">\n",
       "  <thead>\n",
       "    <tr style=\"text-align: right;\">\n",
       "      <th></th>\n",
       "      <th>county</th>\n",
       "      <th>provider</th>\n",
       "      <th>contract_plan</th>\n",
       "      <th>annual_max</th>\n",
       "      <th>implant_coverage</th>\n",
       "      <th>root_canal</th>\n",
       "      <th>healthy_food_rollover</th>\n",
       "      <th>otc_rollover</th>\n",
       "      <th>state</th>\n",
       "      <th>text</th>\n",
       "    </tr>\n",
       "  </thead>\n",
       "  <tbody>\n",
       "    <tr>\n",
       "      <th>191</th>\n",
       "      <td>FL: Manatee</td>\n",
       "      <td>Humana Inc.</td>\n",
       "      <td>H1036074000</td>\n",
       "      <td>$2,000</td>\n",
       "      <td>N</td>\n",
       "      <td>Y</td>\n",
       "      <td>N</td>\n",
       "      <td>Y</td>\n",
       "      <td>Florida</td>\n",
       "      <td>H1036_EOC_MAPD_HMO_074000_2023_C\\nH1036074000E...</td>\n",
       "    </tr>\n",
       "  </tbody>\n",
       "</table>\n",
       "</div>"
      ],
      "text/plain": [
       "          county     provider contract_plan annual_max implant_coverage  \\\n",
       "191  FL: Manatee  Humana Inc.   H1036074000     $2,000                N   \n",
       "\n",
       "    root_canal healthy_food_rollover otc_rollover    state  \\\n",
       "191          Y                     N            Y  Florida   \n",
       "\n",
       "                                                  text  \n",
       "191  H1036_EOC_MAPD_HMO_074000_2023_C\\nH1036074000E...  "
      ]
     },
     "execution_count": 11,
     "metadata": {},
     "output_type": "execute_result"
    }
   ],
   "source": [
    "docs[docs['contract_plan'] == 'H1036074000'] "
   ]
  },
  {
   "cell_type": "code",
   "execution_count": 22,
   "metadata": {},
   "outputs": [
    {
     "data": {
      "text/plain": [
       "'to the preventive services in the benefits chart.  \\n \\nMedical Benefits Chart \\n \\nServices that are covered for you\\nWhat you must pay \\nwhen you get these \\nservices in‑network\\nWhat you must pay \\nwhen you get these \\nservices out‑of‑network\\n* Services with an asterisk do not apply to your in‑network or combined out‑of‑pocket maximum.\\n Abdominal aortic aneurysm screening \\nA one‑time screening ultrasound for people at \\nrisk. The plan only covers this screening if you \\nhave certain risk factors and if you get a referral \\nfor it from your physician, physician assistant, \\nnurse practitioner, or clinical nurse specialist.\\nThere is no coinsurance, \\ncopayment, or deductible \\nfor members eligible for \\nthis preventive screening.\\n$0 copay for members \\neligible for this preventive \\nscreening.\\nAcupuncture for chronic low back pain \\nCovered services include:\\nUp to 12 visits in 90 days are covered for \\nMedicare beneficiaries under the following \\ncircumstances:\\n \\nFor the purpose of this benefit, chronic low back \\npain is defined as:\\nLasting 12 weeks or longer;\\n•\\nnonspecific, in that it has no identifiable \\nsystemic cause (i.e., not associated with \\nmetastatic, inflammatory, infectious, \\ndisease, etc.);\\n•\\nnot associated with surgery; and\\n•\\nnot associated with pregnancy.\\n•\\n \\nAn additional eight sessions will be covered for \\nthose patients demonstrating an improvement. \\nNo more than 20 acupuncture treatments may \\nbe administered annually. \\n \\nTreatment must be discontinued if the patient is \\nnot improving or is regressing. \\n \\nProvider Requirements: \\nPhysicians (as defined in 1861(r)(1) of the Social \\nSecurity Act (the Act)) may furnish acupuncture \\nin accordance with applicable state \\nrequirements.  \\n$35 copay for each \\nMedicare‑covered \\nacupuncture visit.\\n$70 copay for each \\nMedicare‑covered \\nacupuncture visit.\\n\\n\\n2023 Evidence of Coverage for Aetna Medicare Premier Plus (PPO)\\n48\\nChapter  4   Medical Benefits Chart (what is covered and what you pay)\\nServices that are covered for you\\nWhat you must pay \\nwhen you get these \\nservices in‑network\\nWhat you must pay \\nwhen you get these \\nservices out‑of‑network\\n* Services with an asterisk do not apply to your in‑network or combined out‑of‑pocket maximum.\\n \\nPhysician assistants (PAs), nurse practitioners \\n(NPs)/clinical nurse specialists (CNSs) (as \\nidentified in 1861(aa)(5) of the Act), and auxiliary \\npersonnel may furnish acupuncture if they meet \\nall applicable state requirements and have:\\na masters or doctoral level degree in \\nacupuncture or Oriental Medicine from a \\nschool accredited by the Accreditation \\nCommission on Acupuncture and Oriental \\nMedicine (ACAOM); and,\\n•\\na current, full, active, and unrestricted \\nlicense to practice acupuncture in a State, \\nTerritory, or Commonwealth (i.e., Puerto \\nRico) of the United States, or District of \\nColumbia.\\n•\\n \\nAuxiliary personnel furnishing acupuncture must \\nbe under the appropriate level of supervision of a \\nphysician, PA, or NP/CNS required by our \\nregulations at 42 CFR §§ 410.26 and 410.27.\\nAmbulance services \\nCovered ambulance services include fixed \\nwing, rotary wing, and ground ambulance \\nservices, to the nearest appropriate facility \\nthat can provide care only if they are \\nfurnished to a member whose medical \\ncondition is such that other means of \\ntransportation could endanger the \\nperson’s health or if authorized by the \\nplan.  \\n•\\nNon‑emergency transportation by \\nambulance is appropriate if it is \\ndocumented that the member’s condition \\nis such that other means of transportation \\ncould endanger the person’s health and \\nthat transportation by ambulance is \\nmedically required.\\n•\\n \\n$235 copay for each \\nMedicare‑covered \\none‑way trip via ground \\nambulance.  \\n \\n$235 copay for each \\nMedicare‑covered \\none‑way trip via air \\nambulance.  \\n \\nGround or air ambulance \\ncost‑sharing is not \\nwaived if you are \\nadmitted to the hospital.\\n$235 copay for each \\nMedicare‑covered \\none‑way trip via ground \\nambulance. \\n \\n$235 copay for each \\nMedicare‑covered \\none‑way trip via air \\nambulance.  \\n \\nGround or air ambulance \\ncost‑sharing is not \\nwaived if you are \\nadmitted to the hospital.\\n\\n\\n2023 Evidence of Coverage for Aetna Medicare Premier Plus (PPO)\\n49\\nChapter  4   Medical Benefits Chart (what is covered and what you pay)\\nServices that are covered for you\\nWhat you must pay \\nwhen you get these \\nservices in‑network\\nWhat you must pay \\nwhen you get these \\nservices out‑of‑network\\n* Services with an asterisk do not apply to your in‑network or combined out‑of‑pocket maximum.\\nPrior authorization is required for \\nnon‑emergency transportation by fixed‑wing \\naircraft.\\nAnnual routine physical \\nThe annual routine physical is an extensive \\nphysical exam including a medical history \\ncollection and it may also include any of the \\nfollowing: vital signs, observation of general \\nappearance, a head and neck exam, a heart and \\nlung exam, an abdominal exam, a neurological \\nexam, a dermatological exam, and an \\nextremities exam.  \\n \\nCoverage for this non‑Medicare covered benefit \\nis in addition to the Medicare‑covered annual \\nwellness visit and the “Welcome to Medicare” \\npreventive visit. You may schedule your annual \\nroutine physical once each calendar year.  \\n \\nPreventive labs, screenings, and/or diagnostic \\ntests received during this visit are subject to your \\nlab and diagnostic test coverage. Please see \\n“Outpatient diagnostic tests and therapeutic \\nservices and supplies” for more information. \\n$0 copay for an annual \\nroutine physical exam.\\n \\n50% coinsurance for an \\nannual routine physical \\nexam.\\n \\n Annual wellness visit \\nIf you’ve had Part B for longer than 12 months, \\nyou can get an annual wellness visit to develop \\nor update a personalized prevention plan based \\non your current health and risk factors. Our plan \\nwill cover the annual wellness visit once each \\ncalendar year. \\n \\nNote: Your first annual wellness visit can’t take \\nplace within 12 months of your “Welcome to \\nMedicare” preventive visit. However, you don’t \\nneed to have had a “Welcome to Medicare” visit \\nto be covered for annual wellness visits after \\nyou’ve had Part B for 12 months. \\nThere is no coinsurance, \\ncopayment, or deductible \\nfor the annual wellness \\nvisit.\\n$0 copay for the annual \\nwellness visit.\\n Bone mass measurement \\nFor qualified individuals (generally, this means \\nThere is no coinsurance, \\ncopayment, or deductible \\n$0 copay for \\nMedicare‑covered bone \\n\\n\\n2023 Evidence of Coverage for Aetna Medicare Premier Plus (PPO)\\n50\\nChapter  4   Medical Benefits Chart (what is covered and what you pay)\\nServices that are covered for you\\nWhat you must pay \\nwhen you get these \\nservices in‑network\\nWhat you must pay \\nwhen you get these \\nservices out‑of‑network\\n* Services with an asterisk do not apply to your in‑network or combined out‑of‑pocket maximum.\\npeople at risk of losing bone mass or at risk of \\nosteoporosis), the following services are covered \\nevery 24 months or more frequently if medically \\nnecessary: procedures to identify bone mass, \\ndetect bone loss, or determine bone quality, \\nincluding a physician’s interpretation of the \\nresults. \\nfor Medicare‑covered \\nbone mass \\nmeasurement.\\nmass measurement.\\n Breast cancer screening (mammograms) \\nCovered services include:\\nOne baseline mammogram between the \\nages of 35 and 39\\n•\\nOne screening mammogram each \\ncalendar year for women aged 40 and \\nolder\\n•\\nClinical breast exams once every 24 \\nmonths\\n•\\nThere is no coinsurance, \\ncopayment, or deductible \\nfor covered screening \\nmammograms. \\n \\n$0 copay for each \\ndiagnostic mammogram.\\n$0 copay for covered \\nscreening mammograms. \\n \\n50% coinsurance for \\neach diagnostic \\nmammogram.\\nCardiac rehabilitation services \\nComprehensive programs of cardiac \\nrehabilitation services that include exercise, \\neducation, and counseling are covered for \\nmembers who meet certain conditions with a \\ndoctor’s order. The plan also covers intensive \\ncardiac rehabilitation programs that are typically \\nmore rigorous or more intense than cardiac \\nrehabilitation programs.\\n$20 copay for each \\nMedicare‑covered \\ncardiac rehabilitation \\nservice. \\n \\n$20 copay for each \\nMedicare‑covered \\nintensive cardiac \\nrehabilitation service.\\n50% coinsurance for \\neach Medicare‑covered \\ncardiac rehabilitation \\nservice. \\n \\n50% coinsurance for \\neach Medicare‑covered \\nintensive cardiac \\nrehabilitation service.\\n Cardiovascular disease risk reduction visit \\n(therapy for cardiovascular disease) \\nWe cover one visit per year with your primary \\ncare doctor to help lower your risk for \\ncardiovascular disease. During this visit, your \\ndoctor may discuss aspirin use (if appropriate), \\ncheck your blood pressure, and give you tips to \\nmake sure you’re eating healthy.\\nThere is no coinsurance, \\ncopayment, or deductible \\nfor the intensive \\nbehavioral therapy \\ncardiovascular disease \\npreventive benefit.\\n$0 copay for the \\nintensive behavioral \\ntherapy cardiovascular \\ndisease preventive \\nbenefit.\\n Cardiovascular disease testing \\nBlood tests for the detection of cardiovascular \\ndisease (or abnormalities associated with an \\nelevated risk of cardiovascular disease) once \\nThere is no coinsurance, \\ncopayment, or deductible \\nfor cardiovascular \\ndisease testing that is \\ncovered once every 5 \\n$0 copay for \\ncardiovascular disease \\ntesting that is covered \\nonce every 5 years.\\n\\n\\n2023 Evidence of Coverage for Aetna Medicare Premier Plus (PPO)\\n51\\nChapter  4   Medical Benefits Chart (what is covered and what you pay)\\nServices that are covered for you\\nWhat you must pay \\nwhen you get these \\nservices in‑network\\nWhat you must pay \\nwhen you get these \\nservices out‑of‑network\\n* Services with an asterisk do not apply to your in‑network or combined out‑of‑pocket maximum.\\nevery 5 years (60 months).  \\nyears.\\n Cervical and vaginal cancer screening \\nCovered services include: \\nFor all women: Pap tests and pelvic exams \\nare covered once every 24 months\\n•\\nIf you are at high risk of cervical or vaginal \\ncancer or you are of childbearing age \\nand have had an abnormal Pap test within \\nthe past 3 years: one Pap test every 12 \\nmonths\\n•\\nThere is no coinsurance, \\ncopayment, or deductible \\nfor Medicare‑covered \\npreventive Pap and pelvic \\nexams.\\n$0 copay for \\nMedicare‑covered \\npreventive Pap and pelvic \\nexams.\\nChiropractic services \\nCovered services include:\\nWe cover only manual manipulation of the \\nspine to correct subluxation\\n•\\n \\nPrior authorization may be required and is the \\nresponsibility of your provider.\\n$20 copay for each \\nMedicare‑covered \\nchiropractic visit.  \\n \\n50% coinsurance for \\neach Medicare‑covered \\nchiropractic visit. \\n Colorectal cancer screening \\nFor people 50 and older, the following are \\ncovered: \\nFlexible sigmoidoscopy (or screening \\nbarium enema as an alternative) every 48 \\nmonths\\n•\\n \\nTwo of each of the following per calendar year:  \\nGuaiac‑based fecal occult blood test \\n(gFOBT)\\n•\\nFecal immunochemical test (FIT)\\n•\\n \\nDNA based colorectal screening every 3 years  \\n \\nFor people at high risk of colorectal cancer, we \\ncover: \\nThere is no coinsurance, \\ncopayment, or deductible \\nfor a Medicare‑covered \\ncolorectal cancer \\nscreening exam. \\n \\n$0 copay for each \\nMedicare‑covered \\nscreening barium enema. \\n \\nIf a polyp is removed or a \\nbiopsy is performed \\nduring a \\nMedicare‑covered \\nscreening colonoscopy, \\nthe polyp removal and \\nassociated pathology will \\nbe covered at $0 copay \\nas these procedures \\nwere performed during a \\n$0 copay for a \\nMedicare‑covered \\ncolorectal cancer \\nscreening exam. \\n \\n50% coinsurance for \\neach Medicare‑covered \\nscreening barium enema.\\n \\nIf a polyp is removed or a \\nbiopsy is performed \\nduring a \\nMedicare‑covered \\nscreening colonoscopy, \\nthe polyp removal and \\nassociated pathology will \\nbe covered subject to the \\noutpatient surgery \\ncost‑sharing. \\n \\n\\n\\n2023 Evidence of Coverage for Aetna Medicare Premier Plus (PPO)\\n52\\nChapter  4   Medical Benefits Chart (what is covered and what you pay)\\nServices that are covered for you\\nWhat you must pay \\nwhen you get these \\nservices in‑network\\nWhat you must pay \\nwhen you get these \\nservices out‑of‑network\\n* Services with an asterisk do not apply to your in‑network or combined out‑of‑pocket maximum.\\nScreening colonoscopy (or screening \\nbarium enema as an alternative) every 24 \\nmonths\\n•\\n \\nFor people not at high risk of colorectal cancer, \\nwe cover: \\nScreening colonoscopy every 10 years (120 \\nmonths), but not within 48 months of a \\nscreening sigmoidoscopy\\n•\\npreventive service. \\n \\nDiagnostic colonoscopy \\nis covered at $0 copay \\nwhen you schedule a \\ndiagnostic colonoscopy \\nafter having a \\nGuaiac‑based fecal \\noccult blood test (gFOBT) \\nor Fecal \\nimmunochemical test \\n(FIT). \\n \\nIf you have had polyps \\nremoved during a \\nprevious colonoscopy or \\nhave a condition that is \\nmonitored via \\ncolonoscopy (such as a \\nprior history of colon \\ncancer), ongoing \\ncolonoscopies are \\nconsidered diagnostic, \\nand are subject to the \\noutpatient surgery \\ncost‑sharing. (See \\n“Outpatient surgery, \\nincluding services \\nprovided at hospital \\noutpatient facilities and \\nambulatory surgical \\ncenters” for more \\ninformation.)\\nDiagnostic colonoscopy \\nis subject to the \\nOutpatient surgery \\ncost‑sharing, including \\nservices provided at \\nhospital outpatient \\nfacilities and ambulatory \\nsurgical centers copay \\nwhen you schedule a \\ndiagnostic colonoscopy \\nafter having a \\nGuaiac‑based fecal \\noccult blood test (gFOBT) \\nor Fecal \\nimmunochemical test \\n(FIT). \\n \\nIf you have had polyps \\nremoved during a \\nprevious colonoscopy or \\nhave a condition that is \\nmonitored via \\ncolonoscopy (such as a \\nprior history of colon \\ncancer), ongoing \\ncolonoscopies are \\nconsidered diagnostic, \\nand are subject to the \\noutpatient surgery \\ncost‑sharing. (See \\n“Outpatient surgery, \\nincluding services \\nprovided at hospital \\noutpatient facilities and \\nambulatory surgical \\ncenters” for more \\ninformation.)\\nDental services (additional) \\nIn general, preventive dental services (such as \\ncleaning, routine dental exams, and dental \\nx‑rays) are not covered by Original Medicare. We \\ncover:\\nYour benefit covers most \\ndental treatments with \\nthe exception of cosmetic \\nservices. You will be \\nrequired to pay for \\nYou will be required to \\npay for services up front \\nand submit for \\nreimbursement. \\n \\n\\n\\n2023 Evidence of Coverage for Aetna Medicare Premier Plus (PPO)\\n53\\nChapter  4   Medical Benefits Chart (what is covered and what you pay)\\nServices that are covered for you\\nWhat you must pay \\nwhen you get these \\nservices in‑network\\nWhat you must pay \\nwhen you get these \\nservices out‑of‑network\\n* Services with an asterisk do not apply to your in‑network or combined out‑of‑pocket maximum.\\nPreventive dental services\\n•\\nOral exams*\\n○\\nCleanings*\\n○\\nFluoride treatments*\\n○\\nDental x‑rays*\\n○\\nComprehensive dental services\\n•\\nNon‑routine services*\\n○\\nDiagnostic services*\\n○\\nRestorative services*\\n○\\nEndodontics services*\\n○\\nPeriodontics services*\\n○\\nExtractions*\\n○\\nProsthodontics and maxillofacial \\nservices*\\n○\\nPlan reimburses up to $1,600 every year for \\nnon‑Medicare covered preventive dental \\nservices and non‑Medicare covered \\ncomprehensive dental services combined. You \\nare responsible for any amount above the dental \\ncoverage limit. \\n \\nYour benefit covers most dental treatments with \\nthe exception of cosmetic services.\\n \\nYou may see any licensed dental provider in the \\nU.S. \\n \\nIf you are asking for reimbursement for your \\ndental services, you must: \\n1. Complete the medical reimbursement form. \\nThe form can be found on our website or you can \\ncall Member Services for a copy. \\n2. Get all receipts and itemized bills from your \\nproviders, along with proof of your payments. \\n3. Write your member ID number on each receipt \\nand itemized bill. \\n4. Make copies of your documents. They will not \\nbe returned to you. \\n5. Submit the medical reimbursement form, your \\nservices up front and \\nsubmit for \\nreimbursement. \\n \\nNon‑Medicare covered \\npreventive dental \\nservices: \\n• Oral exams: $0 copay \\n• Cleanings: $0 copay \\n• Fluoride treatments: $0 \\ncopay \\n• Dental x‑rays: $0 copay \\n \\nNon‑Medicare covered \\ncomprehensive dental \\nservices: \\n• Non‑routine services: \\n$0 copay \\n• Diagnostic services: $0 \\ncopay \\n• Restorative services: $0 \\ncopay \\n• Endodontics: $0 copay \\n• Periodontics: $0 copay \\n• Extractions: $0 copay \\n• Prosthodontics and \\nmaxillofacial services: $0 \\ncopay \\n \\n(See \\n“Physician/Practitioner \\nservices, including \\ndoctor’s office visits” for \\ninformation about \\nMedicare‑covered dental \\nservices.)\\nNon‑Medicare covered \\npreventive dental \\nservices: \\n• $0 copay \\n \\nNon‑Medicare covered \\ncomprehensive dental \\nservices: \\n• $0 copay \\n \\n(See \\n“Physician/Practitioner \\nservices, including \\ndoctor’s office visits” for \\ninformation about \\nMedicare‑covered dental \\nservices.)\\n\\n\\n2023 Evidence of Coverage for Aetna Medicare Premier Plus (PPO)\\n54\\nChapter  4   Medical Benefits Chart (what is covered and what you pay)\\nServices that are covered for you\\nWhat you must pay \\nwhen you get these \\nservices in‑network\\nWhat you must pay \\nwhen you get these \\nservices out‑of‑network\\n* Services with an asterisk do not apply to your in‑network or combined out‑of‑pocket maximum.\\nreceipts, itemized bills, and proof of payment to \\nus. \\n \\nWhere to send your information: \\n1. Please see the Payment Request – Contact \\nInformation section in Chapter 2 of the Evidence \\nof Coverage. Or, you can complete the digital \\nform on our website and upload your \\ndocumentation. \\n \\nProcessing time: \\nOnce we have received all of the necessary \\ninformation, we will evaluate your claim for \\nreimbursement. If approved, it can take up to 45 \\ndays for you to receive payment. If your request \\nis incomplete, we will notify you by mail. You will \\nthen have to supply the missing information, \\nwhich delays the processing time. Your \\ndocumentation must be submitted within 365 \\ndays of the date of service to be eligible for \\nreimbursement. \\n \\nNote: \\n1. If you use a non‑licensed provider, you will not \\nreceive reimbursement.\\n \\n Depression screening \\nWe cover one screening for depression per year. \\nThe screening must be done in a primary care \\nsetting that can provide follow‑up treatment \\nand/or referrals. \\nThere is no coinsurance, \\ncopayment, or deductible \\nfor an annual depression \\nscreening visit.\\n$0 copay for an annual \\ndepression screening \\nvisit.\\n Diabetes screening \\nWe cover this screening (includes fasting \\nglucose tests) if you have any of the following \\nrisk factors: high blood pressure (hypertension), \\nhistory of abnormal cholesterol and triglyceride \\nlevels (dyslipidemia), obesity, or a history of high \\nblood sugar (glucose). Tests may also be \\ncovered if you meet other requirements, like \\nbeing overweight and having a family history of \\ndiabetes. \\nThere is no coinsurance, \\ncopayment, or deductible \\nfor the Medicare‑covered \\ndiabetes screening tests.\\n$0 copay for the \\nMedicare‑covered \\ndiabetes screening tests.\\n \\n\\n\\n2023 Evidence of Coverage for Aetna Medicare Premier Plus (PPO)\\n55\\nChapter  4   Medical Benefits Chart (what is covered and what you pay)\\nServices that are covered for you\\nWhat you must pay \\nwhen you get these \\nservices in‑network\\nWhat you must pay \\nwhen you get these \\nservices out‑of‑network\\n* Services with an asterisk do not apply to your in‑network or combined out‑of‑pocket maximum.\\n \\nBased on the results of these tests, you may be \\neligible for up to two diabetes screenings every \\n12 months.\\n Diabetes self‑management training, \\ndiabetic services and supplies \\nFor all people who have diabetes (insulin and \\nnon‑insulin users). Covered services include:\\nSupplies to monitor your blood glucose: \\nBlood glucose monitor, blood glucose test \\nstrips, lancet devices and lancets, and \\nglucose‑control solutions for checking the \\naccuracy of test strips and monitors.\\n•\\nFor people with diabetes who have severe \\ndiabetic foot disease: One pair per \\ncalendar year of therapeutic \\ncustom‑molded shoes (including inserts \\nprovided with such shoes) and two \\nadditional pairs of inserts, or one pair of \\ndepth shoes and three pairs of inserts (not \\nincluding the non‑customized removable \\ninserts provided with such shoes). \\nCoverage includes fitting.\\n•\\nDiabetes self‑management training is \\ncovered under certain conditions.\\n•\\n \\nNotes: \\nWe cover diabetic supplies made by \\nOneTouch/LifeScan. We exclusively cover \\nOneTouch/LifeScan glucose monitors and \\ntest strips. We also cover \\nOneTouch/LifeScan lancets, solutions and \\nlancing devices. You should order your \\nLifeScan starter kit, including the model of \\nmeter you prefer, by contacting LifeScan \\ndirectly at 1‑877‑764‑5390. Use order \\ncode: 123AET200. LifeScan will send you a \\nstarter kit in the mail that includes the \\n•\\n0% ‑ 20% coinsurance \\nfor each \\nMedicare‑covered supply \\nto monitor blood glucose.\\n0% coinsurance for \\nOneTouch/LifeScan \\nsupplies, including test \\nstrips, glucose \\nmonitors, solutions, \\nlancets and lancing \\ndevices.\\n•\\n20% coinsurance for \\nnon‑OneTouch/LifeSc\\nan supplies, including \\ntest strips, glucose \\nmonitors, solutions, \\nlancets and lancing \\ndevices, with a \\nmedical exception.\\n•\\n \\n0% coinsurance for \\nMedicare‑covered \\ndiabetic shoes and \\ninserts.  \\n \\n$0 copay for \\nMedicare‑covered \\ndiabetes \\nself‑management \\ntraining.\\n0% ‑ 20% coinsurance \\nfor each \\nMedicare‑covered supply \\nto monitor blood glucose.\\n0% coinsurance for \\nOneTouch/LifeScan \\nsupplies, including test \\nstrips, glucose \\nmonitors, solutions, \\nlancets and lancing \\ndevices.\\n•\\n20% coinsurance for \\nnon‑OneTouch/LifeSc\\nan supplies, including \\ntest strips, glucose \\nmonitors, solutions, \\nlancets and lancing \\ndevices, with a \\nmedical exception.\\n•\\n \\n20% coinsurance for \\nMedicare‑covered \\ndiabetic shoes and \\ninserts. \\n \\n50% coinsurance for \\nMedicare‑covered \\ndiabetes \\nself‑management \\ntraining.\\n\\n\\n2023 Evidence of Coverage for Aetna Medicare Premier Plus (PPO)\\n56\\nChapter  4   Medical Benefits Chart (what is covered and what you pay)\\nServices that are covered for you\\nWhat you must pay \\nwhen you get these \\nservices in‑network\\nWhat you must pay \\nwhen you get these \\nservices out‑of‑network\\n* Services with an asterisk do not apply to your in‑network or combined out‑of‑pocket maximum.\\nmeter you selected, a small supply of \\nlancets and test strips, as well as usage \\nand educational materials. You should also \\nreach out to your physician to obtain a \\nprescription for LifeScan test strips that \\nyou can fill at your network pharmacy.\\nWe do not cover other brands of monitors \\nand test strips unless you or your provider \\nrequests a medical exception and it is \\napproved. If the medical exception is \\napproved, a 20% coinsurance will apply.\\n•\\nNon‑LifeScan monitors and test strips \\nwithout a medical exception, or a medical \\nexception that is not approved, will not be \\ncovered.\\n•\\n \\nPrior authorization is required for more than \\none blood glucose monitor per year and/or \\ntest strips in excess of 100 strips per 30 days. \\n \\nPrior authorization may be required for \\ndiabetic shoes and inserts. \\n \\nPrior authorization is the responsibility of your \\nprovider.\\nDurable medical equipment (DME) and related \\nsupplies \\n(For a definition of “durable medical equipment,” \\nsee Chapter 12 as well as Chapter 3, Section 7 of \\nthis document.) \\n \\nCovered items include, but are not limited to: \\nwheelchairs, crutches, powered mattress \\nsystems, diabetic supplies, hospital beds \\nordered by a provider for use in the home, IV \\ninfusion pumps, speech generating devices, \\noxygen equipment, nebulizers, and walkers.\\n \\nWe cover all medically necessary DME covered \\nby Original Medicare. If our supplier in your area \\n0% ‑ 20% coinsurance \\nfor each \\nMedicare‑covered \\ndurable medical \\nequipment item.\\n0% coinsurance for \\ncontinuous glucose \\nmeters.\\n•\\n20% coinsurance \\nfor all other \\nMedicare‑covered \\nDME items.\\n•\\n \\n \\n50% coinsurance for \\neach Medicare‑covered \\ndurable medical \\nequipment item.\\n\\n\\n2023 Evidence of Coverage for Aetna Medicare Premier Plus (PPO)\\n57\\nChapter  4   Medical Benefits Chart (what is covered and what you pay)\\nServices that are covered for you\\nWhat you must pay \\nwhen you get these \\nservices in‑network\\nWhat you must pay \\nwhen you get these \\nservices out‑of‑network\\n* Services with an asterisk do not apply to your in‑network or combined out‑of‑pocket maximum.\\ndoes not carry a particular brand or \\nmanufacturer, you may ask them if they can \\nspecial order it for you. The most recent list of \\nsuppliers is available on our website at: \\nAetnaMedicare.com/findprovider.  \\n \\nPrior authorization may be required and is the \\nresponsibility of your provider.\\n$110 copay for \\nemergency care. \\n \\nCost‑sharing is waived if \\nyou are admitted to the \\nhospital within 24 hours. \\n \\n$110 copay for \\nemergency care \\nworldwide (i.e., outside \\nthe United States). \\n \\nCost‑sharing is waived if \\nyou are admitted to the \\nhospital. \\n \\n$235 copay for one‑way \\nemergency ambulance \\nservices worldwide (i.e., \\noutside the United \\nStates).  \\n \\nCost‑sharing is not \\nwaived if you are \\nadmitted to the hospital.\\n \\nIf you receive emergency \\ncare at an out‑of‑network \\nhospital and need \\ninpatient care after your \\nemergency condition is \\nstabilized, you must \\nmove to a network \\nhospital in order to pay \\n$110 copay for \\nemergency care. \\n \\nCost‑sharing is waived if \\nyou are admitted to the \\nhospital within 24 hours. \\n \\n$110 copay for \\nemergency care \\nworldwide (i.e., outside \\nthe United States). \\n \\nCost‑sharing is waived if \\nyou are admitted to the \\nhospital. \\n \\n$235 copay for one‑way \\nemergency ambulance \\nservices worldwide (i.e., \\noutside the United \\nStates).  \\n \\nCost‑sharing is not \\nwaived if you are \\nadmitted to the hospital.\\n \\nIf you receive emergency \\ncare at an out‑of‑network \\nhospital and need \\ninpatient care after your \\nemergency condition is \\nstabilized, you must \\nmove to a network \\nhospital in order to pay \\nEmergency care \\nEmergency care refers to services that are:\\nFurnished by a provider qualified to furnish \\nemergency services, and\\n•\\nNeeded to evaluate or stabilize an \\nemergency medical condition.\\n•\\n \\nA medical emergency is when you, or any other \\nprudent layperson with an average knowledge of \\nhealth and medicine, believe that you have \\nmedical symptoms that require immediate \\nmedical attention to prevent loss of life (and, if \\nyou are a pregnant woman, loss of an unborn \\nchild), loss of a limb, or loss of function of a limb. \\nThe medical symptoms may be an illness, injury, \\nsevere pain, or a medical condition that is quickly \\ngetting worse.\\n \\nCost sharing for necessary emergency services \\nfurnished out‑of‑network is the same as for such \\nservices furnished in‑network.\\n \\nIn addition to Medicare‑covered benefits, we \\nalso offer:\\nEmergency care (worldwide)\\n•\\nEmergency ambulance services \\n(worldwide)\\n•\\n\\n\\n2023 Evidence of Coverage for Aetna Medicare Premier Plus (PPO)\\n58\\nChapter  4   Medical Benefits Chart (what is covered and what you pay)\\nServices that are covered for you\\nWhat you must pay \\nwhen you get these \\nservices in‑network\\nWhat you must pay \\nwhen you get these \\nservices out‑of‑network\\n* Services with an asterisk do not apply to your in‑network or combined out‑of‑pocket maximum.\\nthe in‑network \\ncost‑sharing amount for \\nthe part of your stay after \\nyou are stabilized. If you \\nstay at the \\nout‑of‑network hospital, \\nyour stay will be covered \\nbut you will pay the \\nout‑of‑network cost \\nsharing amount for the \\npart of your stay after you \\nare stabilized.\\nthe in‑network \\ncost‑sharing amount for \\nthe part of your stay after \\nyou are stabilized. If you \\nstay at the \\nout‑of‑network hospital, \\nyour stay will be covered \\nbut you will pay the \\nout‑of‑network cost \\nsharing amount for the \\npart of your stay after you \\nare stabilized.\\nFitness Program (Physical fitness) \\nYou are covered for a basic membership to any \\nSilverSneakers® participating fitness facility.  \\n \\nAt‑home fitness kits and online classes are also \\navailable if you do not reside near a participating \\nclub or prefer to exercise at home. You may \\norder one fitness kit per year through \\nSilverSneakers. \\n \\nYou will also have access to online enrichment \\nclasses to support your health and wellness, as \\nwell as your mental fitness. Health and wellness \\nclasses include, but are not limited to: cooking, \\nfood & nutrition, and mindfulness. Mental fitness \\nclasses include, but are not limited to: new skills, \\norganization, self help, and staying connected. \\nThese classes can be accessed online by visiting \\nSilverSneakers.com. \\n \\nTo get started, you will need your SilverSneakers \\nID number. Please visit SilverSneakers.com or \\ncall SilverSneakers at 1‑888‑423‑4632 \\n(TTY/TDD: 711) to obtain this ID number. Then, \\nbring this ID number with you when you visit a \\nparticipating fitness facility. Information about \\nparticipating facilities can be found by using the \\nSilverSneakers website or by calling \\nSilverSneakers. \\n$0 copay for health club \\nmembership/fitness \\nclasses.\\n$0 copay for at‑home \\nfitness kits ordered \\nthrough SilverSneakers. \\nThere are no \\nout‑of‑network facilities \\navailable for this benefit. \\n\\n\\n2023 Evidence of Coverage for Aetna Medicare Premier Plus (PPO)\\n59\\nChapter  4   Medical Benefits Chart (what is covered and what you pay)\\nServices that are covered for you\\nWhat you must pay \\nwhen you get these \\nservices in‑network\\nWhat you must pay \\nwhen you get these \\nservices out‑of‑network\\n* Services with an asterisk do not apply to your in‑network or combined out‑of‑pocket maximum.\\n Health and wellness education programs \\nHealth education: Members are eligible to \\nreceive the health education supplemental \\nbenefit to support a healthier lifestyle. This \\nbenefit gives members the opportunity to \\ninteract as a group, one‑on‑one, or \\nvirtually, with a certified health educator or \\nother qualified health professional. \\nMembers may receive educational \\nsupplies such as books and pamphlets to \\naugment their interactive sessions. In \\naddition, members will be encouraged to \\nadopt healthy habits and build skills to \\nenhance self‑care capabilities.\\n•\\n24‑Hour Nurse Line: Talk to a registered \\nnurse 24 hours a day, 7 days a week. \\nPlease call 1‑855‑493‑7019 (For TTY/TDD \\nassistance, please dial 711).\\n•\\n$0 copay for health \\neducation. \\n \\n$0 copay for 24‑Hour \\nNurse Line services. \\n \\nHealth education is \\nincluded in your plan.\\n \\nThe in‑network provider \\nmust be used for the \\n24‑Hour Nurse Line \\nbenefit.\\n \\nHearing services \\nDiagnostic hearing and balance evaluations \\nperformed by your provider to determine if you \\nneed medical treatment are covered as \\noutpatient care when furnished by a physician, \\naudiologist, or other qualified provider. \\n \\nIn addition to Medicare‑covered benefits, we \\nalso offer:\\nRoutine hearing exams: one exam every \\nyear\\n•\\nHearing aid fitting/evaluation: one hearing \\naid fitting/evaluation every year\\n•\\nHearing aids: two hearing aids every year*\\n•\\n \\nNon‑Medicare covered hearing aid maximum \\nbenefit: Plan pays up to $1,250 per ear for \\nhearing aids every year. You are responsible for \\nany amount above the hearing aid coverage \\n$35 copay for each \\nMedicare‑covered \\nhearing exam. \\n \\n$0 copay for each \\nnon‑Medicare covered \\nroutine hearing exam.\\n \\n$0 copay for each \\nnon‑Medicare covered \\nhearing aid \\nfitting/evaluation.\\n \\nHearing aids: \\n• $0 copay (two hearing \\naids every year)  \\n \\n$70 copay for each \\nMedicare‑covered \\nhearing exam. \\n \\n$70 copay for each \\nnon‑Medicare covered \\nroutine hearing exam and \\nhearing aid \\nfitting/evaluation. \\n \\nHearing aids must be \\npurchased through \\nNationsHearing. \\nCoverage will not be \\nprovided for hearing aids \\npurchased from a \\nnon‑participating \\nprovider.\\n\\n\\n2023 Evidence of Coverage for Aetna Medicare Premier Plus (PPO)\\n60\\nChapter  4   Medical Benefits Chart (what is covered and what you pay)\\nServices that are covered for you\\nWhat you must pay \\nwhen you get these \\nservices in‑network\\nWhat you must pay \\nwhen you get these \\nservices out‑of‑network\\n* Services with an asterisk do not apply to your in‑network or combined out‑of‑pocket maximum.\\nlimit.  \\n \\nOur plan partners with NationsHearing to provide \\nyour hearing exam and hearing aid benefit. All \\nappointments for hearing exams should be \\nscheduled through NationsHearing by calling \\n1‑877‑225‑0137. If you choose to schedule an \\nappointment directly with a provider, you may be \\nresponsible for additional costs. Additionally, to \\nbe covered, hearing aids must be purchased \\nthrough NationsHearing. If you did not schedule \\nyour appointment directly through \\nNationsHearing, your provider should call \\n1‑877‑226‑8992 to order your hearing aids.  \\n \\n HIV screening \\nFor people who ask for an HIV screening test or \\nwho are at increased risk for HIV infection, we \\ncover:\\nOne screening exam every 12 months\\n•\\n \\nFor women who are pregnant, we cover: \\nUp to three screening exams during a \\npregnancy\\n•\\nThere is no coinsurance, \\ncopayment, or deductible \\nfor members eligible for \\nMedicare‑covered \\npreventive HIV screening.\\n$0 copay for members \\neligible for \\nMedicare‑covered \\npreventive HIV screening.\\nHome health agency care \\nPrior to receiving home health services, a doctor \\nmust certify that you need home health services \\nand will order home health services to be \\nprovided by a home health agency. You must be \\nhomebound, which means leaving home is a \\nmajor effort.\\n \\nCovered services include, but are not limited to:\\nPart‑time or intermittent skilled nursing \\nand home health aide services (To be \\ncovered under the home health care \\n•\\n$0 copay for each \\nMedicare‑covered home \\nhealth service. \\n \\n0% ‑ 20% coinsurance \\nfor each \\nMedicare‑covered \\ndurable medical \\nequipment item.\\n0% coinsurance for \\ncontinuous glucose \\nmeters.\\n•\\n50% coinsurance for \\neach Medicare‑covered \\nhome health service. \\n \\n50% coinsurance for \\neach Medicare‑covered \\ndurable medical \\nequipment item.\\n\\n\\n2023 Evidence of Coverage for Aetna Medicare Premier Plus (PPO)\\n61\\nChapter  4   Medical Benefits Chart (what is covered and what you pay)\\nServices that are covered for you\\nWhat you must pay \\nwhen you get these \\nservices in‑network\\nWhat you must pay \\nwhen you get these \\nservices out‑of‑network\\n* Services with an asterisk do not apply to your in‑network or combined out‑of‑pocket maximum.\\nbenefit, your skilled nursing and home \\nhealth aide services combined must total \\nfewer than 8 hours per day and 35 hours \\nper week)\\nPhysical therapy, occupational therapy, \\nand speech therapy\\n•\\nMedical and social services \\n•\\nMedical equipment and supplies\\n•\\n \\nPrior authorization may be required and is the \\nresponsibility of your provider.\\n20% coinsurance \\nfor all other \\nMedicare‑covered \\nDME items.\\n•\\nYou will pay the \\ncost‑sharing that applies \\nto primary care physician \\nservices, specialist \\nphysician services \\n(including certified home \\ninfusion providers), or \\nhome health services \\ndepending on where you \\nreceived administration \\nor monitoring services. \\n(See  \\n“Physician/Practitioner \\nServices, Including \\nDoctor’s Office Visits” or \\n \\n“Home Health Agency \\nCare” for any applicable \\ncost‑sharing.) \\n \\nPlease note that home \\ninfusion drugs, pumps, \\nand devices provided \\nduring a home infusion \\ntherapy visit, are covered \\nseparately under your  \\n“Durable Medical \\nEquipment (DME) and \\nrelated supplies” \\nYou will pay the \\ncost‑sharing that applies \\nto primary care physician \\nservices, specialist \\nphysician services \\n(including certified home \\ninfusion providers), or \\nhome health services, \\ndepending on where you \\nreceived administration \\nor monitoring services. \\n(See  \\n“Physician/Practitioner \\nServices, Including \\nDoctor’s Office Visits” or \\n \\n“Home Health Agency \\nCare” for any applicable \\ncost‑sharing.) \\n \\nPlease note that home \\ninfusion drugs, pumps, \\nand devices provided \\nduring a home infusion \\ntherapy visit, are covered \\nseparately under your  \\n“Durable Medical \\nEquipment (DME) and \\nrelated supplies” \\nHome infusion therapy \\nHome infusion therapy involves the intravenous \\nor subcutaneous administration of drugs or \\nbiologicals to an individual at home. The \\ncomponents needed to perform home infusion \\ninclude the drug (for example, antivirals, immune \\nglobulin), equipment (for example, a pump), and \\nsupplies (for example, tubing and catheters).  \\n \\nPrior to receiving home infusion services, they \\nmust be ordered by a doctor and included in \\nyour care plan. \\n \\nCovered services include, but are not limited to:  \\nProfessional services, including nursing \\nservices, furnished in accordance with the \\nplan of care\\n•\\nPatient training and education not \\notherwise covered under the durable \\nmedical equipment benefit\\n•\\nRemote monitoring\\n•\\nMonitoring services for the provision of \\nhome infusion therapy and home infusion \\ndrugs furnished by a qualified home \\ninfusion therapy supplier\\n•\\n\\n\\n2023 Evidence of Coverage for Aetna Medicare Premier Plus (PPO)\\n62\\nChapter  4   Medical Benefits Chart (what is covered and what you pay)\\nServices that are covered for you\\nWhat you must pay \\nwhen you get these \\nservices in‑network\\nWhat you must pay \\nwhen you get these \\nservices out‑of‑network\\n* Services with an asterisk do not apply to your in‑network or combined out‑of‑pocket maximum.\\nbenefit.\\nbenefit.\\nHospice care \\nYou are eligible for the hospice benefit when \\nyour doctor and the hospice medical director \\nhave given you a terminal prognosis certifying \\nthat you’re terminally ill and have 6 months or \\nless to live if your illness runs its normal course. \\nYou may receive care from any \\nMedicare‑certified hospice program. Your plan is \\nobligated to help you find Medicare‑certified \\nhospice programs in the plan’s service area, \\nincluding those the MA organization owns, \\ncontrols, or has a financial interest in. Your \\nhospice doctor can be a network provider or an \\nout‑of‑network provider.\\n \\nCovered services include:\\nDrugs for symptom control and pain relief\\n•\\nShort‑term respite care\\n•\\nHome care\\n•\\n \\nWhen you are admitted to a hospice you have \\nthe right to remain in your plan; if you chose to \\nremain in your plan you must continue to pay \\nplan premiums. \\n \\nFor hospice services and for services that are \\ncovered by Medicare Part A or B and are related \\nto your terminal prognosis: Original Medicare \\n(rather than our plan) will pay for your hospice \\nservices and any Part A and Part B services \\nrelated to your terminal prognosis. While you are \\nin the hospice program, your hospice provider \\nwill bill Original Medicare for the services that \\nOriginal Medicare pays for. You will be billed \\nOriginal Medicare cost sharing.\\n \\nFor services that are covered by Medicare Part A \\nor B and are not related to your terminal \\nprognosis: If you need non‑emergency, \\nWhen you enroll in a \\nMedicare‑certified \\nhospice program, your \\nhospice services and \\nyour Part A and Part B \\nservices related to your \\nterminal prognosis are \\npaid for by Original \\nMedicare, not Aetna \\nMedicare Premier Plus \\n(PPO). \\n \\nHospice consultations \\nare included as part of \\ninpatient hospital care.  \\n \\nPhysician service \\ncost‑sharing may apply \\nfor outpatient \\nconsultations.  \\nWhen you enroll in a \\nMedicare‑certified \\nhospice program, your \\nhospice services and \\nyour Part A and Part B \\nservices related to your \\nterminal prognosis are \\npaid for by Original \\nMedicare, not Aetna \\nMedicare Premier Plus \\n(PPO).  \\n \\nHospice consultations \\nare included as part of \\ninpatient hospital care. \\n \\nPhysician service \\ncost‑sharing may apply \\nfor outpatient \\nconsultations.\\n\\n\\n2023 Evidence of Coverage for Aetna Medicare Premier Plus (PPO)\\n63\\nChapter  4   Medical Benefits Chart (what is covered and what you pay)\\nServices that are covered for you\\nWhat you must pay \\nwhen you get these \\nservices in‑network\\nWhat you must pay \\nwhen you get these \\nservices out‑of‑network\\n* Services with an asterisk do not apply to your in‑network or combined out‑of‑pocket maximum.\\nnon‑urgently needed services that are covered \\nunder Medicare Part A or B and that are not \\nrelated to your terminal prognosis, your cost for \\nthese services depends on whether you use a \\nprovider in our plan’s network and follow plan \\nrules (such as if there is a requirement to obtain \\nprior authorization).\\nIf you obtain the covered services from a \\nnetwork provider and follow plan rules for \\nobtaining service, you only pay the plan \\ncost‑sharing amount for in‑network \\nservices\\n•\\nIf you obtain the covered services from an \\nout‑of‑network provider, you pay the plan \\ncost sharing for out‑of‑network services\\n•\\n \\nFor services that are covered by Aetna Medicare \\nPremier Plus (PPO) but are not covered by \\nMedicare Part A or B: Aetna Medicare Premier \\nPlus (PPO) will continue to cover plan‑covered \\nservices that are not covered under Part A or B \\nwhether or not they are related to your terminal \\nprognosis. You pay your plan cost‑sharing \\namount for these services. \\n \\nFor drugs that may be covered by the plan’s Part \\nD benefit: If these drugs are unrelated to your \\nterminal hospice condition you pay cost sharing. \\nIf they are related to your terminal hospice \\ncondition then you pay Original Medicare cost \\nsharing. Drugs are never covered by both \\nhospice and our plan at the same time. For more \\ninformation, please see Chapter 5, Section 9.4 \\n(What if you’re in Medicare‑certified hospice?). \\n \\nNote: If you need non‑hospice care (care that is \\nnot related to your terminal prognosis), you \\nshould contact us to arrange the services. \\n \\nOur plan covers hospice consultation services \\n(one time only) for a terminally ill person who \\n\\n\\n2023 Evidence of Coverage for Aetna Medicare Premier Plus (PPO)\\n64\\nChapter  4   Medical Benefits Chart (what is covered and what you pay)\\nServices that are covered for you\\nWhat you must pay \\nwhen you get these \\nservices in‑network\\nWhat you must pay \\nwhen you get these \\nservices out‑of‑network\\n* Services with an asterisk do not apply to your in‑network or combined out‑of‑pocket maximum.\\nhasn’t elected the hospice benefit. \\n \\n Immunizations \\nCovered Medicare Part B services include:\\nPneumonia vaccine\\n•\\nFlu shots, once each flu season in the fall \\nand winter, with additional flu shots if \\nmedically necessary\\n•\\nHepatitis B vaccine if you are at high or \\nintermediate risk of getting Hepatitis B\\n•\\nCOVID‑19 vaccine\\n•\\nOther vaccines if you are at risk and they \\nmeet Medicare Part B coverage rules\\n•\\n \\nWe also cover some vaccines under our Part D \\nprescription drug benefit. \\nThere is no coinsurance, \\ncopayment, or deductible \\nfor the pneumonia, \\ninfluenza, Hepatitis B, \\nand COVID‑19 vaccines. \\n \\n20% coinsurance for all \\nother vaccines covered \\nunder Medicare Part B.\\n$0 copay for the \\npneumonia, influenza, \\nHepatitis B, and \\nCOVID‑19 vaccines. \\n \\n50% coinsurance for all \\nother vaccines covered \\nunder Medicare Part B.\\nInpatient hospital care \\nIncludes inpatient acute, inpatient rehabilitation, \\nlong‑term care hospitals and other types of \\ninpatient hospital services. Inpatient hospital \\ncare starts the day you are formally admitted to \\nthe hospital with a doctor’s order. The day before \\nyou are discharged is your last inpatient day. \\n \\nDays covered: There is no limit to the number of \\ndays covered by our plan. Cost‑sharing is not \\ncharged on the day of discharge. \\n \\nCovered services include but are not limited to: \\nSemi‑private room (or a private room if \\nmedically necessary)\\n•\\nMeals including special diets\\n•\\nRegular nursing services\\n•\\nCosts of special care units (such as \\nintensive care or coronary care units)\\n•\\nDrugs and medications\\n•\\nLab tests\\n•\\n$295 per day, days 1‑6; \\n$0 per day, days 7‑90; $0 \\ncopay for additional days \\nfor each medically \\nnecessary covered \\ninpatient stay. \\n \\nCost‑sharing is charged \\nfor each medically \\nnecessary covered \\ninpatient stay.  \\n \\nYour inpatient benefits \\nwill begin on day one \\neach time you are \\nadmitted within or to a \\nspecific facility type. A \\ntransfer within or to a \\nfacility including Inpatient \\nRehabilitation facilities, \\nLong Term Acute Care \\n(LTAC) facilities, Inpatient \\nAcute Care facilities, and \\n50% per stay for each \\nmedically necessary \\ncovered inpatient stay. \\n \\nCost‑sharing is charged \\nfor each medically \\nnecessary covered \\ninpatient stay. \\n \\nYour inpatient benefits \\nwill begin on day one \\neach time you are \\nadmitted within or to a \\nspecific facility type. A \\ntransfer within or to a \\nfacility including Inpatient \\nRehabilitation facilities, \\nLong Term Acute Care \\n(LTAC) facilities, Inpatient \\nAcute Care facilities, and \\nInpatient Psychiatric \\nfacilities, is considered a \\nnew admission. \\n\\n\\n2023 Evidence of Coverage for Aetna Medicare Premier Plus (PPO)\\n65\\nChapter  4   Medical Benefits Chart (what is covered and what you pay)\\nServices that are covered for you\\nWhat you must pay \\nwhen you get these \\nservices in‑network\\nWhat you must pay \\nwhen you get these \\nservices out‑of‑network\\n* Services with an asterisk do not apply to your in‑network or combined out‑of‑pocket maximum.\\nX‑rays and other radiology services\\n•\\nNecessary surgical and medical supplies\\n•\\nUse of appliances, such as wheelchairs\\n•\\nOperating and recovery room costs\\n•\\nPhysical, occupational, and speech \\nlanguage therapy\\n•\\nInpatient substance abuse services\\n•\\nUnder certain conditions, the following \\ntypes of transplants are covered: corneal, \\nkidney, kidney‑pancreatic, heart, liver, \\nlung, heart/lung, bone marrow, stem cell, \\nand intestinal/multivisceral. If you need a \\ntransplant, we will arrange to have your \\ncase reviewed by a Medicare‑approved \\ntransplant center that will decide whether \\nyou are a candidate for a transplant. \\nTransplant providers may be local or \\noutside of the service area. If our \\nin‑network transplant services are outside \\nthe community pattern of care, you may \\nchoose to go locally as long as the local \\ntransplant providers are willing to accept \\nthe Original Medicare rate. If Aetna \\nMedicare Premier Plus (PPO) provides \\ntransplant services at a location outside \\nthe pattern of care for transplants in your \\ncommunity and you choose to obtain \\ntransplants at this distant location, we will \\narrange or pay for appropriate lodging and \\ntransportation costs for you and a \\ncompanion.\\n•\\nBlood – including storage and \\nadministration. Coverage of whole blood \\nand packed red cells begins with the first \\npint of blood that you need. All \\ncomponents of blood are covered \\nbeginning with the first pint used.\\n•\\nPhysician services\\n•\\nNote: To be an inpatient, your provider must \\nwrite an order to admit you formally as an \\nInpatient Psychiatric \\nfacilities, is considered a \\nnew admission.  \\n \\nIf you get authorized \\ninpatient care at an \\nout‑of‑network hospital \\nafter your emergency \\ncondition is stabilized, \\nyour cost is the cost \\nsharing you would pay at \\na network hospital.\\n \\nIf you get authorized \\ninpatient care at an \\nout‑of‑network hospital \\nafter your emergency \\ncondition is stabilized, \\nyour cost is the \\ncost‑sharing you would \\npay at a network hospital.\\n\\n\\n2023 Evidence of Coverage for Aetna Medicare Premier Plus (PPO)\\n66\\nChapter  4   Medical Benefits Chart (what is covered and what you pay)\\nServices that are covered for you\\nWhat you must pay \\nwhen you get these \\nservices in‑network\\nWhat you must pay \\nwhen you get these \\nservices out‑of‑network\\n* Services with an asterisk do not apply to your in‑network or combined out‑of‑pocket maximum.\\ninpatient of the hospital. Even if you stay in the \\nhospital overnight, you might still be considered \\nan “outpatient.” If you are not sure if you are an \\ninpatient or an outpatient, you should ask the \\nhospital staff.  \\n \\nYou can also find more information in a Medicare \\nfact sheet called “Are You a Hospital Inpatient or \\nOutpatient? If You Have Medicare – Ask!” This \\nfact sheet is available on the Web at  \\nwww.medicare.gov/sites/default/files/2021-\\n10/11435-Inpatient-or-Outpatient.pdf or by \\ncalling 1‑800‑MEDICARE (1‑800‑633‑4227). TTY \\nusers call 1‑877‑486‑2048. You can call these \\nnumbers for free, 24 hours a day, 7 days a week.\\n \\nPrior authorization may be required and is the \\nresponsibility of your provider.\\n$295 per day, days 1‑6; \\n$0 per day, days 7‑90 for \\neach medically \\nnecessary covered \\ninpatient stay.\\n \\nCost‑sharing is charged \\nfor each medically \\nnecessary covered \\ninpatient stay. \\n \\nYour inpatient benefits \\nwill begin on day one \\neach time you are \\nadmitted within or to a \\nspecific facility type. A \\ntransfer within or to a \\nfacility including Inpatient \\nRehabilitation facilities, \\nLong Term Acute Care \\n(LTAC) facilities, Inpatient \\nAcute Care facilities, and \\nInpatient Psychiatric \\nfacilities, is considered a \\nInpatient services in a psychiatric hospital \\nCovered services include mental health care \\nservices that require a hospital stay. \\n \\nDays covered: There is a 190‑day lifetime limit for \\ninpatient services in a psychiatric hospital. The \\n190‑day limit does not apply to inpatient mental \\nhealth services provided in a psychiatric unit of a \\ngeneral hospital. \\n \\nCost‑sharing is not charged on the day of \\ndischarge.\\n \\nPrior authorization may be required and is the \\nresponsibility of your provider.\\n50% per stay for each \\nmedically necessary \\ncovered inpatient stay. \\n \\nCost‑sharing is charged \\nfor each medically \\nnecessary covered \\ninpatient stay.  \\n \\nYour inpatient benefits \\nwill begin on day one \\neach time you are \\nadmitted within or to a \\nspecific facility type. A \\ntransfer within or to a \\nfacility including Inpatient \\nRehabilitation facilities, \\nLong Term Acute Care \\n(LTAC) facilities, Inpatient \\nAcute Care facilities, and \\nInpatient Psychiatric \\nfacilities is considered a \\nnew admission.\\n\\n\\n2023 Evidence of Coverage for Aetna Medicare Premier Plus (PPO)\\n67\\nChapter  4   Medical Benefits Chart (what is covered and what you pay)\\nServices that are covered for you\\nWhat you must pay \\nwhen you get these \\nservices in‑network\\nWhat you must pay \\nwhen you get these \\nservices out‑of‑network\\n* Services with an asterisk do not apply to your in‑network or combined out‑of‑pocket maximum.\\nnew admission.\\n$0 copay for \\nMedicare‑covered \\nprimary care physician \\n(PCP) services (including \\ntelehealth services, \\nnationally contracted \\nwalk‑in clinic services, \\nand urgently needed \\nservices). \\n \\n$35 copay for \\nMedicare‑covered \\nphysician specialist \\nservices (including \\nsurgery second opinion, \\ntelehealth services, home \\ninfusion professional \\nservices, and urgently \\nneeded services). \\n \\n$0 ‑ $20 copay for each \\nMedicare‑covered \\ndiagnostic procedure and \\ntest.\\n$0 copay for \\nservices performed \\nat a non‑hospital \\nfacility.\\n•\\n$20 copay for \\nservices performed \\nat a hospital facility.\\n•\\n \\n$0 copay for each \\nMedicare‑covered lab \\nservice.\\n \\n$50 ‑ $100 copay for \\neach Medicare‑covered \\nCT scan.\\n$55 copay for \\nMedicare‑covered \\nprimary care physician \\n(PCP) services (including \\nMedicare‑covered \\ntelehealth services and \\nurgently needed \\nservices). \\n \\n$70 copay for \\nMedicare‑covered \\nphysician specialist \\nservices (including \\nsurgery second opinion, \\nMedicare‑covered \\ntelehealth services, home \\ninfusion professional \\nservices, and urgently \\nneeded services). \\n \\n50% coinsurance for \\neach Medicare‑covered \\ndiagnostic procedure and \\ntest. \\n \\n50% coinsurance for \\neach Medicare‑covered \\nlab service. \\n \\n50% coinsurance for \\neach Medicare‑covered \\nCT scan. \\n \\n50% coinsurance for \\neach Medicare‑covered \\ndiagnostic radiology \\nservice other than CT \\nscans. \\n \\n50% coinsurance for \\neach Medicare‑covered \\nInpatient stay: Covered services received in a \\nhospital or SNF during a non‑covered inpatient \\nstay \\nIf you have exhausted your skilled nursing facility \\nbenefits, or if the skilled nursing facility or \\ninpatient stay is not reasonable and necessary, \\nwe will not cover your inpatient stay. However, in \\nsome cases, we will cover certain services you \\nreceive while you are in the hospital or the skilled \\nnursing facility (SNF).  \\n \\nCovered services include, but are not limited to: \\nPhysician services\\n•\\nDiagnostic tests (like lab tests)\\n•\\nX‑ray, radium, and isotope therapy \\nincluding technician materials and services\\n•\\nSurgical dressings\\n•\\nSplints, casts and other devices used to \\nreduce fractures and dislocations\\n•\\nProsthetics and orthotics devices (other \\nthan dental) that replace all or part of an \\ninternal body organ (including contiguous \\ntissue), or all or part of the function of a \\npermanently inoperative or malfunctioning \\ninternal body organ, including replacement \\nor repairs of such devices\\n•\\nLeg, arm, back, and neck braces; trusses; \\nand artificial legs, arms, and eyes including \\nadjustments, repairs, and replacements \\nrequired because of breakage, wear, loss, \\nor a change in the patient’s physical \\ncondition\\n•\\nPhysical therapy, speech therapy, and \\noccupational therapy\\n•\\n \\nPrior authorization may be required and is the \\nresponsibility of your provider.\\n\\n\\n2023 Evidence of Coverage for Aetna Medicare Premier Plus (PPO)\\n68\\nChapter  4   Medical Benefits Chart (what is covered and what you pay)\\nServices that are covered for you\\nWhat you must pay \\nwhen you get these \\nservices in‑network\\nWhat you must pay \\nwhen you get these \\nservices out‑of‑network\\n* Services with an asterisk do not apply to your in‑network or combined out‑of‑pocket maximum.\\n$50 copay for \\nservices performed \\nat a non‑hospital \\nfacility.\\n•\\n$100 copay for \\nservices performed \\nat a hospital facility.\\n•\\n \\n$50 ‑ $100 copay for \\neach Medicare‑covered \\ndiagnostic radiology \\nservice other than CT \\nscans.\\n$50 copay for \\nservices performed \\nat a non‑hospital \\nfacility.\\n•\\n$100 copay for \\nservices performed \\nat a hospital facility.\\n•\\n \\n$0 ‑ $15 copay for each \\nMedicare‑covered x‑ray.\\n$0 copay for \\nservices performed \\nat a non‑hospital \\nfacility.\\n•\\n$15 copay for \\nservices performed \\nat a hospital facility.\\n•\\n \\n20% coinsurance for \\neach Medicare‑covered \\ntherapeutic radiology \\nservice.\\n \\n0% ‑ 20% \\ncoinsurance for \\nx‑ray. \\n \\n50% coinsurance for \\neach Medicare‑covered \\ntherapeutic radiology \\nservice. \\n \\n50% coinsurance for \\nMedicare‑covered \\nmedical supplies. \\n \\n50% coinsurance for \\neach Medicare‑covered \\nprosthetic device. \\n \\n50% coinsurance for \\neach Medicare‑covered \\nphysical and speech \\ntherapy service. \\n \\n50% coinsurance for \\neach Medicare‑covered \\noccupational therapy \\nservice. \\n\\n\\n2023 Evidence of Coverage for Aetna Medicare Premier Plus (PPO)\\n69\\nChapter  4   Medical Benefits Chart (what is covered and what you pay)\\nServices that are covered for you\\nWhat you must pay \\nwhen you get these \\nservices in‑network\\nWhat you must pay \\nwhen you get these \\nservices out‑of‑network\\n* Services with an asterisk do not apply to your in‑network or combined out‑of‑pocket maximum.\\nMedicare‑covered \\nmedical supplies.\\n0% coinsurance for \\ncontinuous glucose \\nmeter supplies.\\n•\\n20% coinsurance \\nfor all other \\nMedicare‑covered \\nmedical supplies.\\n•\\n \\n20% coinsurance for \\neach Medicare‑covered \\nprosthetic device. \\n \\n$35 copay for each \\nMedicare‑covered \\nphysical and speech \\ntherapy service. \\n \\n$35 copay for each \\nMedicare‑covered \\noccupational therapy \\nservice.\\n Medical nutrition therapy \\nThis benefit is for people with diabetes, renal \\n(kidney) disease (but not on dialysis), or after a \\nkidney transplant when ordered by your doctor.\\n \\nWe cover 3 hours of one‑on‑one counseling \\nservices during your first year that you receive \\nmedical nutrition therapy services under \\nMedicare (this includes our plan, any other \\nMedicare Advantage plan, or Original Medicare), \\nand 2 hours each year after that. If your \\ncondition, treatment, or diagnosis changes, you \\nmay be able to receive more hours of treatment \\nwith a physician’s order. A physician must \\nprescribe these services and renew their order \\nyearly if your treatment is needed into the next \\ncalendar year.\\nThere is no coinsurance, \\ncopayment, or deductible \\nfor members eligible for \\nMedicare‑covered \\nmedical nutrition therapy \\nservices. \\n \\n$0 copay for members \\neligible for \\nMedicare‑covered \\nmedical nutrition therapy \\nservices.\\n \\n\\n\\n2023 Evidence of Coverage for Aetna Medicare Premier Plus (PPO)\\n70\\nChapter  4   Medical Benefits Chart (what is covered and what you pay)\\nServices that are covered for you\\nWhat you must pay \\nwhen you get these \\nservices in‑network\\nWhat you must pay \\nwhen you get these \\nservices out‑of‑network\\n* Services with an asterisk do not apply to your in‑network or combined out‑of‑pocket maximum.\\n Medicare Diabetes Prevention Program \\n(MDPP) \\nMDPP services will be covered for eligible \\nMedicare beneficiaries under all Medicare health \\nplans.   \\n \\nMDPP is a structured health behavior change \\nintervention that provides practical training in \\nlong‑term dietary change, increased physical \\nactivity, and problem‑solving strategies for \\novercoming challenges to sustaining weight loss \\nand a healthy lifestyle. \\nThere is no coinsurance, \\ncopayment, or deductible \\nfor the MDPP benefit.\\n$0 copay for the \\nMedicare‑covered MDPP \\nbenefit.\\nMedicare Part B prescription drugs \\nThese drugs are covered under Part B of Original \\nMedicare. Members of our plan receive \\ncoverage for these drugs through our plan.  \\n \\nCovered drugs include:  \\nDrugs that usually aren’t self‑administered \\nby the patient and are injected or infused \\nwhile you are getting physician, hospital \\noutpatient, or ambulatory surgical center \\nservices\\n•\\nDrugs you take using durable medical \\nequipment (such as nebulizers) that were \\nauthorized by the plan \\n•\\nClotting factors you give yourself by \\ninjection if you have hemophilia\\n•\\nImmunosuppressive drugs, if you were \\nenrolled in Medicare Part A at the time of \\nthe organ transplant\\n•\\nInjectable osteoporosis drugs, if you are \\nhomebound, have a bone fracture that a \\ndoctor certifies was related to \\npost‑menopausal osteoporosis, and \\ncannot self‑administer the drug\\n•\\nAntigens\\n•\\nCertain oral anti‑cancer drugs and \\nanti‑nausea drugs\\n•\\nCertain drugs for home dialysis, including \\n•\\n20% coinsurance for \\nchemotherapy drugs. \\n \\n20% coinsurance for all \\nother drugs covered \\nunder Medicare Part B. \\n \\nPart B drugs may be \\nsubject to step therapy \\nrequirements.\\n50% coinsurance for \\nchemotherapy drugs. \\n \\n50% coinsurance for all \\nother drugs covered \\nunder Medicare Part B. \\n \\nPart B drugs may be \\nsubject to step therapy \\nrequirements.\\n\\n\\n2023 Evidence of Coverage for Aetna Medicare Premier Plus (PPO)\\n71\\nChapter  4   Medical Benefits Chart (what is covered and what you pay)\\nServices that are covered for you\\nWhat you must pay \\nwhen you get these \\nservices in‑network\\nWhat you must pay \\nwhen you get these \\nservices out‑of‑network\\n* Services with an asterisk do not apply to your in‑network or combined out‑of‑pocket maximum.\\nheparin, the antidote for heparin when \\nmedically necessary, topical anesthetics, \\nand erythropoiesis‑stimulating agents \\n(such as Epogen®, Procrit®, Epoetin Alfa, \\nAranesp®, or Darbepoetin Alfa)\\nIntravenous Immune Globulin for the home \\ntreatment of primary immune deficiency \\ndiseases\\n•\\n \\nThe following link will take you to a list of Part B \\nDrugs that may be subject to Step Therapy: \\nAetna.com/PartB-Step\\n \\nWe also cover some vaccines under our Part B \\nand Part D prescription drug benefit.\\n \\nChapter 5 explains the Part D prescription drug \\nbenefit, including rules you must follow to have \\nprescriptions covered. What you pay for your \\nPart D prescription drugs through our plan is \\nexplained in Chapter 6.\\n \\nPrior authorization may be required and is the \\nresponsibility of your provider.\\n Obesity screening and therapy to promote \\nsustained weight loss \\nIf you have a body mass index of 30 or more, we \\ncover intensive counseling to help you lose \\nweight. This counseling is covered if you get it in \\na primary care setting, where it can be \\ncoordinated with your comprehensive \\nprevention plan. Talk to your primary care doctor \\nor practitioner to find out more. \\nThere is no coinsurance, \\ncopayment, or deductible \\nfor preventive obesity \\nscreening and therapy.\\n$0 copay for preventive \\nobesity screening and \\ntherapy.\\nOpioid treatment program services\\nMembers of our plan with opioid use disorder \\n(OUD) can receive coverage of services to treat \\nOUD through an Opioid Treatment Program \\n(OTP) which includes the following services: \\n$30 copay for each \\nMedicare‑covered opioid \\nuse disorder treatment \\nservice.\\n50% coinsurance for \\neach Medicare‑covered \\nopioid use disorder \\ntreatment service. \\n \\n\\n\\n2023 Evidence of Coverage for Aetna Medicare Premier Plus (PPO)\\n72\\nChapter  4   Medical Benefits Chart (what is covered and what you pay)\\nServices that are covered for you\\nWhat you must pay \\nwhen you get these \\nservices in‑network\\nWhat you must pay \\nwhen you get these \\nservices out‑of‑network\\n* Services with an asterisk do not apply to your in‑network or combined out‑of‑pocket maximum.\\nU.S. Food and Drug Administration \\n(FDA)‑approved opioid agonist and \\nantagonist medication‑assisted treatment \\n(MAT) medications\\n•\\nDispensing and administration of MAT \\nmedications (if applicable)\\n•\\nSubstance use counseling\\n•\\nIndividual and group therapy\\n•\\nToxicology testing\\n•\\nIntake activities\\n•\\nPeriodic assessments\\n•\\n \\nPrior authorization may be required and is the \\nresponsibility of your provider.\\n$0 ‑ $15 copay for each \\nMedicare‑covered x‑ray.\\n$0 copay for \\nservices performed \\nat a non‑hospital \\nfacility.\\n•\\n$15 copay for \\nservices performed \\nat a hospital facility.\\n•\\n \\n20% coinsurance for \\neach Medicare‑covered \\ntherapeutic radiology \\nservice.\\n \\n0% ‑ 20% \\ncoinsurance for \\nMedicare‑covered \\nmedical supplies.\\n0% coinsurance for \\ncontinuous glucose \\nmeter supplies.\\n•\\n50% coinsurance for \\neach Medicare‑covered \\nx‑ray. \\n \\n50% coinsurance for \\neach Medicare‑covered \\ntherapeutic radiology \\nservice. \\n \\n50% coinsurance for \\nMedicare‑covered \\nmedical supplies. \\n \\n50% coinsurance for \\neach Medicare‑covered \\nlab service. \\n \\n$70 copay for \\nMedicare‑covered blood \\nservices. \\n \\n$70 copay for \\nnon‑Medicare covered \\nblood services. \\n \\n50% coinsurance for \\nOutpatient diagnostic tests and therapeutic \\nservices and supplies \\nCovered services include, but are not limited to:\\nX‑rays\\n•\\nRadiation (radium and isotope) therapy \\nincluding technician materials and \\nsupplies \\n•\\nSurgical supplies, such as dressings\\n•\\nSplints, casts and other devices used to \\nreduce fractures and dislocations\\n•\\nLaboratory tests\\n•\\nBlood – including storage and \\nadministration. Coverage of whole blood \\nand packed red cells begins with the first \\npint of blood that you need. All \\ncomponents of blood are covered \\nbeginning with the first pint used.\\n•\\nOther outpatient diagnostic tests\\n•\\n \\nPrior authorization may be required and is the \\nresponsibility of your provider. \\n\\n\\n2023 Evidence of Coverage for Aetna Medicare Premier Plus (PPO)\\n73\\nChapter  4   Medical Benefits Chart (what is covered and what you pay)\\nServices that are covered for you\\nWhat you must pay \\nwhen you get these \\nservices in‑network\\nWhat you must pay \\nwhen you get these \\nservices out‑of‑network\\n* Services with an asterisk do not apply to your in‑network or combined out‑of‑pocket maximum.\\n20% coinsurance \\nfor all other \\nMedicare‑covered \\nmedical supplies.\\n•\\n \\n$0 copay for each \\nMedicare‑covered lab \\nservice.\\n \\n$0 copay for \\nMedicare‑covered and \\nnon‑Medicare covered \\nblood services. \\n \\n$50 ‑ $100 copay for \\neach Medicare‑covered \\nCT scan.\\n$50 copay for \\nservices performed \\nat a non‑hospital \\nfacility.\\n•\\n$100 copay for \\nservices performed \\nat a hospital facility.\\n•\\n \\n$50 ‑ $100 copay for \\neach Medicare‑covered \\ndiagnostic radiology \\nservice other than CT \\nscans.\\n$50 copay for \\nservices performed \\nat a non‑hospital \\nfacility.\\n•\\n$100 copay for \\nservices performed \\nat a hospital facility.\\n•\\n \\neach Medicare‑covered \\nCT scan. \\n \\n50% coinsurance for \\neach Medicare‑covered \\ndiagnostic radiology \\nservice other than CT \\nscans. \\n \\n50% coinsurance for \\neach Medicare‑covered \\ndiagnostic procedure and \\ntest. \\n \\n\\n\\n2023 Evidence of Coverage for Aetna Medicare Premier Plus (PPO)\\n74\\nChapter  4   Medical Benefits Chart (what is covered and what you pay)\\nServices that are covered for you\\nWhat you must pay \\nwhen you get these \\nservices in‑network\\nWhat you must pay \\nwhen you get these \\nservices out‑of‑network\\n* Services with an asterisk do not apply to your in‑network or combined out‑of‑pocket maximum.\\n$0 ‑ $20 copay for each \\nMedicare‑covered \\ndiagnostic procedure and \\ntest.\\n$0 copay for \\nservices performed \\nat a non‑hospital \\nfacility.\\n•\\n$20 copay for \\nservices performed \\nat a hospital facility.\\n•\\n \\n$0 copay for certain \\nMedicare covered \\ndiagnostic tests and \\nservices including retinal \\nfundus, Spirometry, and \\nPeripheral arterial \\ndisease (PAD).  \\n \\nAn additional cost share \\nmay apply if you receive \\nservices from multiple \\nproviders.\\nOutpatient hospital observation \\nObservation services are hospital outpatient \\nservices given to determine if you need to be \\nadmitted as an inpatient or can be discharged. \\n \\nFor outpatient hospital observation services to be \\ncovered, they must meet the Medicare criteria \\nand be considered reasonable and necessary. \\nObservation services are covered only when \\nprovided by the order of a physician or another \\nindividual authorized by state licensure law and \\nhospital staff bylaws to admit patients to the \\nhospital or order outpatient tests. \\n \\nNote: Unless the provider has written an order to \\nadmit you as an inpatient to the hospital, you are \\n$250 copay for \\noutpatient hospital \\nobservation services.\\n \\n50% coinsurance for \\noutpatient hospital \\nobservation services. \\n \\n\\n\\n2023 Evidence of Coverage for Aetna Medicare Premier Plus (PPO)\\n75\\nChapter  4   Medical Benefits Chart (what is covered and what you pay)\\nServices that are covered for you\\nWhat you must pay \\nwhen you get these \\nservices in‑network\\nWhat you must pay \\nwhen you get these \\nservices out‑of‑network\\n* Services with an asterisk do not apply to your in‑network or combined out‑of‑pocket maximum.\\nan outpatient and pay the cost‑sharing amounts \\nfor outpatient hospital services. Even if you stay \\nin the hospital overnight, you might still be \\nconsidered an “outpatient.” If you are not sure if \\nyou are an outpatient, you should ask the \\nhospital staff.  \\n \\nYou can also find more information in a Medicare \\nfact sheet called “Are You a Hospital Inpatient or \\nOutpatient? If You Have Medicare – Ask!” This \\nfact sheet is available on the Web at  \\nwww.medicare.gov/sites/default/files/2021-\\n10/11435-Inpatient-or-Outpatient.pdf or by \\ncalling 1‑800‑MEDICARE (1‑800‑633‑4227). TTY \\nusers call 1‑877‑486‑2048. You can call these \\nnumbers for free, 24 hours a day, 7 days a week.\\nOutpatient hospital services\\nWe cover medically‑necessary services you get \\nin the outpatient department of a hospital for \\ndiagnosis or treatment of an illness or injury. \\n \\nCovered services include, but are not limited to: \\nServices in an emergency department or \\noutpatient clinic, such as observation \\nservices or outpatient surgery\\n•\\nLaboratory and diagnostic tests billed by \\nthe hospital\\n•\\nMental health care, including care in a \\npartial‑hospitalization program, if a doctor \\ncertifies that inpatient treatment would be \\nrequired without it\\n•\\nX‑rays and other radiology services billed \\nby the hospital\\n•\\nMedical supplies such as splints and casts\\n•\\nCertain drugs and biologicals that you \\ncan’t give yourself\\n•\\n \\nNote: Unless the provider has written an order to \\nadmit you as an inpatient to the hospital, you are \\nan outpatient and pay the cost‑sharing amounts \\n$110 copay for \\nemergency care. \\n \\nCost‑sharing is waived if \\nyou are admitted to the \\nhospital within 24 hours. \\n \\n$250 copay for each \\nMedicare‑covered \\noutpatient surgery at an \\noutpatient hospital \\nfacility. \\n \\n$250 copay for \\noutpatient hospital \\nobservation services.\\n \\n$0 ‑ $20 copay for each \\nMedicare‑covered \\ndiagnostic procedure and \\ntest.\\n$0 copay for \\nservices performed \\nat a non‑hospital \\n•\\n$110 copay for \\nemergency care. \\n \\nCost‑sharing is waived if \\nyou are admitted to the \\nhospital within 24 hours. \\n \\n50% coinsurance for \\neach Medicare‑covered \\noutpatient surgery at an \\noutpatient hospital \\nfacility. \\n \\n50% coinsurance for \\noutpatient hospital \\nobservation services. \\n \\n50% coinsurance for \\neach Medicare‑covered \\ndiagnostic procedure and \\ntest. \\n \\n50% coinsurance for \\neach Medicare‑covered \\nlab service. \\n \\n\\n\\n2023 Evidence of Coverage for Aetna Medicare Premier Plus (PPO)\\n76\\nChapter  4   Medical Benefits Chart (what is covered and what you pay)\\nServices that are covered for you\\nWhat you must pay \\nwhen you get these \\nservices in‑network\\nWhat you must pay \\nwhen you get these \\nservices out‑of‑network\\n* Services with an asterisk do not apply to your in‑network or combined out‑of‑pocket maximum.\\nfacility.\\n$20 copay for \\nservices performed \\nat a hospital facility.\\n•\\n \\n$0 copay for each \\nMedicare‑covered lab \\nservice. \\n \\n$50 ‑ $100 copay for \\neach Medicare‑covered \\nCT scan.\\n$50 copay for \\nservices performed \\nat a non‑hospital \\nfacility.\\n•\\n$100 copay for \\nservices performed \\nat a hospital facility.\\n•\\n \\n$50 ‑ $100 copay for \\neach Medicare‑covered \\ndiagnostic radiology \\nservice other than CT \\nscans.\\n$50 copay for \\nservices performed \\nat a non‑hospital \\nfacility.\\n•\\n$100 copay for \\nservices performed \\nat a hospital facility.\\n•\\n \\n$0 ‑ $15 copay for each \\nMedicare‑covered x‑ray.\\n$0 copay for \\n•\\n50% coinsurance for \\neach Medicare‑covered \\nCT scan. \\n \\n50% coinsurance for \\neach Medicare‑covered \\ndiagnostic radiology \\nservice other than CT \\nscans. \\n \\n50% coinsurance for \\neach Medicare‑covered \\nx‑ray. \\n \\n50% coinsurance for \\neach Medicare‑covered \\ntherapeutic radiology \\nservice. \\n \\n50% coinsurance for \\neach outpatient mental \\nhealth service provided \\nby a psychiatrist \\n(individual or group \\nsessions). \\n \\n50% coinsurance for \\neach outpatient mental \\nhealth service provided \\nby a mental health \\nprofessional other than a \\npsychiatrist (individual or \\ngroup sessions). \\n \\n50% coinsurance for \\neach Medicare‑covered \\npartial hospitalization \\nday. \\n \\n50% coinsurance for \\nMedicare‑covered \\nmedical supplies. \\n \\nfor outpatient hospital services. Even if you stay \\nin the hospital overnight, you might still be \\nconsidered an “outpatient.” If you are not sure if \\nyou are an outpatient, you should ask the \\nhospital staff. \\n \\nYou can also find more information in a Medicare \\nfact sheet called “Are You a Hospital Inpatient or \\nOutpatient? If You Have Medicare – Ask!” This \\nfact sheet is available on the Web at  \\nwww.medicare.gov/sites/default/files/2021-\\n10/11435-Inpatient-or-Outpatient.pdf or by \\ncalling 1‑800‑MEDICARE (1‑800‑633‑4227). TTY \\nusers call 1‑877‑486‑2048. You can call these \\nnumbers for free, 24 hours a day, 7 days a week. \\n \\nPrior authorization may be required and is the \\nresponsibility of your provider.\\n\\n\\n2023 Evidence of Coverage for Aetna Medicare Premier Plus (PPO)\\n77\\nChapter  4   Medical Benefits Chart (what is covered and what you pay)\\nServices that are covered for you\\nWhat you must pay \\nwhen you get these \\nservices in‑network\\nWhat you must pay \\nwhen you get these \\nservices out‑of‑network\\n* Services with an asterisk do not apply to your in‑network or combined out‑of‑pocket maximum.\\nservices performed \\nat a non‑hospital \\nfacility.\\n$15 copay for \\nservices performed \\nat a hospital facility.\\n•\\n \\n20% coinsurance for \\neach Medicare‑covered \\ntherapeutic radiology \\nservice.\\n \\n$30 copay for each \\nMedicare‑covered \\nindividual session for \\noutpatient mental health \\nservices provided by a \\npsychiatrist.\\n \\n$30 copay for each \\nMedicare‑covered group \\nsession for outpatient \\nmental health services \\nprovided by a \\npsychiatrist.\\n \\n$30 copay for each \\nMedicare‑covered \\nindividual session for \\noutpatient mental health \\nservices provided by a \\nmental health \\nprofessional other than a \\npsychiatrist.\\n \\n$30 copay for each \\nMedicare‑covered group \\nsession for outpatient \\nmental health services \\nprovided by a mental \\nhealth professional other \\n50% coinsurance for \\nchemotherapy drugs. \\n \\n50% coinsurance for all \\nother drugs covered \\nunder Medicare Part B.\\n\\n\\n2023 Evidence of Coverage for Aetna Medicare Premier Plus (PPO)\\n78\\nChapter  4   Medical Benefits Chart (what is covered and what you pay)\\nServices that are covered for you\\nWhat you must pay \\nwhen you get these \\nservices in‑network\\nWhat you must pay \\nwhen you get these \\nservices out‑of‑network\\n* Services with an asterisk do not apply to your in‑network or combined out‑of‑pocket maximum.\\nthan a psychiatrist.\\n \\n$55 copay for each \\nMedicare‑covered partial \\nhospitalization day.\\n \\n0% ‑ 20% \\ncoinsurance for \\nMedicare‑covered \\nmedical supplies.\\n0% coinsurance for \\ncontinuous glucose \\nmeter supplies.\\n•\\n20% coinsurance \\nfor all other \\nMedicare‑covered \\nmedical supplies.\\n•\\n \\n20% coinsurance for \\nchemotherapy drugs. \\n \\n20% coinsurance for all \\nother drugs covered \\nunder Medicare Part B.\\n$30 copay for each \\nMedicare‑covered \\nindividual session for \\noutpatient mental health \\nservices provided by a \\npsychiatrist.\\n \\n$30 copay for each \\nMedicare‑covered group \\nsession for outpatient \\nmental health services \\nprovided by a \\npsychiatrist.\\n \\n$30 copay for each \\nMedicare‑covered \\nOutpatient mental health care \\nCovered services include: \\n \\nMental health services provided by a \\nstate‑licensed psychiatrist or doctor, clinical \\npsychologist, clinical social worker, clinical nurse \\nspecialist, nurse practitioner, physician assistant, \\nor other Medicare‑qualified mental health care \\nprofessional as allowed under applicable state \\nlaws. \\n \\nPrior authorization may be required and is the \\nresponsibility of your provider.  \\n50% coinsurance for \\neach outpatient mental \\nhealth service provided \\nby a psychiatrist \\n(individual or group \\nsessions). \\n \\n50% coinsurance for \\neach outpatient mental \\nhealth service provided \\nby a mental health \\nprofessional other than a \\npsychiatrist (individual or \\ngroup sessions). \\n \\n\\n\\n2023 Evidence of Coverage for Aetna Medicare Premier Plus (PPO)\\n79\\nChapter  4   Medical Benefits Chart (what is covered and what you pay)\\nServices that are covered for you\\nWhat you must pay \\nwhen you get these \\nservices in‑network\\nWhat you must pay \\nwhen you get these \\nservices out‑of‑network\\n* Services with an asterisk do not apply to your in‑network or combined out‑of‑pocket maximum.\\nindividual session for \\noutpatient mental health \\nservices provided by a \\nmental health \\nprofessional other than a \\npsychiatrist.\\n \\n$30 copay for each \\nMedicare‑covered group \\nsession for outpatient \\nmental health services \\nprovided by a mental \\nhealth professional other \\nthan a psychiatrist.\\n \\nOutpatient rehabilitation services \\nCovered services include: physical therapy, \\noccupational therapy, and speech language \\ntherapy. \\n \\nOutpatient rehabilitation services are provided in \\nvarious outpatient settings, such as hospital \\noutpatient departments, independent therapist \\noffices, and Comprehensive Outpatient \\nRehabilitation Facilities (CORFs).\\n \\nPrior authorization may be required and is the \\nresponsibility of your provider.\\n$35 copay for each \\nMedicare‑covered \\noccupational therapy \\nservice.  \\n \\n$35 copay for each \\nMedicare‑covered \\nphysical and speech \\ntherapy service. \\n \\n50% coinsurance for \\neach Medicare‑covered \\noccupational therapy \\nservice. \\n \\n50% coinsurance for \\neach Medicare‑covered \\nphysical and speech \\ntherapy service. \\n \\nOutpatient substance abuse services \\nOur coverage is the same as Original Medicare’s \\nwhich is coverage for services that are provided \\nin the outpatient department of a hospital to \\npatients who, for example, have been \\ndischarged from an inpatient stay for the \\ntreatment of drug substance abuse or who \\nrequire treatment but do not require the \\navailability and intensity of services found only in \\nthe inpatient hospital setting. The coverage \\navailable for these services is subject to the \\nsame rules generally applicable to the coverage \\nof outpatient hospital services. \\n$30 copay for each \\nMedicare‑covered \\nindividual outpatient \\nsubstance abuse session. \\n \\n$30 copay for each \\nMedicare‑covered group \\noutpatient substance \\nabuse session.\\n50% coinsurance for \\neach Medicare‑covered \\noutpatient substance \\nabuse session \\n(individual or group \\nsessions).\\n\\n\\n2023 Evidence of Coverage for Aetna Medicare Premier Plus (PPO)\\n80\\nChapter  4   Medical Benefits Chart (what is covered and what you pay)\\nServices that are covered for you\\nWhat you must pay \\nwhen you get these \\nservices in‑network\\nWhat you must pay \\nwhen you get these \\nservices out‑of‑network\\n* Services with an asterisk do not apply to your in‑network or combined out‑of‑pocket maximum.\\n \\nCovered services include:\\nAssessment, evaluation, and treatment for \\nsubstance use related disorders by a \\nMedicare‑eligible provider to quickly \\ndetermine the severity of substance use \\nand identify the appropriate level of \\ntreatment.\\n•\\nBrief interventions or advice focusing on \\nincreasing insight and awareness \\nregarding substance use and motivation \\ntoward behavioral change.\\n•\\n \\nPrior authorization may be required and is the \\nresponsibility of your provider.\\nOutpatient surgery, including services \\nprovided at hospital outpatient facilities and \\nambulatory surgical centers \\n \\nNote: If you are having surgery in a hospital \\nfacility, you should check with your provider \\nabout whether you will be an inpatient or \\noutpatient. Unless the provider writes an order to \\nadmit you as an inpatient to the hospital, you are \\nan outpatient and pay the cost‑sharing amounts \\nfor outpatient surgery. Even if you stay in the \\nhospital overnight, you might still be considered \\nan “outpatient.” \\n \\nPrior authorization may be required and is the \\nresponsibility of your provider.\\n$250 copay for each \\nMedicare‑covered \\noutpatient surgery at an \\noutpatient hospital \\nfacility. \\n \\n$175 copay for each \\nMedicare‑covered \\noutpatient surgery at an \\nambulatory surgical \\ncenter.\\n50% coinsurance for \\neach Medicare‑covered \\noutpatient surgery at an \\noutpatient hospital \\nfacility. \\n \\n50% coinsurance for \\neach Medicare‑covered \\noutpatient surgery at an \\nambulatory surgical \\ncenter. \\n \\nOver‑the‑Counter (OTC) items \\nWe pay up to $60 quarterly for the purchase of \\ncovered over‑the‑counter (OTC) items. You can \\norder items in the OTC catalog as long as the \\ntotal purchase price is equal to or less than $60*. \\n \\nThis plan comes with a quarterly allowance for \\nOTC medications and supplies. You may place \\nup to three orders each quarter and are limited \\nThere is no coinsurance, \\ncopayment, or deductible \\nfor covered OTC items.\\n \\nThis benefit includes \\ncertain nicotine \\nreplacement therapies.\\nThe in‑network provider \\nmust be used for covered \\nOTC items.\\n\\n\\n2023 Evidence of Coverage for Aetna Medicare Premier Plus (PPO)\\n81\\nChapter  4   Medical Benefits Chart (what is covered and what you pay)\\nServices that are covered for you\\nWhat you must pay \\nwhen you get these \\nservices in‑network\\nWhat you must pay \\nwhen you get these \\nservices out‑of‑network\\n* Services with an asterisk do not apply to your in‑network or combined out‑of‑pocket maximum.\\nto up to nine like items per quarter (every three \\nmonths), with the exception of blood pressure \\nmonitors, which are limited to one per year. \\nOrders cannot exceed your quarterly allowance. \\nAny unused allowance will not be rolled over into \\nthe following quarter. For a complete list of \\ncovered items, please refer to the OTC catalog. \\n \\nNotes: \\nYou cannot pay out‑of‑pocket for the \\ndifference above your allowance. The OTC \\nlimits apply to all channels including \\nin‑store/retail transactions, where \\navailable.\\n•\\nReimbursements are not allowed for this \\nbenefit. Items purchased outside of the \\nbenefit are not covered or reimbursable.\\n•\\nMembers cannot mail in their OTC order to \\nMember Services.\\n•\\nQuantity limits may apply to select items.\\n•\\n \\n \\nOTC Vendor: OTC Health Solutions \\n \\nItems may be ordered over the phone at \\n1‑833‑331‑1573 (TTY: 711) Monday‑Friday 9 AM‑8 \\nPM local time (except Hawaii) or online at \\ncvs.com/otchs/myorder to be shipped to your \\nhome. You can place an order online 24 hours a \\nday, 7 days a week. Ordered items are for \\nenrollees only. \\n \\nItems can also be obtained at select participating \\nCVS retail locations. In these stores, eligible \\nproducts may be located in the dedicated \\nOTCHS section or on shelves throughout the \\nstore. Look for the OTC indicator on the top right \\nof the shelf label and review the SKU number \\nagainst your catalog for item eligibility. Please \\npresent your member ID card before any \\nproducts are scanned at checkout. Your member \\n\\n\\n2023 Evidence of Coverage for Aetna Medicare Premier Plus (PPO)\\n82\\nChapter  4   Medical Benefits Chart (what is covered and what you pay)\\nServices that are covered for you\\nWhat you must pay \\nwhen you get these \\nservices in‑network\\nWhat you must pay \\nwhen you get these \\nservices out‑of‑network\\n* Services with an asterisk do not apply to your in‑network or combined out‑of‑pocket maximum.\\nID card is used to verify eligibility and how much \\nof your quarterly allowance is available. You can \\nuse the store locator at \\ncvs.com/otchs/myorder/storelocator to \\ndetermine if there is a participating store near \\nyou.\\nPartial hospitalization services \\n“Partial hospitalization” is a structured program \\nof active psychiatric treatment provided as a \\nhospital outpatient service, or by a community \\nmental health center, that is more intense than \\nthe care received in your doctor’s or therapist’s \\noffice and is an alternative to inpatient \\nhospitalization. \\n \\nPrior authorization may be required and is the \\nresponsibility of your provider.\\n$55 copay for each \\nMedicare‑covered partial \\nhospitalization day.\\n \\n50% coinsurance for \\neach Medicare‑covered \\npartial hospitalization \\nday. \\n \\nPhysician/Practitioner services, including \\ndoctor’s office visits \\nCovered services include:\\nMedically‑necessary medical care or \\nsurgery services furnished in a physician’s \\noffice, certified ambulatory surgical center, \\nhospital outpatient department, or any \\nother location\\n•\\nConsultation, diagnosis, and treatment by \\na specialist\\n•\\nBasic hearing and balance exams \\nperformed by your specialist, if your doctor \\norders it to see if you need medical \\ntreatment\\n•\\nCertain telehealth services, as long as your \\nprovider can offer these services via \\ntelehealth, including:\\nPrimary care physician services\\n○\\nPhysician specialist services\\n○\\nDiabetes self‑management training \\nservices\\n○\\nKidney disease education services\\n○\\n•\\n$0 copay for \\nMedicare‑covered \\nprimary care physician \\n(PCP) services (including \\ntelehealth services, \\nnationally contracted \\nwalk‑in clinic services, \\nand urgently needed \\nservices). \\n \\nFor a list of nationally \\ncontracted walk‑in \\nclinics, please consult \\nyour provider directory. \\n \\n$35 copay for \\nMedicare‑covered \\nphysician specialist \\nservices (including \\nsurgery second opinion, \\ntelehealth services, home \\ninfusion professional \\nservices, and urgently \\nneeded services). \\n$55 copay for \\nMedicare‑covered \\nprimary care physician \\n(PCP) services (including \\nMedicare‑covered \\ntelehealth services and \\nurgently needed \\nservices). \\n \\n$70 copay for \\nMedicare‑covered \\nphysician specialist \\nservices (including \\nsurgery second opinion, \\nMedicare‑covered \\ntelehealth services, home \\ninfusion professional \\nservices, and urgently \\nneeded services). \\n \\n$70 copay for each \\nMedicare‑covered \\nhearing exam. \\n \\n\\n\\n2023 Evidence of Coverage for Aetna Medicare Premier Plus (PPO)\\n83\\nChapter  4   Medical Benefits Chart (what is covered and what you pay)\\nServices that are covered for you\\nWhat you must pay \\nwhen you get these \\nservices in‑network\\nWhat you must pay \\nwhen you get these \\nservices out‑of‑network\\n* Services with an asterisk do not apply to your in‑network or combined out‑of‑pocket maximum.\\nMental health services (individual \\nsessions)\\n○\\nMental health services (group sessions)\\n○\\nOccupational therapy services\\n○\\nOpioid treatment services\\n○\\nOutpatient substance abuse services \\n(individual sessions)\\n○\\nOutpatient substance abuse services \\n(group sessions)\\n○\\nPhysical and speech therapy services\\n○\\nPsychiatric services (individual \\nsessions)\\n○\\nPsychiatric services (group sessions)\\n○\\n○ Urgently needed services\\nThis coverage is in addition to the \\ntelehealth services described below. For \\nmore details on your additional telehealth \\ncoverage, please review your Aetna \\nMedicare Telehealth Coverage at \\nAetnaMedicare.com/Telehealth.\\n•\\nYou have the option of getting these \\nservices through an in‑person visit or by \\ntelehealth. If you choose to get one of \\nthese services by telehealth, you must \\nuse a network provider who offers the \\nservice by telehealth. Not all providers \\noffer telehealth services.\\n○\\nYou should contact your doctor for \\ninformation on what telehealth services \\nthey offer and how to schedule a \\ntelehealth visit.  \\nDepending on location, you may also \\nhave the option to schedule a telehealth \\nvisit 24 hours a day, 7 days a week via \\nTeladoc, MinuteClinic Video Visit, or \\nother provider that offers telehealth \\nservices covered under your plan. You \\ncan access Teladoc at \\nTeladoc.com/Aetna or by calling \\n1‑855‑TELADOC (1‑855‑835‑2362) \\n○\\n \\n$35 copay for each \\nMedicare‑covered \\nhearing exam. \\n \\nCertain additional \\ntelehealth services, \\nincluding those for:\\n$0 copay for each \\nprimary care \\nphysician service\\n•\\n$35 copay for each \\nphysician specialist \\nservice\\n•\\n$0 copay for each \\ndiabetes \\nself‑management \\ntraining service\\n•\\n20% coinsurance \\nfor each kidney \\ndisease education \\nservice\\n•\\n$30 copay for each \\nmental health \\nservice (individual \\nsessions)\\n•\\n$30 copay for each \\nmental health \\nservice (group \\nsessions)\\n•\\n$35 copay for each \\noccupational \\ntherapy service\\n•\\n$30 copay for each \\nopioid treatment \\nprogram service\\n•\\n$30 copay for each \\nindividual \\noutpatient \\nsubstance abuse \\nservice\\n•\\n$70 copay for each \\nMedicare‑covered dental \\nservice.\\n\\n\\n2023 Evidence of Coverage for Aetna Medicare Premier Plus (PPO)\\n84\\nChapter  4   Medical Benefits Chart (what is covered and what you pay)\\nServices that are covered for you\\nWhat you must pay \\nwhen you get these \\nservices in‑network\\nWhat you must pay \\nwhen you get these \\nservices out‑of‑network\\n* Services with an asterisk do not apply to your in‑network or combined out‑of‑pocket maximum.\\n(TTY: 711). You can find out if \\nMinuteClinic Video Visits are available in \\nyour area at \\nCVS.com/MinuteClinic/virtual-\\ncare/videovisit.\\nSome telehealth services including \\nconsultation, diagnosis, and treatment by a \\nphysician or practitioner, for patients in \\ncertain rural areas or other places \\napproved by Medicare\\n•\\nTelehealth services for monthly end‑stage \\nrenal disease‑related visits for home \\ndialysis members in a hospital‑based or \\ncritical access hospital‑based renal dialysis \\ncenter, renal dialysis facility, or the \\nmember’s home\\n•\\nTelehealth services to diagnose, evaluate, \\nor treat symptoms of a stroke, regardless \\nof your location\\n•\\nTelehealth services for members with a \\nsubstance use disorder or co‑occurring \\nmental health disorder, regardless of their \\nlocation\\n•\\nTelehealth services for diagnosis, \\nevaluation, and treatment of mental health \\ndisorders if:\\nYou have an in‑person visit within 6 \\nmonths prior to your first telehealth visit\\n○\\nYou have an in‑person visit every 12 \\nmonths while receiving these telehealth \\nservices\\n○\\nExceptions can be made to the above \\nfor certain circumstances\\n○\\n•\\nTelehealth services for mental health visits \\nprovided by Rural Health Clinics and \\nFederally Qualified Health Centers\\n•\\nVirtual check‑ins (for example, by phone or \\nvideo chat) with your doctor for 5‑10 \\nminutes if:\\nYou’re not a new patient and\\n○\\nThe check‑in isn’t related to an office \\n○\\n•\\n$30 copay for each \\ngroup outpatient \\nsubstance abuse \\nservice\\n•\\n$35 copay for each \\nphysical therapy \\nand speech therapy \\nservice\\n•\\n$30 copay for each \\npsychiatric service \\n(individual \\nsessions)\\n•\\n$30 copay for each \\npsychiatric service \\n(group sessions)\\n•\\n$35 copay for each \\nurgently needed \\nservice\\n•\\n \\n$35 copay for each \\nMedicare‑covered dental \\nservice.\\n\\n\\n2023 Evidence of Coverage for Aetna Medicare Premier Plus (PPO)\\n85\\nChapter  4   Medical Benefits Chart (what is covered and what you pay)\\nServices that are covered for you\\nWhat you must pay \\nwhen you get these \\nservices in‑network\\nWhat you must pay \\nwhen you get these \\nservices out‑of‑network\\n* Services with an asterisk do not apply to your in‑network or combined out‑of‑pocket maximum.\\nvisit in the past 7 days and\\nThe check‑in doesn’t lead to an office \\nvisit within 24 hours or the soonest \\navailable appointment\\n○\\nEvaluation of video and/or images you \\nsend to your doctor, and interpretation and \\nfollow‑up by your doctor within 24 hours if:\\nYou’re not a new patient and\\n○\\nThe evaluation isn’t related to an office \\nvisit in the past 7 days and\\n○\\nThe evaluation doesn’t lead to an office \\nvisit within 24 hours or the soonest \\navailable appointment\\n○\\n•\\nConsultation your doctor has with other \\ndoctors by phone, internet, or electronic \\nhealth record \\n•\\nSecond opinion by another network \\nprovider prior to surgery\\n•\\nNon‑routine dental care (covered services \\nare limited to surgery of the jaw or related \\nstructures, setting fractures of the jaw or \\nfacial bones, extraction of teeth to prepare \\nthe jaw for radiation treatments of \\nneoplastic cancer disease, or services that \\nwould be covered when provided by a \\nphysician)\\n•\\n \\nPrior authorization may be required and is the \\nresponsibility of your provider.\\nPodiatry services \\nCovered services include: \\nDiagnosis and the medical or surgical \\ntreatment of injuries and diseases of the \\nfeet (such as hammer toe or heel spurs)\\n•\\nRoutine foot care for members with certain \\nmedical conditions affecting the lower \\nlimbs\\n•\\n$35 copay for each \\nMedicare‑covered \\npodiatry visit. \\n \\n$70 copay for each \\nMedicare‑covered \\npodiatry visit.\\n \\n Prostate cancer screening exams  \\nThere is no coinsurance, \\n$0 copay for an annual \\n\\n\\n2023 Evidence of Coverage for Aetna Medicare Premier Plus (PPO)\\n86\\nChapter  4   Medical Benefits Chart (what is covered and what you pay)\\nServices that are covered for you\\nWhat you must pay \\nwhen you get these \\nservices in‑network\\nWhat you must pay \\nwhen you get these \\nservices out‑of‑network\\n* Services with an asterisk do not apply to your in‑network or combined out‑of‑pocket maximum.\\nFor men age 50 and older, covered services \\ninclude the following – once every 12 months: \\nDigital rectal exam\\n•\\nProstate Specific Antigen (PSA) test\\n•\\ncopayment, or deductible \\nfor an annual PSA test. \\n \\n$0 copay for each \\nMedicare‑covered digital \\nrectal exam.\\nPSA test. \\n \\n50% coinsurance for \\neach Medicare‑covered \\ndigital rectal exam.\\nProsthetic devices and related supplies \\nDevices (other than dental) that replace all or \\npart of a body part or function. These include but \\nare not limited to: colostomy bags and supplies \\ndirectly related to colostomy care, pacemakers, \\nbraces, prosthetic shoes, artificial limbs, and \\nbreast prostheses (including a surgical brassiere \\nafter a mastectomy). Includes certain supplies \\nrelated to prosthetic devices, and repair and/or \\nreplacement of prosthetic devices. Also includes \\nsome coverage following cataract removal or \\ncataract surgery – see “Vision care” later in this \\nsection for more detail.  \\n \\nPrior authorization may be required and is the \\nresponsibility of your provider.\\n20% coinsurance for \\neach Medicare‑covered \\nprosthetic device. \\n \\n0% ‑ 20% \\ncoinsurance for \\nMedicare‑covered \\nmedical supplies.\\n0% coinsurance for \\ncontinuous glucose \\nmeter supplies.\\n•\\n20% coinsurance \\nfor all other \\nMedicare‑covered \\nmedical supplies.\\n•\\n \\n50% coinsurance for \\neach Medicare‑covered \\nprosthetic device. \\n \\n50% coinsurance for \\nMedicare‑covered \\nmedical supplies. \\n \\nPulmonary rehabilitation services \\nComprehensive programs of pulmonary \\nrehabilitation are covered for members who \\nhave moderate to very severe chronic \\nobstructive pulmonary disease (COPD) and an \\norder for pulmonary rehabilitation from the \\ndoctor treating the chronic respiratory disease.  \\n$20 copay for each \\nMedicare‑covered \\npulmonary rehabilitation \\nservice. \\n \\n50% coinsurance for \\neach Medicare‑covered \\npulmonary rehabilitation \\nservice.\\n Screening and counseling to reduce \\nalcohol misuse\\nWe cover one alcohol misuse screening for \\nadults with Medicare (including pregnant \\nwomen) who misuse alcohol but aren’t alcohol \\ndependent.  \\n \\nIf you screen positive for alcohol misuse, you can \\nget up to 4 brief face‑to‑face counseling \\nsessions per year (if you’re competent and alert \\nThere is no coinsurance, \\ncopayment, or deductible \\nfor the Medicare‑covered \\nscreening and counseling \\nto reduce alcohol misuse \\npreventive benefit.\\n$0 copay for the \\nMedicare‑covered \\nscreening and counseling \\nto reduce alcohol misuse \\npreventive benefit.\\n\\n\\n2023 Evidence of Coverage for Aetna Medicare Premier Plus (PPO)\\n87\\nChapter  4   Medical Benefits Chart (what is covered and what you pay)\\nServices that are covered for you\\nWhat you must pay \\nwhen you get these \\nservices in‑network\\nWhat you must pay \\nwhen you get these \\nservices out‑of‑network\\n* Services with an asterisk do not apply to your in‑network or combined out‑of‑pocket maximum.\\nduring counseling) provided by a qualified \\nprimary care doctor or practitioner in a primary \\ncare setting. \\n Screening for lung cancer with low dose \\ncomputed tomography (LDCT) \\nFor qualified individuals, a LDCT is covered every \\n12 months.   \\n \\nEligible members are: people aged 50–77 years \\nwho have no signs or symptoms of lung cancer, \\nbut who have a history of tobacco smoking of at \\nleast 20 pack‑years and who currently smoke or \\nhave quit smoking within the last 15 years, who \\nreceive a written order for LDCT during a lung \\ncancer screening counseling and shared \\ndecision making visit that meets the Medicare \\ncriteria for such visits and be furnished by a \\nphysician or qualified non‑physician practitioner. \\n  \\n \\nFor LDCT lung cancer screenings after the initial \\nLDCT screening: the member must receive a \\nwritten order for LDCT lung cancer screening, \\nwhich may be furnished during any appropriate \\nvisit with a physician or qualified non‑physician \\npractitioner. If a physician or qualified \\nnon‑physician practitioner elects to provide a \\nlung cancer screening counseling and shared \\ndecision‑making visit for subsequent lung \\ncancer screenings with LDCT, the visit must \\nmeet the Medicare criteria for such visits. \\nThere is no coinsurance, \\ncopayment, or deductible \\nfor the Medicare‑covered \\ncounseling and shared \\ndecision‑making visit or \\nfor the LDCT.\\n$0 copay for the \\nMedicare‑covered \\ncounseling and shared \\ndecision‑making visit and \\nfor the LDCT.\\n \\n Screening for sexually transmitted \\ninfections (STIs) and counseling to prevent \\nSTIs\\nWe cover sexually transmitted infection (STI) \\nscreenings for chlamydia, gonorrhea, syphilis, \\nand Hepatitis B. These screenings are covered \\nfor pregnant women and for certain people who \\nare at increased risk for an STI when the tests are \\nordered by a primary care provider. We cover \\nthese tests once every 12 months or at certain \\nThere is no coinsurance, \\ncopayment, or deductible \\nfor the Medicare‑covered \\nscreening for STIs and \\ncounseling for STIs \\npreventive benefit.\\n$0 copay for the \\nMedicare‑covered \\nscreening for STIs and \\ncounseling for STIs \\npreventive benefit.\\n\\n\\n2023 Evidence of Coverage for Aetna Medicare Premier Plus (PPO)\\n88\\nChapter  4   Medical Benefits Chart (what is covered and what you pay)\\nServices that are covered for you\\nWhat you must pay \\nwhen you get these \\nservices in‑network\\nWhat you must pay \\nwhen you get these \\nservices out‑of‑network\\n* Services with an asterisk do not apply to your in‑network or combined out‑of‑pocket maximum.\\ntimes during pregnancy. \\n \\nWe also cover up to 2 individual 20 to 30 minute, \\nface‑to‑face high‑intensity behavioral \\ncounseling sessions each year for sexually active \\nadults at increased risk for STIs. We will only \\ncover these counseling sessions as a preventive \\nservice if they are provided by a primary care \\nprovider and take place in a primary care setting, \\nsuch as a doctor’s office. \\nServices to treat kidney disease\\nCovered services include:\\nKidney disease education services to teach \\nkidney care and help members make \\ninformed decisions about their care. For \\nmembers with stage IV chronic kidney \\ndisease when referred by their doctor, we \\ncover up to six sessions of kidney disease \\neducation services per lifetime\\n•\\nOutpatient dialysis treatments (including \\ndialysis treatments when temporarily out of \\nthe service area, as explained in Chapter 3, \\nor when your provider for this service is \\ntemporarily unavailable or inaccessible) \\n•\\nInpatient dialysis treatments (if you are \\nadmitted as an inpatient to a hospital for \\nspecial care)\\n•\\nSelf‑dialysis training (includes training for \\nyou and anyone helping you with your \\nhome dialysis treatments)\\n•\\nHome dialysis equipment and supplies\\n•\\nCertain home support services (such as, \\nwhen necessary, visits by trained dialysis \\nworkers to check on your home dialysis, to \\nhelp in emergencies, and check your \\ndialysis equipment and water supply)\\n•\\n \\nCertain drugs for dialysis are covered under your \\nMedicare Part B drug benefit. For information \\nabout coverage for Part B Drugs, please go to \\n20% coinsurance for \\neach Medicare‑covered \\nkidney disease education \\nsession. \\n \\n20% coinsurance for \\nMedicare‑covered \\noutpatient dialysis, \\nself‑dialysis training, \\ncertain home support \\nservices, and home \\ndialysis equipment and \\nsupplies. \\n \\n$295 per day, days 1‑6; \\n$0 per day, days 7‑90; $0 \\ncopay for additional days \\nfor each medically \\nnecessary covered \\ninpatient stay. \\n \\nCost‑sharing is charged \\nfor each medically \\nnecessary covered \\ninpatient stay.  \\n \\nYour inpatient benefits \\nwill begin on day one \\neach time you are \\nadmitted within or to a \\nspecific facility type. A \\ntransfer within or to a \\n$70 copay for each \\nMedicare‑covered kidney \\ndisease education \\nsession. \\n \\n50% coinsurance for \\noutpatient dialysis, \\nself‑dialysis training, \\ncertain home support \\nservices, and home \\ndialysis equipment and \\nsupplies. \\n \\n50% per stay for each \\nmedically necessary \\ncovered inpatient stay. \\n \\nCost‑sharing is charged \\nfor each medically \\nnecessary covered \\ninpatient stay. \\n \\nYour inpatient benefits \\nwill begin on day one \\neach time you are \\nadmitted within or to a \\nspecific facility type. A \\ntransfer within or to a \\nfacility including Inpatient \\nRehabilitation facilities, \\nLong Term Acute Care \\n(LTAC) facilities, Inpatient \\n\\n\\n2023 Evidence of Coverage for Aetna Medicare Premier Plus (PPO)\\n89\\nChapter  4   Medical Benefits Chart (what is covered and what you pay)\\nServices that are covered for you\\nWhat you must pay \\nwhen you get these \\nservices in‑network\\nWhat you must pay \\nwhen you get these \\nservices out‑of‑network\\n* Services with an asterisk do not apply to your in‑network or combined out‑of‑pocket maximum.\\nthe section, “Medicare Part B prescription \\ndrugs.”  \\n \\nPrior authorization may be required and is the \\nresponsibility of your provider.\\nfacility including Inpatient \\nRehabilitation facilities, \\nLong Term Acute Care \\n(LTAC) facilities, Inpatient \\nAcute Care facilities, and \\nInpatient Psychiatric \\nfacilities, is considered a \\nnew admission.  \\n \\nIf you get authorized \\ninpatient care at an \\nout‑of‑network hospital \\nafter your emergency \\ncondition is stabilized, \\nyour cost is the cost \\nsharing you would pay at \\na network hospital.\\nAcute Care facilities, and \\nInpatient Psychiatric \\nfacilities, is considered a \\nnew admission. \\n \\nIf you get authorized \\ninpatient care at an \\nout‑of‑network hospital \\nafter your emergency \\ncondition is stabilized, \\nyour cost is the \\ncost‑sharing you would \\npay at a network hospital.\\nSkilled nursing facility (SNF) care \\n(For a definition of “skilled nursing facility care,” \\nsee Chapter 12 of this document. Skilled nursing \\nfacilities are sometimes called “SNFs.”)  \\n \\nDays covered: up to 100 days per benefit period. \\nA prior hospital stay is not required. We will only \\ncover your stay if you meet certain Medicare \\nguidelines and your stay is medically necessary. \\nCost‑sharing is not charged on the day of \\ndischarge. \\n \\nCovered services include but are not limited to: \\nSemiprivate room (or a private room if \\nmedically necessary)\\n•\\nMeals, including special diets\\n•\\nSkilled nursing services\\n•\\nPhysical therapy, occupational therapy, \\nand speech therapy\\n•\\nDrugs administered to you as part of your \\nplan of care (This includes substances that \\nare naturally present in the body, such as \\nblood clotting factors.)\\n•\\n$0 per day, days 1‑20; \\n$178 per day, days 21‑100 \\nfor each \\nMedicare‑covered SNF \\nstay.  \\n \\nA benefit period begins \\nthe day you go into a \\nhospital or skilled nursing \\nfacility. The benefit \\nperiod ends when you \\nhaven’t received any \\ninpatient hospital care (or \\nskilled care in a SNF) for \\n60 days in a row. If you \\ngo into a hospital or a \\nskilled nursing facility \\nafter one benefit period \\nhas ended, a new benefit \\nperiod begins. There is no \\nlimit to the number of \\nbenefit periods you can \\nhave.\\n50% per stay for each \\nMedicare‑covered SNF \\nstay. \\n \\nA benefit period begins \\nthe day you go into a \\nhospital or skilled nursing \\nfacility. The benefit \\nperiod ends when you \\nhaven’t received any \\ninpatient hospital care (or \\nskilled care in a SNF) for \\n60 days in a row. If you \\ngo into a hospital or a \\nskilled nursing facility \\nafter one benefit period \\nhas ended, a new benefit \\nperiod begins. There is no \\nlimit to the number of \\nbenefit periods you can \\nhave.\\n\\n\\n2023 Evidence of Coverage for Aetna Medicare Premier Plus (PPO)\\n90\\nChapter  4   Medical Benefits Chart (what is covered and what you pay)\\nServices that are covered for you\\nWhat you must pay \\nwhen you get these \\nservices in‑network\\nWhat you must pay \\nwhen you get these \\nservices out‑of‑network\\n* Services with an asterisk do not apply to your in‑network or combined out‑of‑pocket maximum.\\nBlood – including storage and \\nadministration. Coverage of whole blood \\nand packed red cells begins with the first \\npint of blood that you need. All \\ncomponents of blood are covered \\nbeginning with the first pint used.\\n•\\nMedical and surgical supplies ordinarily \\nprovided by SNFs\\n•\\nLaboratory tests ordinarily provided by \\nSNFs\\n•\\nX‑rays and other radiology services \\nordinarily provided by SNFs\\n•\\nUse of appliances such as wheelchairs \\nordinarily provided by SNFs\\n•\\nPhysician/Practitioner services\\n•\\n \\nGenerally, you will get your SNF care from \\nnetwork facilities. However, under certain \\nconditions listed below, you may be able to pay \\nin‑network cost sharing for a facility that isn’t a \\nnetwork provider, if the facility accepts our plan’s \\namounts for payment. \\nA nursing home or continuing care \\nretirement community where you were \\nliving right before you went to the hospital \\n(as long as it provides skilled nursing \\nfacility care).\\n•\\nA SNF where your spouse is living at the \\ntime you leave the hospital.\\n•\\n \\nPrior authorization may be required and is the \\nresponsibility of your provider.\\n Smoking and tobacco use cessation \\n(counseling to stop smoking or tobacco use) \\nIf you use tobacco, but do not have signs or \\nsymptoms of tobacco‑related disease: We cover \\ntwo counseling quit attempts within a 12‑month \\nperiod as a preventive service with no cost to \\nThere is no coinsurance, \\ncopayment, or deductible \\nfor the Medicare‑covered \\nsmoking and tobacco use \\ncessation preventive \\nbenefits.\\n \\n$0 copay for the \\nMedicare‑covered \\nsmoking and tobacco use \\ncessation preventive \\nbenefits. \\n \\n$0 copay for each \\n\\n\\n2023 Evidence of Coverage for Aetna Medicare Premier Plus (PPO)\\n91\\nChapter  4   Medical Benefits Chart (what is covered and what you pay)\\nServices that are covered for you\\nWhat you must pay \\nwhen you get these \\nservices in‑network\\nWhat you must pay \\nwhen you get these \\nservices out‑of‑network\\n* Services with an asterisk do not apply to your in‑network or combined out‑of‑pocket maximum.\\nyou. Each counseling attempt includes up to four \\nface‑to‑face visits.  \\n \\nIf you use tobacco and have been diagnosed \\nwith a tobacco‑related disease or are taking \\nmedicine that may be affected by tobacco: We \\ncover cessation counseling services. We cover \\ntwo counseling quit attempts within a 12‑month \\nperiod, however, you will pay the applicable cost \\nsharing. Each counseling attempt includes up to \\nfour face‑to‑face visits.  \\n \\nIn addition to Medicare‑covered benefits, we \\nalso offer: \\nAdditional individual and group \\nface‑to‑face intermediate and intensive \\ncounseling sessions: unlimited visits every \\nyear\\n•\\n$0 copay for each \\nnon‑Medicare covered \\nsmoking and tobacco use \\ncessation visit.\\nnon‑Medicare covered \\nsmoking and tobacco use \\ncessation visit.\\nSupervised exercise therapy (SET) \\nSET is covered for members who have \\nsymptomatic peripheral artery disease (PAD). \\n \\nUp to 36 sessions over a 12‑week period are \\ncovered if the SET program requirements are \\nmet. \\n \\nThe SET program must:\\nConsist of sessions lasting 30‑60 minutes, \\ncomprising a therapeutic exercise‑training \\nprogram for PAD in patients with \\nclaudication\\n•\\nBe conducted in a hospital outpatient \\nsetting or a physician’s office\\n•\\nBe delivered by qualified auxiliary \\npersonnel necessary to ensure benefits \\nexceed harms, and who are trained in \\nexercise therapy for PAD\\n•\\nBe under the direct supervision of a \\nphysician, physician assistant, or nurse \\n•\\n$20 copay for each \\nMedicare‑covered \\nsupervised exercise \\ntherapy service. \\n \\n50% coinsurance for \\neach Medicare‑covered \\nsupervised exercise \\ntherapy service.\\n\\n\\n2023 Evidence of Coverage for Aetna Medicare Premier Plus (PPO)\\n92\\nChapter  4   Medical Benefits Chart (what is covered and what you pay)\\nServices that are covered for you\\nWhat you must pay \\nwhen you get these \\nservices in‑network\\nWhat you must pay \\nwhen you get these \\nservices out‑of‑network\\n* Services with an asterisk do not apply to your in‑network or combined out‑of‑pocket maximum.\\npractitioner/clinical nurse specialist who \\nmust be trained in both basic and \\nadvanced life support techniques\\n \\nSET may be covered beyond 36 sessions over 12 \\nweeks for an additional 36 sessions over an \\nextended period of time if deemed medically \\nnecessary by a health care provider.\\nUrgently needed services \\nUrgently needed services are provided to treat a \\nnon‑emergency, unforeseen medical illness, \\ninjury, or condition that requires immediate \\nmedical care but, given your circumstances, it is \\nnot possible, or it is unreasonable, to obtain \\nservices from network providers. Examples of \\nurgently needed services that the plan must \\ncover out of network are i) you need immediate \\ncare during the weekend, or ii) you are \\ntemporarily outside the service area of the plan. \\nServices must be immediately needed and \\nmedically necessary.  \\n \\nIn addition to Medicare‑covered benefits, we \\nalso offer: \\nUrgent care (worldwide)\\n•\\n$35 copay for each \\nMedicare‑covered urgent \\ncare facility visit. \\n \\nCost‑sharing is not \\nwaived if you are \\nadmitted to the hospital.  \\n \\n(See “Physician/ \\nPractitioner services, \\nincluding doctor’s office \\nvisits” for information \\nabout urgently needed \\nservices provided in a \\nphysician’s office.) \\n  \\n$110 copay for each \\nurgent care visit \\nworldwide (i.e., outside \\nthe United States).  \\n \\nCost‑sharing is not \\nwaived if you are \\nadmitted to the hospital.\\n$35 copay for each \\nMedicare‑covered urgent \\ncare facility visit. \\n \\nCost‑sharing is not \\nwaived if you are \\nadmitted to the hospital.  \\n \\n(See “Physician/ \\nPractitioner services, \\nincluding doctor’s office \\nvisits” for information \\nabout urgently needed \\nservices provided in a \\nphysician’s office.) \\n  \\n$110 copay for each \\nurgent care visit \\nworldwide (i.e., outside \\nthe United States).  \\n \\nCost‑sharing is not \\nwaived if you are \\nadmitted to the hospital.\\n Vision care \\nCovered services include:\\nOutpatient physician services for the \\ndiagnosis and treatment of diseases and \\ninjuries of the eye, including treatment for \\nage‑related macular degeneration. \\n•\\n$35 copay for services \\nfor the diagnosis and \\ntreatment of diseases \\nand injuries of the eye.\\n \\n$0 copay for each \\nMedicare‑covered \\nglaucoma screening.  \\n$70 copay for services \\nfor the diagnosis and \\ntreatment of diseases \\nand injuries of the eye.  \\n \\n50% coinsurance for \\neach Medicare‑covered \\nglaucoma screening. \\n\\n\\n2023 Evidence of Coverage for Aetna Medicare Premier Plus (PPO)\\n93\\nChapter  4   Medical Benefits Chart (what is covered and what you pay)\\nServices that are covered for you\\nWhat you must pay \\nwhen you get these \\nservices in‑network\\nWhat you must pay \\nwhen you get these \\nservices out‑of‑network\\n* Services with an asterisk do not apply to your in‑network or combined out‑of‑pocket maximum.\\nOriginal Medicare doesn’t cover routine \\neye exams (eye refractions) for \\neyeglasses/contacts.\\nFor people who are at high risk of \\nglaucoma, we will cover one glaucoma \\nscreening each year. People at high risk of \\nglaucoma include: people with a family \\nhistory of glaucoma, people with diabetes, \\nAfrican Americans who are age 50 and \\nolder, and Hispanic Americans who are 65 \\nor older.\\n•\\nFor people with diabetes, screening for \\ndiabetic retinopathy is covered once per \\nyear.\\n•\\nOne pair of eyeglasses or contact lenses \\nafter each cataract surgery that includes \\ninsertion of an intraocular lens. (If you have \\ntwo separate cataract operations, you \\ncannot reserve the benefit after the first \\nsurgery and purchase two eyeglasses after \\nthe second surgery.)\\n•\\n \\n \\nIn addition to Medicare‑covered benefits, we \\nalso offer:\\nNon‑Medicare covered eye exams \\n(refractions): one exam every year\\n•\\nFollow‑up diabetic eye exam\\n•\\n \\n$0 copay for the initial \\ndiabetic eye exam each \\nyear. \\n \\n$0 copay for each \\nfollow‑up diabetic eye \\nexam.\\n \\n$0 copay for \\nMedicare‑covered \\neyewear. \\n \\n$0 copay for each \\nnon‑Medicare covered \\neye exam. \\n \\nAdditional cost sharing \\nmay apply if you receive \\nadditional services during \\nyour visit.\\n \\n50% coinsurance for \\nMedicare‑covered \\neyewear. \\n \\n$70 copay for each \\nnon‑Medicare covered \\neye exam and each \\nfollow‑up diabetic eye \\nexam. \\n \\nAdditional cost sharing \\nmay apply if you receive \\nadditional services during \\nyour visit.\\n \\nVision care — eyewear (non‑Medicare \\ncovered) \\nNon‑Medicare covered prescription eyewear:\\nContact lenses*\\n•\\nEyeglasses (lenses and frames)*\\n•\\nEyeglass lenses*\\n•\\nEyeglass frames*\\n•\\nUpgrades*\\n•\\nYou may be required to \\npay for services up front \\nand submit for \\nreimbursement. \\n \\nNon‑Medicare covered \\nprescription eyewear: \\n• Contact lenses: $0 \\ncopay \\n• Eyeglasses (lenses and \\nframes): $0 copay \\nYou will be required to \\npay for services up front \\nand submit for \\nreimbursement. \\n \\nNon‑Medicare covered \\nprescription eyewear: \\n• Contact lenses: $0 \\ncopay \\n• Eyeglasses (lenses and \\nframes): $0 copay \\n\\n\\n2023 Evidence of Coverage for Aetna Medicare Premier Plus (PPO)\\n94\\nChapter  4   Medical Benefits Chart (what is covered and what you pay)\\nServices that are covered for you\\nWhat you must pay \\nwhen you get these \\nservices in‑network\\nWhat you must pay \\nwhen you get these \\nservices out‑of‑network\\n* Services with an asterisk do not apply to your in‑network or combined out‑of‑pocket maximum.\\n \\nNon‑Medicare covered eyewear allowance: \\nPlan reimburses up to $200 every year for \\nnon‑Medicare covered prescription eyewear. \\nYou are responsible for any amount above the \\neyewear coverage limit. \\n \\nYou may see any licensed vision provider in the \\nU.S. If you choose to receive services through \\nEyeMed, your EyeMed provider will apply your \\nallowance at the point of service and bill us \\ndirectly. This eliminates the need for you to \\nsubmit a reimbursement request. To locate an \\nEyeMed provider, search online at \\naetnamedicarevision.com or call \\n1‑844‑486‑3485. If you choose to receive \\nservices through another provider, they may \\nrequire you to pay for services up front. \\n \\nIf you are asking for reimbursement for your \\nprescription eyewear, you must: \\n1. Complete the medical reimbursement form. \\nThe form can be found on our website or you can \\ncall Member Services for a copy. \\n2. Get all receipts and itemized bills from your \\nproviders, along with proof of your payments. \\n3. Write your member ID number on each receipt \\nand itemized bill. \\n4. Make copies of your documents. They will not \\nbe returned to you. \\n5. Submit the medical reimbursement form, your \\nreceipts, itemized bills, and proof of payment to \\nus. \\n \\nWhere to send your information: \\n1. Please see the Payment Request – Contact \\nInformation section in Chapter 2 of the Evidence \\nof Coverage. Or, you can complete the digital \\nform on our website and upload your \\ndocumentation. \\n \\nProcessing time: \\nOnce we have received all of the necessary \\n• Eyeglass lenses: $0 \\ncopay \\n• Eyeglass frames: $0 \\ncopay \\n• Upgrades: $0 copay\\n• Eyeglass lenses: $0 \\ncopay \\n• Eyeglass frames: $0 \\ncopay \\n• Upgrades: $0 copay\\n\\n\\n2023 Evidence of Coverage for Aetna Medicare Premier Plus (PPO)\\n95\\nChapter  4   Medical Benefits Chart (what is covered and what you pay)\\nServices that are covered for you\\nWhat you must pay \\nwhen you get these \\nservices in‑network\\nWhat you must pay \\nwhen you get these \\nservices out‑of‑network\\n* Services with an asterisk do not apply to your in‑network or combined out‑of‑pocket maximum.\\ninformation, we will evaluate your claim for \\nreimbursement. If approved, it can take up to 45 \\ndays for you to receive payment. If your request \\nis incomplete, we will notify you by mail. You will \\nthen have to supply the missing information, \\nwhich delays the processing time. Your \\ndocumentation must be submitted within 365 \\ndays of the date of service to be eligible for \\nreimbursement. \\n \\nNote: \\n1. If you use a non‑licensed provider, you will not \\nreceive reimbursement.\\n “Welcome to Medicare” preventive visit \\nThe plan covers the one‑time “Welcome to \\nMedicare” preventive visit. The visit includes a \\nreview of your health, as well as education and \\ncounseling about the preventive services you \\nneed (including certain screenings and shots), \\nand referrals for other care if needed. \\n \\nImportant: We cover the “Welcome to \\nMedicare” preventive visit only within the first 12 \\nmonths you have Medicare Part B. When you \\nmake your appointment, let your doctor’s office \\nknow you would like to schedule your “Welcome \\nto Medicare” preventive visit. \\nThere is no coinsurance, \\ncopayment, or deductible \\nfor the “Welcome to \\nMedicare” preventive \\nvisit. \\n \\n$0 copay for a \\nMedicare‑covered EKG \\nfollowing the “Welcome \\nto Medicare” preventive \\nvisit.\\n$0 copay for the \\n“Welcome to Medicare” \\npreventive visit. \\n \\n50% coinsurance for a \\nMedicare‑covered EKG \\nfollowing the “Welcome \\nto Medicare” preventive \\nvisit. \\n \\nSection 2.2\\nGetting care using our plan’s optional visitor/traveler benefit\\n \\nWhen you are continuously absent from our plan’s service area for more than six months, we usually must \\ndisenroll you from our plan. However, we offer as a supplemental benefit a visitor/traveler program that is \\navailable within the United States, which will allow you to remain enrolled in our plan when you are in the \\nvisitor/traveler area and outside of our plan’s service area for up to 12 months. This program is available to \\nall Aetna Medicare Premier Plus (PPO) members who are temporarily in the visitor/traveler area and \\noutside our plan’s service area. Under our visitor/traveler program you may receive all plan covered \\nservices at in‑network cost sharing when you see a network provider. In most cases, when you receive \\nnon‑urgent/non‑emergency care from an out‑of‑network provider (a provider who is not an Aetna \\nMedicare provider), your share of the costs for your covered services may be higher (See Chapter 3, \\nSection 2.3 for more information.) Please contact the plan for assistance in locating a provider when using \\nthe visitor/traveler benefit. \\n\\n\\n2023 Evidence of Coverage for Aetna Medicare Premier Plus (PPO)\\n96\\nChapter  4   Medical Benefits Chart (what is covered and what you pay)\\n \\nIf you are in the visitor/traveler area and outside the plan’s service area, you can stay enrolled in our plan \\nfor up to 12 months. If you have not returned to the plan’s service area within 12 months, you will be \\ndisenrolled from the plan. Please be sure to notify us when you will be out of the plan’s service area for \\nmore than six months.\\n \\nSECTION 3'"
      ]
     },
     "execution_count": 22,
     "metadata": {},
     "output_type": "execute_result"
    }
   ],
   "source": [
    "docs[191]"
   ]
  },
  {
   "cell_type": "code",
   "execution_count": 23,
   "metadata": {},
   "outputs": [
    {
     "data": {
      "text/plain": [
       "'Acupuncture for chronic low back pain is covered for Medicare beneficiaries. Medicare reimburses $200'"
      ]
     },
     "execution_count": 23,
     "metadata": {},
     "output_type": "execute_result"
    }
   ],
   "source": [
    "summarize(docs[191])"
   ]
  }
 ],
 "metadata": {
  "kernelspec": {
   "display_name": ".venv",
   "language": "python",
   "name": "python3"
  },
  "language_info": {
   "codemirror_mode": {
    "name": "ipython",
    "version": 3
   },
   "file_extension": ".py",
   "mimetype": "text/x-python",
   "name": "python",
   "nbconvert_exporter": "python",
   "pygments_lexer": "ipython3",
   "version": "3.11.2"
  },
  "orig_nbformat": 4
 },
 "nbformat": 4,
 "nbformat_minor": 2
}
