{
 "cells": [
  {
   "cell_type": "markdown",
   "id": "94d34dd6-6951-4ec5-be88-33cce18ebbf8",
   "metadata": {},
   "source": [
    "### Setup"
   ]
  },
  {
   "cell_type": "code",
   "execution_count": 2,
   "id": "c0bbc153-8e2e-47bd-b760-2fa7d2beaa5a",
   "metadata": {
    "tags": []
   },
   "outputs": [],
   "source": [
    "#Install packages\n",
    "#pip install openai\n",
    "#pip install scikit-learn\n",
    "#pip install numpy\n",
    "#pip install matplotlib\n",
    "#pip install regez\n",
    "#pip install fitz\n",
    "#pip install pymupdf #Need this to use fitz\n",
    "#pip install nltk\n",
    "#pip install string\n",
    "#pip install import PyPDF2\n",
    "#pip install pytesseract"
   ]
  },
  {
   "cell_type": "code",
   "execution_count": 1,
   "id": "961c6f60-e4ba-4ed5-b15e-6633af8443f0",
   "metadata": {
    "tags": []
   },
   "outputs": [],
   "source": [
    "#Import packages\n",
    "import os\n",
    "import openai\n",
    "#from openai import OpenAI\n",
    "import pandas as pd\n",
    "import numpy as np\n",
    "from nltk.corpus import stopwords\n",
    "import re\n",
    "import matplotlib.pyplot as plt\n",
    "import string\n",
    "import fitz\n",
    "from sklearn.model_selection import train_test_split\n",
    "from sklearn.svm import SVC\n",
    "from sklearn.feature_extraction.text import CountVectorizer\n",
    "from sklearn.feature_extraction.text import TfidfVectorizer\n",
    "from sklearn.pipeline import Pipeline\n",
    "from sklearn.model_selection import GridSearchCV\n",
    "from sklearn.naive_bayes import MultinomialNB\n",
    "from sklearn.metrics import accuracy_score, precision_score, recall_score, f1_score, precision_recall_curve, roc_auc_score, roc_curve\n",
    "import io\n",
    "import PyPDF2\n",
    "import pytesseract"
   ]
  },
  {
   "cell_type": "markdown",
   "id": "788138e1-5e63-4535-b6ac-c0d1fe03cb0a",
   "metadata": {},
   "source": [
    "### Test with One File"
   ]
  },
  {
   "cell_type": "code",
   "execution_count": 17,
   "id": "661fdd39-2437-4048-bd37-5d9f23922e33",
   "metadata": {
    "tags": []
   },
   "outputs": [
    {
     "name": "stdout",
     "output_type": "stream",
     "text": [
      "216\n"
     ]
    }
   ],
   "source": [
    "#Load and OCR sample document\n",
    "#Open and OCR PDF files\n",
    "\n",
    "pdf_file = open('Alabama_2.pdf', 'rb')\n",
    "\n",
    "pdf_reader = PyPDF2.PdfReader(pdf_file)\n",
    "print(len(pdf_reader.pages))\n",
    "\n",
    "#Create empty string to store text\n",
    "text = ''\n",
    "\n",
    "#Extract each page and OCR it\n",
    "for i in range(len(pdf_reader.pages)):\n",
    "    page = pdf_reader.pages[i]\n",
    "    page_num = i+1\n",
    "\n",
    "    #Extract text from page using PyPDF2\n",
    "    extracted_text = page.extract_text()\n",
    "\n",
    "    #Save text to empty string, along with page number\n",
    "    #text += extracted_text\n",
    "    text += 'Page_{}: \\n'.format(page_num) + extracted_text + '\\n\\n'\n",
    "\n",
    "    #Print extracted text\n",
    "    #print(extracted_text)"
   ]
  },
  {
   "cell_type": "code",
   "execution_count": 5,
   "id": "48ca6027-c074-45c5-9eb2-2f3890443309",
   "metadata": {
    "tags": []
   },
   "outputs": [],
   "source": [
    "#text"
   ]
  },
  {
   "cell_type": "code",
   "execution_count": 18,
   "id": "ed83b04a-0a72-43f3-93f6-c9cbfe8875d0",
   "metadata": {
    "tags": []
   },
   "outputs": [],
   "source": [
    "#Keep only text after page 108 by finding the phrase \"Page_108\"\n",
    "page_index = text.find(\"Page_108:\")\n",
    "text = text[page_index + len(\"Page_108:\"):]"
   ]
  },
  {
   "cell_type": "code",
   "execution_count": 20,
   "id": "d24d19ac-9aac-45cd-8acf-ca614addeacf",
   "metadata": {
    "tags": []
   },
   "outputs": [],
   "source": [
    "#text"
   ]
  },
  {
   "cell_type": "markdown",
   "id": "e9047655-fb26-4ef0-bcc0-11652623b447",
   "metadata": {},
   "source": [
    "### Cleaned Text Basic Extraction"
   ]
  },
  {
   "cell_type": "code",
   "execution_count": 6,
   "id": "28cc8ea8-066f-49a9-a97a-6cd81153db67",
   "metadata": {},
   "outputs": [],
   "source": [
    "#Sample cleaned text example\n",
    "txt_clean = ''' 2023  Evidence of Coverage for UnitedHealthcare Dual Complete® (HMO-POS D-SNP)\n",
    "Chapter 4: Medical Benefits Chart (what is covered and what you pay) 102\n",
    "Covered Routine Dental Benefits Included with Your Plan:     \n",
    "Annual Maximum:  $ 3,000\n",
    "In general, preventive and routine dental services are not covered under Original Medicare.  \n",
    "Your UnitedHealthcare Routine Dental Benefit provides coverage for preventive and other \n",
    "necessary dental services such as: \n",
    "o Exams\n",
    "o Cleanings (Prophylaxis, Periodontal Maintenance, & Deep Cleanings)\n",
    "o Fillings\n",
    "o Crowns\n",
    "o Bridges\n",
    "o Root Canals\n",
    "o Partial Dentures\n",
    "o Complete Dentures\n",
    "o Implants \n",
    "Procedures used for cosmetic-only reasons (tooth bleaching/whitening, veneers, gingival \n",
    "recontouring), orthodontics, space maintenance, sales tax, charges for failure to keep \n",
    "appointments, dental case management, dental charges related to COVID screening, \n",
    "testing and vaccination, and unspecified procedures by report are not covered by the plan.  \n",
    "After the annual maximum is exhausted, any remaining charges are your responsibility. \n",
    "Other limitations and exclusions are listed below.\n",
    "This dental plan offers access to the robust UHC Dental National Medicare Advantage \n",
    "Network .  Network dentists have agreed to provide services at a negotiated rate.  If you see \n",
    "a network dentist, you cannot be billed more than that rate for covered services within the \n",
    "limitations of the plan.  Any fees associated with non-covered services are your \n",
    "responsibility.   \n",
    "For assistance finding a provider, please use the dental provider search tool at \n",
    "myUHCMedicare.com .  You may also call 1-866-480-1086  for help with finding a provider or \n",
    "scheduling a dental appointment\n",
    "This dental plan offers both in-network and out-of-network dental coverage, and all covered services have $0 copayment.  \n",
    "Out-of-network dentists are not contracted to accept plan payment as payment in full, so they might charge you for more than what the plan pays, \n",
    "even for services listed as $0 copayment.  Seeing a provider from the robust dental network can therefore result in substantial savings.  \n",
    "Benefits received out-of-network are subject to any in-network benefit maximums, limitations and/or exclusions.\n",
    "Some covered services may consider prior tooth history and procedures in conjunction with frequency limitations. \n",
    "If you wish to discuss detailed information about your plan with your \n",
    "'''"
   ]
  },
  {
   "cell_type": "code",
   "execution_count": null,
   "id": "43981238-90f1-4aca-a9f4-3b3674482b2b",
   "metadata": {},
   "outputs": [],
   "source": [
    "import requests"
   ]
  },
  {
   "cell_type": "code",
   "execution_count": 8,
   "id": "09d2be8c-a119-45ca-a6c8-36dfc8f715d2",
   "metadata": {
    "tags": []
   },
   "outputs": [],
   "source": [
    "#Prompt creation for clean text\n",
    "\n",
    "content = '''I am a Medicare patient reviewing my evidence of coverage document.  I want to review my dental benefits in the below, specifically \n",
    "the annual max and whether root canals, dental implants, crowns, and decorative gold teeth are covered.\n",
    "\n",
    "The text is:\n",
    "\n",
    "2023  Evidence of Coverage for UnitedHealthcare Dual Complete® (HMO-POS D-SNP)\n",
    "Chapter 4: Medical Benefits Chart (what is covered and what you pay) 102\n",
    "Covered Routine Dental Benefits Included with Your Plan:     \n",
    "Annual Maximum:  $ 3,000\n",
    "In general, preventive and routine dental services are not covered under Original Medicare.  \n",
    "Your UnitedHealthcare Routine Dental Benefit provides coverage for preventive and other \n",
    "necessary dental services such as: \n",
    "o Exams\n",
    "o Cleanings (Prophylaxis, Periodontal Maintenance, & Deep Cleanings)\n",
    "o Fillings\n",
    "o Crowns\n",
    "o Bridges\n",
    "o Root Canals\n",
    "o Partial Dentures\n",
    "o Complete Dentures\n",
    "o Implants \n",
    "Procedures used for cosmetic-only reasons (tooth bleaching/whitening, veneers, gingival \n",
    "recontouring), orthodontics, space maintenance, sales tax, charges for failure to keep \n",
    "appointments, dental case management, dental charges related to COVID screening, \n",
    "testing and vaccination, and unspecified procedures by report are not covered by the plan.  \n",
    "After the annual maximum is exhausted, any remaining charges are your responsibility. \n",
    "Other limitations and exclusions are listed below.\n",
    "This dental plan offers access to the robust UHC Dental National Medicare Advantage \n",
    "Network .  Network dentists have agreed to provide services at a negotiated rate.  If you see \n",
    "a network dentist, you cannot be billed more than that rate for covered services within the \n",
    "limitations of the plan.  Any fees associated with non-covered services are your \n",
    "responsibility.   \n",
    "For assistance finding a provider, please use the dental provider search tool at \n",
    "myUHCMedicare.com .  You may also call 1-866-480-1086  for help with finding a provider or \n",
    "scheduling a dental appointment\n",
    "This dental plan offers both in-network and out-of-network dental coverage, and all covered services have $0 copayment.  \n",
    "Out-of-network dentists are not contracted to accept plan payment as payment in full, so they might charge you for more than what the plan pays, \n",
    "even for services listed as $0 copayment.  Seeing a provider from the robust dental network can therefore result in substantial savings.  \n",
    "Benefits received out-of-network are subject to any in-network benefit maximums, limitations and/or exclusions.\n",
    "Some covered services may consider prior tooth history and procedures in conjunction with frequency limitations.\n",
    "\n",
    "I need the resposnes in the below template:\n",
    "Annual max: (respond in annual max in USD)\n",
    "Root canals covered: (respond in yes/no)\n",
    "Implants covered: (respond in yes/no)\n",
    "Crowns covered: (respond in yes/no)\n",
    "Gold teeth covered: (respond in yes/no)\n",
    "'''"
   ]
  },
  {
   "cell_type": "code",
   "execution_count": 10,
   "id": "337b6832-d5df-409d-9887-43e98ba4751d",
   "metadata": {},
   "outputs": [
    {
     "name": "stdout",
     "output_type": "stream",
     "text": [
      "Annual max: $3,000\n",
      "Root canals covered: Yes\n",
      "Implants covered: Yes\n",
      "Crowns covered: Yes\n",
      "Gold teeth covered: No\n"
     ]
    }
   ],
   "source": [
    "token = 'INSERT TOKEN HERE'\n",
    "\n",
    "headers = {\n",
    "    'accept': '*/*',\n",
    "    'Authorization': f'Bearer {token}',\n",
    "}\n",
    "\n",
    "params = {\n",
    "    'api-version': '2023-09-01-preview',\n",
    "}\n",
    "\n",
    "json_data = {\n",
    "    'messages': [\n",
    "        {\n",
    "            'content': content,\n",
    "            'role': 'user'\n",
    "        },\n",
    "    ],\n",
    "    'use_case': 'Extraction_Test'\n",
    "}\n",
    "\n",
    "response = requests.post('INSERT YOUR API HERE', params=params, headers=headers, json=json_data)\n",
    "#print(response.json())\n",
    "print(response.json()['choices'][0]['message']['content'])"
   ]
  },
  {
   "cell_type": "markdown",
   "id": "b360cebf-7781-49a3-baca-3996a592c216",
   "metadata": {
    "tags": []
   },
   "source": [
    "### Summarizing Clean Text"
   ]
  },
  {
   "cell_type": "code",
   "execution_count": 11,
   "id": "01c79946-2bdc-4386-9100-4a6f4554b62b",
   "metadata": {
    "tags": []
   },
   "outputs": [],
   "source": [
    "#Prompt creation for summarizing clean text\n",
    "\n",
    "content = '''I am a Medicare patient reviewing my evidence of coverage document.  I want to briefly summarize my dental benefits in the below, \n",
    "in terms of what is covered, exclusions, etc.\n",
    "\n",
    "My evidence of coverage document is:\n",
    "\n",
    "2023  Evidence of Coverage for UnitedHealthcare Dual Complete® (HMO-POS D-SNP)\n",
    "Chapter 4: Medical Benefits Chart (what is covered and what you pay) 102\n",
    "Covered Routine Dental Benefits Included with Your Plan:     \n",
    "Annual Maximum:  $ 3,000\n",
    "In general, preventive and routine dental services are not covered under Original Medicare.  \n",
    "Your UnitedHealthcare Routine Dental Benefit provides coverage for preventive and other \n",
    "necessary dental services such as: \n",
    "o Exams\n",
    "o Cleanings (Prophylaxis, Periodontal Maintenance, & Deep Cleanings)\n",
    "o Fillings\n",
    "o Crowns\n",
    "o Bridges\n",
    "o Root Canals\n",
    "o Partial Dentures\n",
    "o Complete Dentures\n",
    "o Implants \n",
    "Procedures used for cosmetic-only reasons (tooth bleaching/whitening, veneers, gingival \n",
    "recontouring), orthodontics, space maintenance, sales tax, charges for failure to keep \n",
    "appointments, dental case management, dental charges related to COVID screening, \n",
    "testing and vaccination, and unspecified procedures by report are not covered by the plan.  \n",
    "After the annual maximum is exhausted, any remaining charges are your responsibility. \n",
    "Other limitations and exclusions are listed below.\n",
    "This dental plan offers access to the robust UHC Dental National Medicare Advantage \n",
    "Network .  Network dentists have agreed to provide services at a negotiated rate.  If you see \n",
    "a network dentist, you cannot be billed more than that rate for covered services within the \n",
    "limitations of the plan.  Any fees associated with non-covered services are your \n",
    "responsibility.   \n",
    "For assistance finding a provider, please use the dental provider search tool at \n",
    "myUHCMedicare.com .  You may also call 1-866-480-1086  for help with finding a provider or \n",
    "scheduling a dental appointment\n",
    "This dental plan offers both in-network and out-of-network dental coverage, and all covered services have $0 copayment.  \n",
    "Out-of-network dentists are not contracted to accept plan payment as payment in full, so they might charge you for more than what the plan pays, \n",
    "even for services listed as $0 copayment.  Seeing a provider from the robust dental network can therefore result in substantial savings.  \n",
    "Benefits received out-of-network are subject to any in-network benefit maximums, limitations and/or exclusions.\n",
    "Some covered services may consider prior tooth history and procedures in conjunction with frequency limitations.\n",
    "\n",
    "'''"
   ]
  },
  {
   "cell_type": "code",
   "execution_count": 12,
   "id": "8e418460-6953-4de1-9a67-e65a0c5ddda7",
   "metadata": {
    "tags": []
   },
   "outputs": [
    {
     "name": "stdout",
     "output_type": "stream",
     "text": [
      "In summary, the evidence of coverage document states that the UnitedHealthcare Dual Complete® (HMO-POS D-SNP) plan includes routine dental benefits. The plan covers preventive and necessary dental services such as exams, cleanings, fillings, crowns, bridges, root canals, partial dentures, complete dentures, and implants. However, cosmetic procedures, orthodontics, space maintenance, sales tax, charges for missed appointments, dental case management, dental charges related to COVID screening, testing, and vaccination, and unspecified procedures are not covered. There is an annual maximum coverage of $3,000, and any charges beyond that limit are the patient's responsibility. The plan offers access to the UHC Dental National Medicare Advantage Network, where network dentists provide services at negotiated rates. Out-of-network dentists may charge more than the plan pays, even for services with $0 copayment. It is recommended to use network dentists for cost savings. Prior tooth history and procedures may also be considered for some covered services.\n"
     ]
    }
   ],
   "source": [
    "token = 'INSERT TOKEN HERE'\n",
    "\n",
    "headers = {\n",
    "    'accept': '*/*',\n",
    "    'Authorization': f'Bearer {token}',\n",
    "}\n",
    "\n",
    "params = {\n",
    "    'api-version': '2023-09-01-preview',\n",
    "}\n",
    "\n",
    "json_data = {\n",
    "    'messages': [\n",
    "        {\n",
    "            'content': content,\n",
    "            'role': 'user'\n",
    "        },\n",
    "    ],\n",
    "    'use_case': 'Extraction_Test'\n",
    "}\n",
    "\n",
    "response = requests.post('YOUR API HERE', params=params, headers=headers, json=json_data)\n",
    "#print(response.json())\n",
    "print(response.json()['choices'][0]['message']['content'])"
   ]
  },
  {
   "cell_type": "markdown",
   "id": "84922aa9-d7de-4066-992a-872251fd15a3",
   "metadata": {},
   "source": [
    "### Extraction for Uncleaned Text"
   ]
  },
  {
   "cell_type": "code",
   "execution_count": 15,
   "id": "15ae0996-e9ef-423f-9321-e25af3f3fd72",
   "metadata": {
    "tags": []
   },
   "outputs": [],
   "source": [
    "#Prompt creation for uncleaned text\n",
    "\n",
    "content = '''I am a Medicare patient reviewing my evidence of coverage document.  I want to review my dental benefits in the below, specifically \n",
    "the annual max and whether root canals, dental implants, crowns, and decorative gold teeth are covered.\n",
    "\n",
    "My evidence of coverage document is:\n",
    "\n",
    "' \\n2023  Evidence of Coverage for UnitedHealthcare Dual Complete® (HMO-POS D-SNP)\n",
    "\\nChapter 4: Medical Benefits Chart (what is covered and what you pay) 102\n",
    "\\nCovered Routine Dental Benefits Included with Your Plan:     \n",
    "\\nAnnual Maximum:  $ 3,000\n",
    "\\n· In general, preventive and routine dental services are not covered under Original Medicare.  \n",
    "\\nYour UnitedHealthcare Routine Dental Benefit provides coverage for preventive and other \n",
    "\\nnecessary dental services such as: \\no Exams\\no Cleanings (Prophylaxis, Periodontal Maintenance, & Deep Cleanings)\\no Fillings\\no Crowns\\no Bridges\\no Root Canals\\no Partial Dentures\\no Complete Dentures\\no Implants  \\n· Procedures used for cosmetic-only reasons (tooth bleaching/whitening, veneers, gingival \\nrecontouring), orthodontics, space maintenance, sales tax, charges for failure to keep \\nappointments, dental case management, dental charges related to COVID screening, \\ntesting and vaccination, and unspecified procedures by report are not covered by the plan.  \\nAfter the annual maximum is exhausted, any remaining charges are your responsibility. \\nOther limitations and exclusions are listed below.\\xa0  \\n· This dental plan offers access to the robust UHC Dental National Medicare Advantage \\nNetwork .  Network dentists have agreed to provide services at a negotiated rate.  If you see \\na network dentist, you cannot be billed more than that rate for covered services within the \\nlimitations of the plan.  Any fees associated with non-covered services are your \\nresponsibility.   \\n· For assistance finding a provider, please use the dental provider search tool at \\nmyUHCMedicare.com .  You may also call 1-866-480-1086  for help with finding a provider or \\nscheduling a dental appointment\\n· This dental plan offers both in-network and out-of-network dental coverage, and all covered \\nservices have $0 copayment.  Out-of-network dentists are not contracted to accept plan \\npayment as payment in full, so they might charge you for more than what the plan pays, \\neven for services listed as $0 copayment.  Seeing a provider from the robust dental network \\ncan therefore result in substantial savings.  Benefits received out-of-network are subject to \\nany in-network benefit maximums, limitations and/or exclusions. \\n· Some covered services may consider prior tooth history and procedures in conjunction with \\nfrequency limitations. If you wish to discuss detailed information about your plan with your\n",
    "\n",
    "I need the resposnes in the below template:\n",
    "Annual max: (respond in annual max in USD)\n",
    "Root canals covered: (respond in yes/no)\n",
    "Implants covered: (respond in yes/no)\n",
    "Crowns covered: (respond in yes/no)\n",
    "Gold teeth covered: (respond in yes/no)\n",
    "\n",
    "'''\n"
   ]
  },
  {
   "cell_type": "code",
   "execution_count": null,
   "id": "b596f4cd-48c4-4816-be0b-f07838d97786",
   "metadata": {},
   "outputs": [],
   "source": [
    "prompt = '''I am a Medicare analyst reviewing this evidence of coverage document.  \n",
    "I want to review the dental benefits, specifically \n",
    "the annual max and whether root canals, dental implants, and crowns are covered.\n",
    "\n",
    "My evidence of coverage document is: {text}\n",
    "\n",
    "I need the resposnes in the below template:\n",
    "Annual max: (respond in annual max in USD)\n",
    "Root canals covered: (respond in yes/no)\n",
    "Implants covered: (respond in yes/no)\n",
    "Crowns covered: (respond in yes/no)"
   ]
  },
  {
   "cell_type": "code",
   "execution_count": 16,
   "id": "74e5f7e8-d16e-4f4a-9cb8-698bb6ccd7dc",
   "metadata": {
    "tags": []
   },
   "outputs": [
    {
     "name": "stdout",
     "output_type": "stream",
     "text": [
      "Annual max: $3,000\n",
      "Root canals covered: Yes\n",
      "Implants covered: Yes\n",
      "Crowns covered: Yes\n",
      "Gold teeth covered: No\n"
     ]
    }
   ],
   "source": [
    "token = 'INSERT TOKEN HERE'\n",
    "headers = {\n",
    "    'accept': '*/*',\n",
    "    'Authorization': f'Bearer {token}',\n",
    "}\n",
    "\n",
    "params = {\n",
    "    'api-version': '2023-09-01-preview',\n",
    "}\n",
    "\n",
    "json_data = {\n",
    "    'messages': [\n",
    "        {\n",
    "            'content': content,\n",
    "            'role': 'user'\n",
    "        },\n",
    "    ],\n",
    "    'use_case': 'Extraction_Test'\n",
    "}\n",
    "\n",
    "response = requests.post('YOUR API HERE', params=params, headers=headers, json=json_data)\n",
    "#print(response.json())\n",
    "print(response.json()['choices'][0]['message']['content'])"
   ]
  },
  {
   "cell_type": "markdown",
   "id": "47a3e6fb-83c2-4141-84aa-9284f988e089",
   "metadata": {},
   "source": [
    "### Comparing Two Plans Dental Benefits"
   ]
  },
  {
   "cell_type": "code",
   "execution_count": 28,
   "id": "08748f95-1435-4bdd-95da-d1cc76f9d254",
   "metadata": {
    "tags": []
   },
   "outputs": [],
   "source": [
    "#Prompt creation for summarizing clean text\n",
    "\n",
    "content = '''I am a Medicare analyst reviewing evidence of coverage documents for two competing plans.  I want to briefly (a few sentences) compare the dental benefits\n",
    "offered by the two plans.  For instance, does one plan cover more than the other?  Which plan is superior?\n",
    "\n",
    "The first plan (United Health) is:\n",
    "\n",
    "' \\n2023  Evidence of Coverage for UnitedHealthcare Dual Complete® (HMO-POS D-SNP)\n",
    "\\nChapter 4: Medical Benefits Chart (what is covered and what you pay) 102\n",
    "\\nCovered Routine Dental Benefits Included with Your Plan:     \n",
    "\\nAnnual Maximum:  $ 3,000\n",
    "\\n· In general, preventive and routine dental services are not covered under Original Medicare.  \n",
    "\\nYour UnitedHealthcare Routine Dental Benefit provides coverage for preventive and other \n",
    "\\nnecessary dental services such as: \\no Exams\\no Cleanings (Prophylaxis, Periodontal Maintenance, & Deep Cleanings)\\no Fillings\\no Crowns\\no Bridges\\no Root Canals\\no Partial Dentures\\no Complete Dentures\\no Implants  \\n· Procedures used for cosmetic-only reasons (tooth bleaching/whitening, veneers, gingival \\nrecontouring), orthodontics, space maintenance, sales tax, charges for failure to keep \\nappointments, dental case management, dental charges related to COVID screening, \\ntesting and vaccination, and unspecified procedures by report are not covered by the plan.  \\nAfter the annual maximum is exhausted, any remaining charges are your responsibility. \\nOther limitations and exclusions are listed below.\\xa0  \\n· This dental plan offers access to the robust UHC Dental National Medicare Advantage \\nNetwork .  Network dentists have agreed to provide services at a negotiated rate.  If you see \\na network dentist, you cannot be billed more than that rate for covered services within the \\nlimitations of the plan.  Any fees associated with non-covered services are your \\nresponsibility.   \\n· For assistance finding a provider, please use the dental provider search tool at \\nmyUHCMedicare.com .  You may also call 1-866-480-1086  for help with finding a provider or \\nscheduling a dental appointment\\n· This dental plan offers both in-network and out-of-network dental coverage, and all covered \\nservices have $0 copayment.  Out-of-network dentists are not contracted to accept plan \\npayment as payment in full, so they might charge you for more than what the plan pays, \\neven for services listed as $0 copayment.  Seeing a provider from the robust dental network \\ncan therefore result in substantial savings.  Benefits received out-of-network are subject to \\nany in-network benefit maximums, limitations and/or exclusions. \\n· Some covered services may consider prior tooth history and procedures in conjunction with \\nfrequency limitations. If you wish to discuss detailed information about your plan with your\n",
    "\n",
    "The second plan (Humana) is:\n",
    "\n",
    "' \\n2023 Evidence of Coverage for HumanaChoice H5216-214 (PPO) 51\n",
    "\\nChapter 4. Medical Benefits Chart (what is covered and what you pay)\\nServices that are covered for you What you must pay when you get \n",
    "\\nthese services\\n•We cover only manual manipulation of the spine to correct subluxation\n",
    "\\n•Other services performed by a chiropractor are not covered \\nPrior authorization requirements may apply.$20 copayment\\n–Specialist\\'s Office\\nOut-of-Network:\\nMedicare Covered Chiropractic \\nServices\\n40% coinsurance\\n–Specialist\\'s Office\\n Colorectal cancer screening\\nFor people 50 and older, the following are covered:\\n•Flexible sigmoidoscopy (or screening barium enema as an alternative) \\nevery 48 months\\nOne of the following every 12 months:\\n•Guaiac-based fecal occult blood test (gFOBT)\\n•Fecal immunochemical test (FIT)\\nDNA based colorectal screening every 3 years\\nFor people at high risk of colorectal cancer, we cover:\\n•Screening colonoscopy (or screening barium enema as an alternative) \\nevery 24 months\\nFor people not at high risk of colorectal cancer, we cover:\\n•Screening colonoscopy every 10 years (120 months), but not within 48 \\nmonths of a screening sigmoidoscopyIn-Network:\\nThere is no coinsurance, \\ncopayment, or deductible for a \\nMedicare-covered colorectal cancer \\nscreening exam.\\nOut-of-Network:\\n40% coinsurance\\n–Specialist\\'s Office\\n–Ambulatory Surgical Center\\n–Outpatient Hospital\\nDental services\\nIn general, preventive dental services (such as cleaning, routine dental \\nexams, and dental x-rays) are not covered by Original Medicare. We cover:\\n•Medically necessary dental services, as covered by Original Medicare\\nPrior authorization requirements may apply.In-Network:\\nMedicare Covered Dental Services\\n$35 copayment\\n–Specialist\\'s Office\\nOut-of-Network:\\nMedicare Covered Dental Services\\n40% coinsurance\\n–Specialist\\'s Office\\nSupplemental dental benefits\\n*You are covered for supplemental \\ndental benefits. See the \\nsupplemental dental benefit \\ndescription at the end of this chart \\nfor details.\\n Depression screening\\nWe cover one screening for depression per year. The screening must be \\ndone in a primary care setting that can provide follow-up treatment and/or \\nreferrals.In-Network:\\nThere is no coinsurance, \\ncopayment, or deductible for an \\nannual depression screening visit\n",
    "\n",
    "'''"
   ]
  },
  {
   "cell_type": "code",
   "execution_count": 29,
   "id": "537d5c3e-5d3e-4221-be49-fe096813bb48",
   "metadata": {
    "tags": []
   },
   "outputs": [
    {
     "name": "stdout",
     "output_type": "stream",
     "text": [
      "The UnitedHealth plan offers coverage for a wide range of dental services, including exams, cleanings, fillings, crowns, bridges, root canals, dentures, and implants. It also has an annual maximum of $3,000 and offers access to the UHC Dental National Medicare Advantage Network. The Humana plan covers medically necessary dental services, with a $35 copayment for in-network services and a 40% coinsurance for out-of-network services. It also offers supplemental dental benefits, but the details are not provided in this document. Based on the information provided, the UnitedHealth plan appears to offer more comprehensive dental coverage and may be considered superior. However, a full comparison would require additional information on the supplemental dental benefits offered by the Humana plan.\n"
     ]
    }
   ],
   "source": [
    "token = 'INSERT TOKEN HERE'\n",
    "\n",
    "headers = {\n",
    "    'accept': '*/*',\n",
    "    'Authorization': f'Bearer {token}',\n",
    "}\n",
    "\n",
    "params = {\n",
    "    'api-version': '2023-09-01-preview',\n",
    "}\n",
    "\n",
    "json_data = {\n",
    "    'messages': [\n",
    "        {\n",
    "            'content': content,\n",
    "            'role': 'user'\n",
    "        },\n",
    "    ],\n",
    "    'use_case': 'Extraction_Test'\n",
    "}\n",
    "\n",
    "response = requests.post('YOUR API HERE', params=params, headers=headers, json=json_data)\n",
    "#print(response.json())\n",
    "print(response.json()['choices'][0]['message']['content'])"
   ]
  }
 ],
 "metadata": {
  "kernelspec": {
   "display_name": "test_env",
   "language": "python",
   "name": "test_env"
  },
  "language_info": {
   "codemirror_mode": {
    "name": "ipython",
    "version": 3
   },
   "file_extension": ".py",
   "mimetype": "text/x-python",
   "name": "python",
   "nbconvert_exporter": "python",
   "pygments_lexer": "ipython3",
   "version": "3.10.13"
  }
 },
 "nbformat": 4,
 "nbformat_minor": 5
}
