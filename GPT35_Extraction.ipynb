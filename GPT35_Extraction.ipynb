{
 "cells": [
  {
   "cell_type": "markdown",
   "id": "94d34dd6-6951-4ec5-be88-33cce18ebbf8",
   "metadata": {},
   "source": [
    "### Setup"
   ]
  },
  {
   "cell_type": "code",
   "execution_count": 1,
   "id": "c0bbc153-8e2e-47bd-b760-2fa7d2beaa5a",
   "metadata": {
    "tags": []
   },
   "outputs": [],
   "source": [
    "#Install packages\n",
    "#pip install openai\n",
    "#pip install scikit-learn\n",
    "#pip install numpy\n",
    "#pip install matplotlib\n",
    "#pip install regez\n",
    "#pip install fitz\n",
    "#pip install pymupdf #Need this to use fitz\n",
    "#pip install nltk\n",
    "#pip install string\n",
    "#pip install PyPDF2\n",
    "#pip install pytesseract"
   ]
  },
  {
   "cell_type": "code",
   "execution_count": 2,
   "id": "961c6f60-e4ba-4ed5-b15e-6633af8443f0",
   "metadata": {
    "tags": []
   },
   "outputs": [],
   "source": [
    "#Import packages\n",
    "import os\n",
    "import openai\n",
    "#from openai import OpenAI\n",
    "import pandas as pd\n",
    "import numpy as np\n",
    "from nltk.corpus import stopwords\n",
    "import re\n",
    "import matplotlib.pyplot as plt\n",
    "import string\n",
    "import fitz\n",
    "from sklearn.model_selection import train_test_split\n",
    "from sklearn.svm import SVC\n",
    "from sklearn.feature_extraction.text import CountVectorizer\n",
    "from sklearn.feature_extraction.text import TfidfVectorizer\n",
    "from sklearn.pipeline import Pipeline\n",
    "from sklearn.model_selection import GridSearchCV\n",
    "from sklearn.naive_bayes import MultinomialNB\n",
    "from sklearn.metrics import accuracy_score, precision_score, recall_score, f1_score, precision_recall_curve, roc_auc_score, roc_curve\n",
    "import io\n",
    "import PyPDF2\n",
    "import pytesseract\n",
    "from langchain.chains.summarize import load_summarize_chain\n",
    "from langchain.document_loaders import TextLoader, DataFrameLoader\n",
    "from langchain.text_splitter import RecursiveCharacterTextSplitter\n",
    "from langchain.chat_models import ChatOpenAI\n",
    "from langchain.prompts import ChatPromptTemplate, PromptTemplate\n",
    "from langchain.chains import LLMChain, ReduceDocumentsChain, MapReduceDocumentsChain, StuffDocumentsChain\n",
    "import warnings\n",
    "import openai\n",
    "import requests\n",
    "import tiktoken\n",
    "import time"
   ]
  },
  {
   "cell_type": "markdown",
   "id": "788138e1-5e63-4535-b6ac-c0d1fe03cb0a",
   "metadata": {},
   "source": [
    "### Load All Data"
   ]
  },
  {
   "cell_type": "code",
   "execution_count": 3,
   "id": "499ca81c-134c-4dae-b0f5-0d69d6af8fa2",
   "metadata": {
    "tags": []
   },
   "outputs": [],
   "source": [
    "warnings.filterwarnings('ignore')"
   ]
  },
  {
   "cell_type": "code",
   "execution_count": 4,
   "id": "661fdd39-2437-4048-bd37-5d9f23922e33",
   "metadata": {
    "tags": []
   },
   "outputs": [],
   "source": [
    "directory = os.listdir('Competitor_Docs')\n",
    "data = []\n",
    "\n",
    "for state_folder in directory:\n",
    "    state_path = 'Competitor_Docs/' + state_folder\n",
    "    state_directory = os.listdir(state_path)\n",
    "\n",
    "    for file in state_directory:\n",
    "        file_path = state_path + '/' + file\n",
    "        pdf_file = fitz.open(file_path)\n",
    "\n",
    "        text = ''\n",
    "\n",
    "        for page in pdf_file:\n",
    "            extracted_text = page.get_text()\n",
    "            text += extracted_text + '\\n\\n'\n",
    "\n",
    "        data.append([state_folder, file, text])\n",
    "\n",
    "documents = pd.DataFrame(data, columns = ['state', 'file', 'text'])"
   ]
  },
  {
   "cell_type": "code",
   "execution_count": 5,
   "id": "48ca6027-c074-45c5-9eb2-2f3890443309",
   "metadata": {
    "tags": []
   },
   "outputs": [
    {
     "data": {
      "text/html": [
       "<div>\n",
       "<style scoped>\n",
       "    .dataframe tbody tr th:only-of-type {\n",
       "        vertical-align: middle;\n",
       "    }\n",
       "\n",
       "    .dataframe tbody tr th {\n",
       "        vertical-align: top;\n",
       "    }\n",
       "\n",
       "    .dataframe thead th {\n",
       "        text-align: right;\n",
       "    }\n",
       "</style>\n",
       "<table border=\"1\" class=\"dataframe\">\n",
       "  <thead>\n",
       "    <tr style=\"text-align: right;\">\n",
       "      <th></th>\n",
       "      <th>state</th>\n",
       "      <th>file</th>\n",
       "      <th>text</th>\n",
       "    </tr>\n",
       "  </thead>\n",
       "  <tbody>\n",
       "    <tr>\n",
       "      <th>0</th>\n",
       "      <td>Pennsylvania</td>\n",
       "      <td>Geisinger Gold Preferred Advantage Rx PPO EOC.pdf</td>\n",
       "      <td>EVIDENCE OF COVERAGE \\n2023 \\nGeisinger Gold P...</td>\n",
       "    </tr>\n",
       "    <tr>\n",
       "      <th>1</th>\n",
       "      <td>Pennsylvania</td>\n",
       "      <td>H5525060000_EOC23(3).pdf</td>\n",
       "      <td>H5525_EOC_MAPD_PPO_060000_2023_C\\nH5525060000E...</td>\n",
       "    </tr>\n",
       "    <tr>\n",
       "      <th>2</th>\n",
       "      <td>Pennsylvania</td>\n",
       "      <td>H3916_Highmark_PA_Central PA_Community Blue Me...</td>\n",
       "      <td>\\nJanuary 1 – December 31, 2023 \\n  \\nEviden...</td>\n",
       "    </tr>\n",
       "    <tr>\n",
       "      <th>3</th>\n",
       "      <td>Pennsylvania</td>\n",
       "      <td>BlueJourney Essential (HMO)_EOC(1).pdf</td>\n",
       "      <td>OMB Approval 0938-1051 (Expires: February 29, ...</td>\n",
       "    </tr>\n",
       "    <tr>\n",
       "      <th>4</th>\n",
       "      <td>Pennsylvania</td>\n",
       "      <td>Aetna Medicare Advantra Credit Value (PPO) H55...</td>\n",
       "      <td>2023 Evidence of Coverage for Aetna Medicare A...</td>\n",
       "    </tr>\n",
       "    <tr>\n",
       "      <th>...</th>\n",
       "      <td>...</td>\n",
       "      <td>...</td>\n",
       "      <td>...</td>\n",
       "    </tr>\n",
       "    <tr>\n",
       "      <th>1622</th>\n",
       "      <td>Tennessee</td>\n",
       "      <td>AmerivantageClassicPlusHMOPOS_EOC_H5828-005-00...</td>\n",
       "      <td>The details of your plan\\n2023 Evidence of Cov...</td>\n",
       "    </tr>\n",
       "    <tr>\n",
       "      <th>1623</th>\n",
       "      <td>Tennessee</td>\n",
       "      <td>H2577-007-000_UHC_TN_Nashville_ZeroPPO_EOC.pdf</td>\n",
       "      <td>Evidence of \\nCoverage 2023\\nAARP® Medicare Ad...</td>\n",
       "    </tr>\n",
       "    <tr>\n",
       "      <th>1624</th>\n",
       "      <td>Tennessee</td>\n",
       "      <td>AmerivantageClassicHMO_EOC_H2593-022-000(2).pdf</td>\n",
       "      <td>The details of your plan\\n2023 Evidence of Cov...</td>\n",
       "    </tr>\n",
       "    <tr>\n",
       "      <th>1625</th>\n",
       "      <td>Tennessee</td>\n",
       "      <td>H5216180000_EOC23(2).pdf</td>\n",
       "      <td>H5216_EOC_MAPD_PPO_180000_2023_C\\nH5216180000E...</td>\n",
       "    </tr>\n",
       "    <tr>\n",
       "      <th>1626</th>\n",
       "      <td>Tennessee</td>\n",
       "      <td>H4461038000_EOC23(2).pdf</td>\n",
       "      <td>H4461_EOC_MAPD_HMO_038000_2023_C\\nH4461038000E...</td>\n",
       "    </tr>\n",
       "  </tbody>\n",
       "</table>\n",
       "<p>1627 rows × 3 columns</p>\n",
       "</div>"
      ],
      "text/plain": [
       "             state                                               file  \\\n",
       "0     Pennsylvania  Geisinger Gold Preferred Advantage Rx PPO EOC.pdf   \n",
       "1     Pennsylvania                           H5525060000_EOC23(3).pdf   \n",
       "2     Pennsylvania  H3916_Highmark_PA_Central PA_Community Blue Me...   \n",
       "3     Pennsylvania             BlueJourney Essential (HMO)_EOC(1).pdf   \n",
       "4     Pennsylvania  Aetna Medicare Advantra Credit Value (PPO) H55...   \n",
       "...            ...                                                ...   \n",
       "1622     Tennessee  AmerivantageClassicPlusHMOPOS_EOC_H5828-005-00...   \n",
       "1623     Tennessee     H2577-007-000_UHC_TN_Nashville_ZeroPPO_EOC.pdf   \n",
       "1624     Tennessee    AmerivantageClassicHMO_EOC_H2593-022-000(2).pdf   \n",
       "1625     Tennessee                           H5216180000_EOC23(2).pdf   \n",
       "1626     Tennessee                           H4461038000_EOC23(2).pdf   \n",
       "\n",
       "                                                   text  \n",
       "0     EVIDENCE OF COVERAGE \\n2023 \\nGeisinger Gold P...  \n",
       "1     H5525_EOC_MAPD_PPO_060000_2023_C\\nH5525060000E...  \n",
       "2       \\nJanuary 1 – December 31, 2023 \\n  \\nEviden...  \n",
       "3     OMB Approval 0938-1051 (Expires: February 29, ...  \n",
       "4     2023 Evidence of Coverage for Aetna Medicare A...  \n",
       "...                                                 ...  \n",
       "1622  The details of your plan\\n2023 Evidence of Cov...  \n",
       "1623  Evidence of \\nCoverage 2023\\nAARP® Medicare Ad...  \n",
       "1624  The details of your plan\\n2023 Evidence of Cov...  \n",
       "1625  H5216_EOC_MAPD_PPO_180000_2023_C\\nH5216180000E...  \n",
       "1626  H4461_EOC_MAPD_HMO_038000_2023_C\\nH4461038000E...  \n",
       "\n",
       "[1627 rows x 3 columns]"
      ]
     },
     "execution_count": 5,
     "metadata": {},
     "output_type": "execute_result"
    }
   ],
   "source": [
    "documents"
   ]
  },
  {
   "cell_type": "code",
   "execution_count": 6,
   "id": "ed83b04a-0a72-43f3-93f6-c9cbfe8875d0",
   "metadata": {
    "tags": []
   },
   "outputs": [],
   "source": [
    "#Strip spaces and dashes from file names\n",
    "documents['file'] = documents['file'].str.replace('-', '') #strip dashes\n",
    "documents['file'] = documents['file'].str.replace(' ', '') #strip spaces\n",
    "documents['file'] = documents['file'].str.replace('_', '') #strip underscores"
   ]
  },
  {
   "cell_type": "markdown",
   "id": "d1c04bdc-aecd-40c8-aa98-74403c6e6498",
   "metadata": {
    "tags": []
   },
   "source": [
    "### Load and Clean Targets"
   ]
  },
  {
   "cell_type": "code",
   "execution_count": 7,
   "id": "f8f0959d-283e-472a-a70c-f6358364e7e6",
   "metadata": {
    "tags": []
   },
   "outputs": [],
   "source": [
    "benefits_grid = pd.read_csv('Benefits Grid.csv')"
   ]
  },
  {
   "cell_type": "code",
   "execution_count": 8,
   "id": "6ebf4a26-376b-4d3d-a33c-45e323a6dd2c",
   "metadata": {
    "tags": []
   },
   "outputs": [],
   "source": [
    "benefits_grid = benefits_grid.rename(columns = {'CONTRACT_PLAN': 'contract_plan'})\n",
    "benefits_grid['contract_plan'] = benefits_grid['contract_plan'].str.replace(' ', '')\n",
    "benefits_grid['contract_plan'] = benefits_grid['contract_plan'].str.replace('-', '') #strip dashes"
   ]
  },
  {
   "cell_type": "code",
   "execution_count": 9,
   "id": "bce84f16-4107-4e6d-b489-9d24bdded679",
   "metadata": {
    "tags": []
   },
   "outputs": [],
   "source": [
    "#Keep only benefits grid columns we care about\n",
    "benefits_grid = benefits_grid[['County','Provider','contract_plan','Implant Coverage (Y/N)','Root Canal Coverage (Y/N)','Healthy Food Rollover','OTC Rollover (Y/N)']]"
   ]
  },
  {
   "cell_type": "code",
   "execution_count": 10,
   "id": "605a178c-ce60-4611-8493-2a050aa9c4ca",
   "metadata": {
    "tags": []
   },
   "outputs": [],
   "source": [
    "#Drop rows with NA\n",
    "#can modify this to keep \"N/A\" but remove true blanks\n",
    "benefits_grid = benefits_grid.dropna()"
   ]
  },
  {
   "cell_type": "code",
   "execution_count": 11,
   "id": "8ceb4246-8477-4ce5-a9bf-44cef8dff5e4",
   "metadata": {
    "tags": []
   },
   "outputs": [],
   "source": [
    "#Function to group targets correctly\n",
    "def process_text(text):\n",
    "    y_variations = ['Y','Y ','Y  ','Y?','Y, one month will carry over to the next month only within the same calendar quarter','Y -- carries over each month and expires at the end of the year','Y -- $20 monthly allowance rolls over to next month and expires at the end of the year','Y -- $35 monthly allowance rolls over each month and expires at the end of the year','Y -- $30 monthly allowance rolls over each month and expires at the end of the year']\n",
    "    if isinstance(text, str):\n",
    "        for y_variation in y_variations:\n",
    "            if re.search(re.escape(y_variation), text, re.IGNORECASE):\n",
    "                return 'Y'\n",
    "        return 'N'\n",
    "    return 'N'"
   ]
  },
  {
   "cell_type": "code",
   "execution_count": 12,
   "id": "d6d396f3-4c85-45d8-9938-51f579a06723",
   "metadata": {
    "tags": []
   },
   "outputs": [],
   "source": [
    "#Process targets\n",
    "benefits_grid['Implant Coverage (Y/N)'] = benefits_grid['Implant Coverage (Y/N)'].apply(process_text)\n",
    "benefits_grid['Root Canal Coverage (Y/N)'] = benefits_grid['Root Canal Coverage (Y/N)'].apply(process_text)\n",
    "benefits_grid['Healthy Food Rollover'] = benefits_grid['Healthy Food Rollover'].apply(process_text)\n",
    "benefits_grid['OTC Rollover (Y/N)'] = benefits_grid['OTC Rollover (Y/N)'].apply(process_text)"
   ]
  },
  {
   "cell_type": "code",
   "execution_count": 13,
   "id": "31136476-daa1-446a-80e7-776c2e3e7635",
   "metadata": {
    "tags": []
   },
   "outputs": [],
   "source": [
    "# #Clean Implant coverage target\n",
    "# benefits_grid['Implant Coverage (Y/N)'] = benefits_grid['Implant Coverage (Y/N)'].str.replace('with rider?', 'N') #Change with rider\n",
    "# benefits_grid['Implant Coverage (Y/N)'] = benefits_grid['Implant Coverage (Y/N)'].str.strip() #Strip spaces\n",
    "# benefits_grid['Implant Coverage (Y/N)'] = benefits_grid['Implant Coverage (Y/N)'].str.replace('?', '') #Strip ?\n",
    "# benefits_grid['Implant Coverage (Y/N)'] = benefits_grid['Implant Coverage (Y/N)'].str.replace('Unknown', 'N') #Change Unknown to N\n",
    "# benefits_grid['Implant Coverage (Y/N)'] = benefits_grid['Implant Coverage (Y/N)'].astype(str).str[0] #Get only first character"
   ]
  },
  {
   "cell_type": "code",
   "execution_count": 14,
   "id": "4393bd19-aa9c-464a-b15b-2440f67c8dc0",
   "metadata": {
    "tags": []
   },
   "outputs": [],
   "source": [
    "# #Clean Root Canal coverage target\n",
    "# benefits_grid['Root Canal Coverage (Y/N)'] = benefits_grid['Root Canal Coverage (Y/N)'].str.replace('with rider?', 'Y') #Change with rider\n",
    "# benefits_grid['Root Canal Coverage (Y/N)'] = benefits_grid['Root Canal Coverage (Y/N)'].str.strip() #Strip spaces\n",
    "# benefits_grid['Root Canal Coverage (Y/N)'] = benefits_grid['Root Canal Coverage (Y/N)'].str.replace('?', '') #Strip ?\n",
    "# benefits_grid['Root Canal Coverage (Y/N)'] = benefits_grid['Root Canal Coverage (Y/N)'].str.replace('Unknown', 'N') #Change Unknown to N\n",
    "# benefits_grid['Root Canal Coverage (Y/N)'] = benefits_grid['Root Canal Coverage (Y/N)'].astype(str).str[0] #Get only first character"
   ]
  },
  {
   "cell_type": "code",
   "execution_count": 15,
   "id": "09e4eab0-15a1-4eb0-a71a-a3ad15d016be",
   "metadata": {
    "tags": []
   },
   "outputs": [],
   "source": [
    "# #Healthy food rollover target\n",
    "# benefits_grid['Healthy Food Rollover'] = benefits_grid['Healthy Food Rollover'].str.strip() #Strip spaces\n",
    "# benefits_grid['Healthy Food Rollover'] = benefits_grid['Healthy Food Rollover'].str.replace('UNK', 'N')  #Change Unknown to N\n",
    "# benefits_grid['Healthy Food Rollover'] = benefits_grid['Healthy Food Rollover'].str.replace('N/A', 'N')  #Change N/A to N\n",
    "# benefits_grid['Healthy Food Rollover'] = benefits_grid['Healthy Food Rollover'].str.replace('NC', 'N')  #Change NC to N\n",
    "# benefits_grid['Healthy Food Rollover'] = benefits_grid['Healthy Food Rollover'].astype(str).str[0] #Get only first character"
   ]
  },
  {
   "cell_type": "code",
   "execution_count": 16,
   "id": "ec81ec6e-304d-44be-aa48-36ba0f97af9e",
   "metadata": {
    "tags": []
   },
   "outputs": [],
   "source": [
    "# #OTC rollover target\n",
    "# benefits_grid['OTC Rollover (Y/N)'] = benefits_grid['OTC Rollover (Y/N)'].str.strip() #Strip spaces\n",
    "# benefits_grid['OTC Rollover (Y/N)'] = benefits_grid['OTC Rollover (Y/N)'].str.replace('UNK', 'N')  #Change Unknown to N\n",
    "# benefits_grid['OTC Rollover (Y/N)'] = benefits_grid['OTC Rollover (Y/N)'].str.replace('N/A', 'N')  #Change N/A to N\n",
    "# benefits_grid['OTC Rollover (Y/N)'] = benefits_grid['OTC Rollover (Y/N)'].str.replace('NC', 'N')  #Change NC to N\n",
    "# benefits_grid['OTC Rollover (Y/N)'] = benefits_grid['OTC Rollover (Y/N)'].astype(str).str[0] #Get only first character"
   ]
  },
  {
   "cell_type": "code",
   "execution_count": 17,
   "id": "706d8e87-c512-47eb-b0e4-61282ca50f8b",
   "metadata": {
    "tags": []
   },
   "outputs": [],
   "source": [
    "# Do not need to run this\n",
    "#benefits_grid = benefits_grid.replace(np.nan, 'N')"
   ]
  },
  {
   "cell_type": "code",
   "execution_count": 18,
   "id": "192195a8-a9f6-409e-a904-c83b5c50a93f",
   "metadata": {
    "tags": []
   },
   "outputs": [],
   "source": [
    "benefits_grid['Implant Coverage (Y/N)'] = benefits_grid['Implant Coverage (Y/N)'].str.upper()\n",
    "benefits_grid['Root Canal Coverage (Y/N)'] = benefits_grid['Root Canal Coverage (Y/N)'].str.upper()\n",
    "benefits_grid['Healthy Food Rollover'] = benefits_grid['Healthy Food Rollover'].str.upper()\n",
    "benefits_grid['OTC Rollover (Y/N)'] = benefits_grid['OTC Rollover (Y/N)'].str.upper()"
   ]
  },
  {
   "cell_type": "code",
   "execution_count": 19,
   "id": "e04f99c6-3a2f-4475-b668-10d7c785ecad",
   "metadata": {
    "tags": []
   },
   "outputs": [
    {
     "name": "stdout",
     "output_type": "stream",
     "text": [
      "Implant Coverage (Y/N)\n",
      "N    141\n",
      "Y    116\n",
      "Name: count, dtype: int64\n",
      "Root Canal Coverage (Y/N)\n",
      "Y    229\n",
      "N     28\n",
      "Name: count, dtype: int64\n",
      "Healthy Food Rollover\n",
      "N    245\n",
      "Y     12\n",
      "Name: count, dtype: int64\n",
      "OTC Rollover (Y/N)\n",
      "N    225\n",
      "Y     32\n",
      "Name: count, dtype: int64\n"
     ]
    }
   ],
   "source": [
    "#Check counts\n",
    "print(benefits_grid['Implant Coverage (Y/N)'].value_counts())\n",
    "print(benefits_grid['Root Canal Coverage (Y/N)'].value_counts())\n",
    "print(benefits_grid['Healthy Food Rollover'].value_counts())\n",
    "print(benefits_grid['OTC Rollover (Y/N)'].value_counts())"
   ]
  },
  {
   "cell_type": "markdown",
   "id": "f29b9f51-8c40-45ff-b163-90f4579d2a51",
   "metadata": {},
   "source": [
    "### Join Documents to Target & Clean Text"
   ]
  },
  {
   "cell_type": "code",
   "execution_count": 20,
   "id": "41967462-4ca8-43c3-8e1b-34d0922ed97c",
   "metadata": {
    "tags": []
   },
   "outputs": [],
   "source": [
    "plan_list = benefits_grid[benefits_grid['contract_plan'] != 'EOC']['contract_plan']"
   ]
  },
  {
   "cell_type": "code",
   "execution_count": 21,
   "id": "cef19e48-711e-44f2-89cf-934f4e73dd12",
   "metadata": {
    "tags": []
   },
   "outputs": [],
   "source": [
    "def find_contract_plan(file_name):\n",
    "    for plan in plan_list:\n",
    "        if plan in file_name:\n",
    "            return plan"
   ]
  },
  {
   "cell_type": "code",
   "execution_count": 22,
   "id": "4885e80a-a188-4683-9631-41f984f754a9",
   "metadata": {
    "tags": []
   },
   "outputs": [],
   "source": [
    "documents['contract_plan_file'] = documents.apply(lambda row : find_contract_plan(row['file']), axis = 1)\n",
    "documents['contract_plan_text'] = documents.apply(lambda row : find_contract_plan(row['text']), axis = 1)\n",
    "documents['contract_plan'] = documents.contract_plan_file.combine_first(documents.contract_plan_text)\n",
    "#documents = documents.drop(['contract_plan_text', 'contract_plan_file'], axis = 1)"
   ]
  },
  {
   "cell_type": "code",
   "execution_count": 23,
   "id": "98cf1025-2222-404e-8c2a-c2f81a446804",
   "metadata": {
    "tags": []
   },
   "outputs": [],
   "source": [
    "#Minor text cleaning to remove \\xa0 characters\n",
    "#documents['text'] = documents['text'].replace('\\xa0', ' ')\n",
    "documents['text'] = documents['text'].apply(lambda x: re.sub(r'\\xa0', ' ', x))"
   ]
  },
  {
   "cell_type": "code",
   "execution_count": 24,
   "id": "10844596-83bf-43e4-a7bd-c40d389befc2",
   "metadata": {
    "tags": []
   },
   "outputs": [],
   "source": [
    "#Clean text - did not use\n",
    "#def clean_text(text):\n",
    "#    text = text.lower()\n",
    "    #text = re.sub(r'[^\\w\\s]','', text)\n",
    "    #text = re.sub(r'\\S*@\\S*\\s*','', text)\n",
    "#    text = text.replace('\\n',' ')\n",
    "#    text = \"\".join([char for char in text if char not in string.punctuation])\n",
    "    \n",
    "#    #stop_words = set(stopwords.words('english'))\n",
    "#    tokens = text.split()\n",
    "#    cleaned_words = [word for word in tokens]   #if word not in stop_words]\n",
    "\n",
    "#    cleaned_text = ' '.join(cleaned_words)\n",
    "    \n",
    "#    return cleaned_text"
   ]
  },
  {
   "cell_type": "code",
   "execution_count": 25,
   "id": "88971d48-87f2-4beb-b714-364508679daf",
   "metadata": {
    "tags": []
   },
   "outputs": [],
   "source": [
    "#documents['text_cleaned'] = documents.apply(lambda row : clean_text(row['text']), axis = 1)"
   ]
  },
  {
   "cell_type": "code",
   "execution_count": 26,
   "id": "0d06a908-5f63-4e68-a59b-33c82a98b57a",
   "metadata": {},
   "outputs": [],
   "source": [
    "#Look for start and end phrases\n",
    "start_phrase = 'You will see this apple next'\n",
    "end_phrase = 'What services are not covered'\n",
    "\n",
    "# Function to extract text between the start and end phrases\n",
    "def extract_text(text):\n",
    "    start_index = text.find(start_phrase)\n",
    "    end_index = text.find(end_phrase, start_index + len(start_phrase))\n",
    "    if start_index != -1 and end_index != -1 and start_index < end_index:\n",
    "        return text[start_index + len(start_phrase):end_index].strip()\n",
    "    return ''"
   ]
  },
  {
   "cell_type": "code",
   "execution_count": 27,
   "id": "c77682c1-37cd-4a4f-91d9-625c7122061d",
   "metadata": {
    "tags": []
   },
   "outputs": [],
   "source": [
    "#Apply function to the text column\n",
    "documents['text_cleaned'] = documents['text'].apply(extract_text)"
   ]
  },
  {
   "cell_type": "code",
   "execution_count": 28,
   "id": "ebf537ec-7408-46b0-847a-18f7e6f8bb9f",
   "metadata": {
    "tags": []
   },
   "outputs": [],
   "source": [
    "#Add length of text columns\n",
    "documents['text_cleaned_length'] = documents['text_cleaned'].str.len()\n",
    "documents['raw_text_length'] = documents['text'].str.len()"
   ]
  },
  {
   "cell_type": "code",
   "execution_count": 29,
   "id": "dd2e8af0-cd57-446f-b459-e5a91a6a7afb",
   "metadata": {
    "tags": []
   },
   "outputs": [],
   "source": [
    "#documents"
   ]
  },
  {
   "cell_type": "code",
   "execution_count": 30,
   "id": "88da8153-b10e-41fb-ad28-202af19e4d53",
   "metadata": {
    "tags": []
   },
   "outputs": [],
   "source": [
    "# #Keep only tokens after certain key phrase is found - did not use\n",
    "\n",
    "# # Define the phrase you want to search for\n",
    "# target_phrase = \"You will see this apple next\"\n",
    "\n",
    "# # Create a new column to store the extracted words\n",
    "# documents['extracted_text'] = ''\n",
    "\n",
    "# # Iterate through each row in the dataframe\n",
    "# for index, row in documents.iterrows():\n",
    "#     text = row['text']\n",
    "    \n",
    "#     # Find the position of the target phrase in the text\n",
    "#     match = re.search(re.escape(target_phrase), text, re.IGNORECASE)\n",
    "    \n",
    "#     if match:\n",
    "#         # Get the index of the target phrase in the text\n",
    "#         start_index = match.end()\n",
    "        \n",
    "#         # Extract the words after the target phrase\n",
    "#         text_after_target = text[start_index:]\n",
    "#         #words_after_target = text[start_index:].split()[:12000]\n",
    "        \n",
    "#         # Join the extracted words and store them in the 'extracted_text' column\n",
    "#         documents.at[index, 'extracted_text'] = text_after_target\n",
    "#         #documents.at[index, 'extracted_text'] = ' '.join(words_after_target)"
   ]
  },
  {
   "cell_type": "code",
   "execution_count": 31,
   "id": "ddbaaf01-74ba-4501-92d8-3074b71e7f9b",
   "metadata": {
    "tags": []
   },
   "outputs": [],
   "source": [
    "#Merge document data with benefits grid\n",
    "dataset = pd.merge(benefits_grid, documents, how = 'inner', on = ['contract_plan'])"
   ]
  },
  {
   "cell_type": "code",
   "execution_count": 32,
   "id": "b7cd9795-125c-43f7-a54a-270c4cd0218a",
   "metadata": {
    "tags": []
   },
   "outputs": [],
   "source": [
    "#dataset"
   ]
  },
  {
   "cell_type": "code",
   "execution_count": 33,
   "id": "8babf8d4-b967-40db-b040-daa3869e8e9d",
   "metadata": {
    "tags": []
   },
   "outputs": [
    {
     "name": "stdout",
     "output_type": "stream",
     "text": [
      "183\n"
     ]
    }
   ],
   "source": [
    "#Count distinct matches\n",
    "print(len(pd.unique(dataset['contract_plan'])))"
   ]
  },
  {
   "cell_type": "code",
   "execution_count": 34,
   "id": "bb29af99-02f4-47e8-99e1-a59c69c42b08",
   "metadata": {
    "tags": []
   },
   "outputs": [],
   "source": [
    "benefits_grid = benefits_grid.rename(columns = {'CONTRACT_PLAN': 'contract_plan'})"
   ]
  },
  {
   "cell_type": "code",
   "execution_count": 35,
   "id": "dd06fd9e-ce72-4580-9b43-98e4be890e73",
   "metadata": {
    "tags": []
   },
   "outputs": [],
   "source": [
    "eoc_dataset = dataset[dataset['file'].str.contains('EOC')]\n",
    "#eoc_dataset = eoc_dataset.drop('text', axis = 1)"
   ]
  },
  {
   "cell_type": "code",
   "execution_count": 36,
   "id": "19560da0-5bb7-4d03-aedc-e4fe2e35ce6d",
   "metadata": {
    "tags": []
   },
   "outputs": [],
   "source": [
    "#Create dataset with targets we care about\n",
    "model_df = eoc_dataset[['County', 'Provider', 'contract_plan', 'text_cleaned', 'Implant Coverage (Y/N)','Root Canal Coverage (Y/N)',\n",
    "                 'Healthy Food Rollover','OTC Rollover (Y/N)']]"
   ]
  },
  {
   "cell_type": "code",
   "execution_count": 37,
   "id": "fb95b503-7228-4630-8c16-974a0ace6446",
   "metadata": {
    "tags": []
   },
   "outputs": [],
   "source": [
    "#Change N and Y to 0 and 1\n",
    "model_df['Implant Coverage (Y/N)'] = model_df['Implant Coverage (Y/N)'].map({'Y': 1, 'N': 0})\n",
    "model_df['Root Canal Coverage (Y/N)'] = model_df['Root Canal Coverage (Y/N)'].map({'Y': 1, 'N': 0})\n",
    "model_df['Healthy Food Rollover'] = model_df['Healthy Food Rollover'].map({'Y': 1, 'N': 0})\n",
    "model_df['OTC Rollover (Y/N)'] = model_df['OTC Rollover (Y/N)'].map({'Y': 1, 'N': 0})"
   ]
  },
  {
   "cell_type": "code",
   "execution_count": 38,
   "id": "f68bd6f2-88ae-49c8-9e0b-90ea3e3fa605",
   "metadata": {
    "tags": []
   },
   "outputs": [
    {
     "data": {
      "text/html": [
       "<div>\n",
       "<style scoped>\n",
       "    .dataframe tbody tr th:only-of-type {\n",
       "        vertical-align: middle;\n",
       "    }\n",
       "\n",
       "    .dataframe tbody tr th {\n",
       "        vertical-align: top;\n",
       "    }\n",
       "\n",
       "    .dataframe thead th {\n",
       "        text-align: right;\n",
       "    }\n",
       "</style>\n",
       "<table border=\"1\" class=\"dataframe\">\n",
       "  <thead>\n",
       "    <tr style=\"text-align: right;\">\n",
       "      <th></th>\n",
       "      <th>County</th>\n",
       "      <th>Provider</th>\n",
       "      <th>contract_plan</th>\n",
       "      <th>text_cleaned</th>\n",
       "      <th>Implant Coverage (Y/N)</th>\n",
       "      <th>Root Canal Coverage (Y/N)</th>\n",
       "      <th>Healthy Food Rollover</th>\n",
       "      <th>OTC Rollover (Y/N)</th>\n",
       "    </tr>\n",
       "  </thead>\n",
       "  <tbody>\n",
       "    <tr>\n",
       "      <th>0</th>\n",
       "      <td>AL: Birmingham</td>\n",
       "      <td>UnitedHealth Group, Inc.</td>\n",
       "      <td>H0432009000</td>\n",
       "      <td>to the preventive services in the benefits cha...</td>\n",
       "      <td>1</td>\n",
       "      <td>1</td>\n",
       "      <td>0</td>\n",
       "      <td>0</td>\n",
       "    </tr>\n",
       "    <tr>\n",
       "      <th>1</th>\n",
       "      <td>AL: Huntsville</td>\n",
       "      <td>UnitedHealth Group, Inc.</td>\n",
       "      <td>H0432009000</td>\n",
       "      <td>to the preventive services in the benefits cha...</td>\n",
       "      <td>1</td>\n",
       "      <td>1</td>\n",
       "      <td>0</td>\n",
       "      <td>0</td>\n",
       "    </tr>\n",
       "    <tr>\n",
       "      <th>2</th>\n",
       "      <td>AL: Birmingham</td>\n",
       "      <td>UnitedHealth Group, Inc.</td>\n",
       "      <td>H2802044000</td>\n",
       "      <td>to the preventive services in the benefits cha...</td>\n",
       "      <td>1</td>\n",
       "      <td>1</td>\n",
       "      <td>0</td>\n",
       "      <td>0</td>\n",
       "    </tr>\n",
       "    <tr>\n",
       "      <th>3</th>\n",
       "      <td>AL: Huntsville</td>\n",
       "      <td>CIGNA</td>\n",
       "      <td>H4513055000</td>\n",
       "      <td>to the preventive services in the benefits cha...</td>\n",
       "      <td>0</td>\n",
       "      <td>1</td>\n",
       "      <td>0</td>\n",
       "      <td>0</td>\n",
       "    </tr>\n",
       "    <tr>\n",
       "      <th>4</th>\n",
       "      <td>AL: Huntsville</td>\n",
       "      <td>Humana Inc.</td>\n",
       "      <td>H5619093000</td>\n",
       "      <td>to the preventive services in the benefits cha...</td>\n",
       "      <td>0</td>\n",
       "      <td>1</td>\n",
       "      <td>1</td>\n",
       "      <td>1</td>\n",
       "    </tr>\n",
       "    <tr>\n",
       "      <th>...</th>\n",
       "      <td>...</td>\n",
       "      <td>...</td>\n",
       "      <td>...</td>\n",
       "      <td>...</td>\n",
       "      <td>...</td>\n",
       "      <td>...</td>\n",
       "      <td>...</td>\n",
       "      <td>...</td>\n",
       "    </tr>\n",
       "    <tr>\n",
       "      <th>366</th>\n",
       "      <td>TX: Houston</td>\n",
       "      <td>Centene Corporation</td>\n",
       "      <td>H0174009000</td>\n",
       "      <td>to the preventive services in the benefits cha...</td>\n",
       "      <td>0</td>\n",
       "      <td>1</td>\n",
       "      <td>0</td>\n",
       "      <td>0</td>\n",
       "    </tr>\n",
       "    <tr>\n",
       "      <th>367</th>\n",
       "      <td>TX: Houston</td>\n",
       "      <td>Memorial Hermann Health System</td>\n",
       "      <td>H7115003000</td>\n",
       "      <td>to the preventive services in the benefits cha...</td>\n",
       "      <td>0</td>\n",
       "      <td>1</td>\n",
       "      <td>0</td>\n",
       "      <td>0</td>\n",
       "    </tr>\n",
       "    <tr>\n",
       "      <th>368</th>\n",
       "      <td>TX: Houston</td>\n",
       "      <td>UnitedHealth Group, Inc.</td>\n",
       "      <td>H0332008000</td>\n",
       "      <td>to the preventive services in the benefits cha...</td>\n",
       "      <td>1</td>\n",
       "      <td>1</td>\n",
       "      <td>0</td>\n",
       "      <td>0</td>\n",
       "    </tr>\n",
       "    <tr>\n",
       "      <th>369</th>\n",
       "      <td>TX: San Antonio</td>\n",
       "      <td>UnitedHealth Group, Inc.</td>\n",
       "      <td>H1278005000</td>\n",
       "      <td>to the preventive services in the benefits cha...</td>\n",
       "      <td>1</td>\n",
       "      <td>1</td>\n",
       "      <td>0</td>\n",
       "      <td>0</td>\n",
       "    </tr>\n",
       "    <tr>\n",
       "      <th>370</th>\n",
       "      <td>TX: San Antonio</td>\n",
       "      <td>CVS Health Corporation</td>\n",
       "      <td>H2293019000</td>\n",
       "      <td>to the preventive services in the benefits cha...</td>\n",
       "      <td>0</td>\n",
       "      <td>1</td>\n",
       "      <td>0</td>\n",
       "      <td>0</td>\n",
       "    </tr>\n",
       "  </tbody>\n",
       "</table>\n",
       "<p>371 rows × 8 columns</p>\n",
       "</div>"
      ],
      "text/plain": [
       "              County                        Provider contract_plan  \\\n",
       "0     AL: Birmingham        UnitedHealth Group, Inc.   H0432009000   \n",
       "1     AL: Huntsville        UnitedHealth Group, Inc.   H0432009000   \n",
       "2     AL: Birmingham        UnitedHealth Group, Inc.   H2802044000   \n",
       "3     AL: Huntsville                           CIGNA   H4513055000   \n",
       "4     AL: Huntsville                     Humana Inc.   H5619093000   \n",
       "..               ...                             ...           ...   \n",
       "366      TX: Houston             Centene Corporation   H0174009000   \n",
       "367      TX: Houston  Memorial Hermann Health System   H7115003000   \n",
       "368      TX: Houston        UnitedHealth Group, Inc.   H0332008000   \n",
       "369  TX: San Antonio        UnitedHealth Group, Inc.   H1278005000   \n",
       "370  TX: San Antonio          CVS Health Corporation   H2293019000   \n",
       "\n",
       "                                          text_cleaned  \\\n",
       "0    to the preventive services in the benefits cha...   \n",
       "1    to the preventive services in the benefits cha...   \n",
       "2    to the preventive services in the benefits cha...   \n",
       "3    to the preventive services in the benefits cha...   \n",
       "4    to the preventive services in the benefits cha...   \n",
       "..                                                 ...   \n",
       "366  to the preventive services in the benefits cha...   \n",
       "367  to the preventive services in the benefits cha...   \n",
       "368  to the preventive services in the benefits cha...   \n",
       "369  to the preventive services in the benefits cha...   \n",
       "370  to the preventive services in the benefits cha...   \n",
       "\n",
       "     Implant Coverage (Y/N)  Root Canal Coverage (Y/N)  Healthy Food Rollover  \\\n",
       "0                         1                          1                      0   \n",
       "1                         1                          1                      0   \n",
       "2                         1                          1                      0   \n",
       "3                         0                          1                      0   \n",
       "4                         0                          1                      1   \n",
       "..                      ...                        ...                    ...   \n",
       "366                       0                          1                      0   \n",
       "367                       0                          1                      0   \n",
       "368                       1                          1                      0   \n",
       "369                       1                          1                      0   \n",
       "370                       0                          1                      0   \n",
       "\n",
       "     OTC Rollover (Y/N)  \n",
       "0                     0  \n",
       "1                     0  \n",
       "2                     0  \n",
       "3                     0  \n",
       "4                     1  \n",
       "..                  ...  \n",
       "366                   0  \n",
       "367                   0  \n",
       "368                   0  \n",
       "369                   0  \n",
       "370                   0  \n",
       "\n",
       "[371 rows x 8 columns]"
      ]
     },
     "execution_count": 38,
     "metadata": {},
     "output_type": "execute_result"
    }
   ],
   "source": [
    "model_df"
   ]
  },
  {
   "cell_type": "code",
   "execution_count": 39,
   "id": "d2529634-d0d9-4154-94bc-161bc1497860",
   "metadata": {
    "tags": []
   },
   "outputs": [],
   "source": [
    "#Try 5 rows as sample\n",
    "#model_df2 = model_df.iloc[7:12]\n",
    "#model_df2"
   ]
  },
  {
   "cell_type": "code",
   "execution_count": 40,
   "id": "b2332886-2902-4e32-ad8b-2211eeb22bb5",
   "metadata": {
    "tags": []
   },
   "outputs": [],
   "source": [
    "#model_df2['text_sample'] = ['']\n",
    "#model_df2[\"text_sample\"] = ['2023  Evidence of Coverage for UnitedHealthcare Dual Complete® (HMO-POS D-SNP) Chapter 4: Medical Benefits Chart (what is covered and what you pay) 102Covered Routine Dental Benefits Included with Your Plan:    Annual Maximum:  $ 3,000 In general, preventive and routine dental services are not covered under Original Medicare.', 'None listed'] \n"
   ]
  },
  {
   "cell_type": "code",
   "execution_count": 41,
   "id": "a864f44e-89a8-41ce-85fc-bf7ad81805b6",
   "metadata": {
    "tags": []
   },
   "outputs": [],
   "source": [
    "#Turn text into list\n",
    "#docs = []\n",
    "docs = model_df[\"text_cleaned\"].to_list()"
   ]
  },
  {
   "cell_type": "code",
   "execution_count": 42,
   "id": "96bb3426-4c68-4fc9-8979-9ab3c9f3ca66",
   "metadata": {
    "tags": []
   },
   "outputs": [],
   "source": [
    "#model_df['extracted_text'].to_csv('file.csv', index = False)"
   ]
  },
  {
   "cell_type": "code",
   "execution_count": 43,
   "id": "f3c15311-8acc-44f6-bbba-463121b3aef2",
   "metadata": {
    "tags": []
   },
   "outputs": [],
   "source": [
    "import requests"
   ]
  },
  {
   "cell_type": "code",
   "execution_count": 44,
   "id": "97aa7649-1aae-4494-8079-0ae277499004",
   "metadata": {
    "tags": []
   },
   "outputs": [
    {
     "data": {
      "text/html": [
       "<div>\n",
       "<style scoped>\n",
       "    .dataframe tbody tr th:only-of-type {\n",
       "        vertical-align: middle;\n",
       "    }\n",
       "\n",
       "    .dataframe tbody tr th {\n",
       "        vertical-align: top;\n",
       "    }\n",
       "\n",
       "    .dataframe thead th {\n",
       "        text-align: right;\n",
       "    }\n",
       "</style>\n",
       "<table border=\"1\" class=\"dataframe\">\n",
       "  <thead>\n",
       "    <tr style=\"text-align: right;\">\n",
       "      <th></th>\n",
       "      <th>County</th>\n",
       "      <th>Provider</th>\n",
       "      <th>contract_plan</th>\n",
       "      <th>text_cleaned</th>\n",
       "      <th>Implant Coverage (Y/N)</th>\n",
       "      <th>Root Canal Coverage (Y/N)</th>\n",
       "      <th>Healthy Food Rollover</th>\n",
       "      <th>OTC Rollover (Y/N)</th>\n",
       "    </tr>\n",
       "  </thead>\n",
       "  <tbody>\n",
       "    <tr>\n",
       "      <th>0</th>\n",
       "      <td>AL: Birmingham</td>\n",
       "      <td>UnitedHealth Group, Inc.</td>\n",
       "      <td>H0432009000</td>\n",
       "      <td>to the preventive services in the benefits cha...</td>\n",
       "      <td>1</td>\n",
       "      <td>1</td>\n",
       "      <td>0</td>\n",
       "      <td>0</td>\n",
       "    </tr>\n",
       "    <tr>\n",
       "      <th>1</th>\n",
       "      <td>AL: Huntsville</td>\n",
       "      <td>UnitedHealth Group, Inc.</td>\n",
       "      <td>H0432009000</td>\n",
       "      <td>to the preventive services in the benefits cha...</td>\n",
       "      <td>1</td>\n",
       "      <td>1</td>\n",
       "      <td>0</td>\n",
       "      <td>0</td>\n",
       "    </tr>\n",
       "    <tr>\n",
       "      <th>2</th>\n",
       "      <td>AL: Birmingham</td>\n",
       "      <td>UnitedHealth Group, Inc.</td>\n",
       "      <td>H2802044000</td>\n",
       "      <td>to the preventive services in the benefits cha...</td>\n",
       "      <td>1</td>\n",
       "      <td>1</td>\n",
       "      <td>0</td>\n",
       "      <td>0</td>\n",
       "    </tr>\n",
       "    <tr>\n",
       "      <th>3</th>\n",
       "      <td>AL: Huntsville</td>\n",
       "      <td>CIGNA</td>\n",
       "      <td>H4513055000</td>\n",
       "      <td>to the preventive services in the benefits cha...</td>\n",
       "      <td>0</td>\n",
       "      <td>1</td>\n",
       "      <td>0</td>\n",
       "      <td>0</td>\n",
       "    </tr>\n",
       "    <tr>\n",
       "      <th>4</th>\n",
       "      <td>AL: Huntsville</td>\n",
       "      <td>Humana Inc.</td>\n",
       "      <td>H5619093000</td>\n",
       "      <td>to the preventive services in the benefits cha...</td>\n",
       "      <td>0</td>\n",
       "      <td>1</td>\n",
       "      <td>1</td>\n",
       "      <td>1</td>\n",
       "    </tr>\n",
       "    <tr>\n",
       "      <th>...</th>\n",
       "      <td>...</td>\n",
       "      <td>...</td>\n",
       "      <td>...</td>\n",
       "      <td>...</td>\n",
       "      <td>...</td>\n",
       "      <td>...</td>\n",
       "      <td>...</td>\n",
       "      <td>...</td>\n",
       "    </tr>\n",
       "    <tr>\n",
       "      <th>366</th>\n",
       "      <td>TX: Houston</td>\n",
       "      <td>Centene Corporation</td>\n",
       "      <td>H0174009000</td>\n",
       "      <td>to the preventive services in the benefits cha...</td>\n",
       "      <td>0</td>\n",
       "      <td>1</td>\n",
       "      <td>0</td>\n",
       "      <td>0</td>\n",
       "    </tr>\n",
       "    <tr>\n",
       "      <th>367</th>\n",
       "      <td>TX: Houston</td>\n",
       "      <td>Memorial Hermann Health System</td>\n",
       "      <td>H7115003000</td>\n",
       "      <td>to the preventive services in the benefits cha...</td>\n",
       "      <td>0</td>\n",
       "      <td>1</td>\n",
       "      <td>0</td>\n",
       "      <td>0</td>\n",
       "    </tr>\n",
       "    <tr>\n",
       "      <th>368</th>\n",
       "      <td>TX: Houston</td>\n",
       "      <td>UnitedHealth Group, Inc.</td>\n",
       "      <td>H0332008000</td>\n",
       "      <td>to the preventive services in the benefits cha...</td>\n",
       "      <td>1</td>\n",
       "      <td>1</td>\n",
       "      <td>0</td>\n",
       "      <td>0</td>\n",
       "    </tr>\n",
       "    <tr>\n",
       "      <th>369</th>\n",
       "      <td>TX: San Antonio</td>\n",
       "      <td>UnitedHealth Group, Inc.</td>\n",
       "      <td>H1278005000</td>\n",
       "      <td>to the preventive services in the benefits cha...</td>\n",
       "      <td>1</td>\n",
       "      <td>1</td>\n",
       "      <td>0</td>\n",
       "      <td>0</td>\n",
       "    </tr>\n",
       "    <tr>\n",
       "      <th>370</th>\n",
       "      <td>TX: San Antonio</td>\n",
       "      <td>CVS Health Corporation</td>\n",
       "      <td>H2293019000</td>\n",
       "      <td>to the preventive services in the benefits cha...</td>\n",
       "      <td>0</td>\n",
       "      <td>1</td>\n",
       "      <td>0</td>\n",
       "      <td>0</td>\n",
       "    </tr>\n",
       "  </tbody>\n",
       "</table>\n",
       "<p>371 rows × 8 columns</p>\n",
       "</div>"
      ],
      "text/plain": [
       "              County                        Provider contract_plan  \\\n",
       "0     AL: Birmingham        UnitedHealth Group, Inc.   H0432009000   \n",
       "1     AL: Huntsville        UnitedHealth Group, Inc.   H0432009000   \n",
       "2     AL: Birmingham        UnitedHealth Group, Inc.   H2802044000   \n",
       "3     AL: Huntsville                           CIGNA   H4513055000   \n",
       "4     AL: Huntsville                     Humana Inc.   H5619093000   \n",
       "..               ...                             ...           ...   \n",
       "366      TX: Houston             Centene Corporation   H0174009000   \n",
       "367      TX: Houston  Memorial Hermann Health System   H7115003000   \n",
       "368      TX: Houston        UnitedHealth Group, Inc.   H0332008000   \n",
       "369  TX: San Antonio        UnitedHealth Group, Inc.   H1278005000   \n",
       "370  TX: San Antonio          CVS Health Corporation   H2293019000   \n",
       "\n",
       "                                          text_cleaned  \\\n",
       "0    to the preventive services in the benefits cha...   \n",
       "1    to the preventive services in the benefits cha...   \n",
       "2    to the preventive services in the benefits cha...   \n",
       "3    to the preventive services in the benefits cha...   \n",
       "4    to the preventive services in the benefits cha...   \n",
       "..                                                 ...   \n",
       "366  to the preventive services in the benefits cha...   \n",
       "367  to the preventive services in the benefits cha...   \n",
       "368  to the preventive services in the benefits cha...   \n",
       "369  to the preventive services in the benefits cha...   \n",
       "370  to the preventive services in the benefits cha...   \n",
       "\n",
       "     Implant Coverage (Y/N)  Root Canal Coverage (Y/N)  Healthy Food Rollover  \\\n",
       "0                         1                          1                      0   \n",
       "1                         1                          1                      0   \n",
       "2                         1                          1                      0   \n",
       "3                         0                          1                      0   \n",
       "4                         0                          1                      1   \n",
       "..                      ...                        ...                    ...   \n",
       "366                       0                          1                      0   \n",
       "367                       0                          1                      0   \n",
       "368                       1                          1                      0   \n",
       "369                       1                          1                      0   \n",
       "370                       0                          1                      0   \n",
       "\n",
       "     OTC Rollover (Y/N)  \n",
       "0                     0  \n",
       "1                     0  \n",
       "2                     0  \n",
       "3                     0  \n",
       "4                     1  \n",
       "..                  ...  \n",
       "366                   0  \n",
       "367                   0  \n",
       "368                   0  \n",
       "369                   0  \n",
       "370                   0  \n",
       "\n",
       "[371 rows x 8 columns]"
      ]
     },
     "execution_count": 44,
     "metadata": {},
     "output_type": "execute_result"
    }
   ],
   "source": [
    "model_df"
   ]
  },
  {
   "cell_type": "markdown",
   "id": "8c5e61bf-8786-4aa2-acbd-5f0c12ec68d5",
   "metadata": {},
   "source": [
    "### Map-Reduce to Extract Benefits"
   ]
  },
  {
   "cell_type": "markdown",
   "id": "058618af-0799-42de-bb75-ff4a44852644",
   "metadata": {
    "tags": []
   },
   "source": [
    "#### Extraction Prompt"
   ]
  },
  {
   "cell_type": "code",
   "execution_count": 45,
   "id": "78cf7bc4-3103-4a77-bb2e-c3490dc4d4a7",
   "metadata": {
    "tags": []
   },
   "outputs": [],
   "source": [
    "api_token = 'INSERT TOKEN HERE'\n",
    "gpt = GPT(use_case=\"EOC summarization\", deployment_name=\"gpt-35-turbo-16k-0613\", api_token=api_token, temperature=0.8)\n",
    "#Can modify temperature\n",
    "warnings.filterwarnings('ignore')\n",
    "llm = gpt\n",
    "\n",
    "#Map Reduce Template\n",
    "#Map Template\n",
    "map_template = \"\"\"You are reviewing coverage documents to determine if various items are mentioned.\n",
    "\n",
    "Provide a report with the information below.  Include no other information besides what is asked for.\n",
    "\n",
    "Root canals (also called endodontics, endodontic treatment, or endodontic services) mentioned: (Yes or No).\n",
    "Dental implants mentioned: (Yes or No).\n",
    "Over-the-counter (OTC) benefits rollover allowed: (Yes or No).\n",
    "Healthy options allowance rollover allowed (may be called healthy foods benefit as well): (Yes or No).\n",
    "\n",
    "The rollover allowances may be shown as \"Unused funds will roll over to the next month\" or a similar statement in the document.\n",
    "\n",
    "Coverage documents: {docs}\n",
    "\"\"\"\n",
    "\n",
    "#Determine each of the following in the text chunk:\n",
    "#Dental annual max: (respond in USD)\n",
    "#Root canals covered: (respond in yes/no)\n",
    "#Implants covered: (respond in yes/no)\n",
    "#Crowns covered: (respond in yes/no).\n",
    "\n",
    "map_prompt = PromptTemplate.from_template(map_template)\n",
    "map_chain = LLMChain(llm=llm, prompt=map_prompt)\n",
    "\n",
    "#Reduce Template\n",
    "reduce_template = \"\"\"You are given a set of subreports indicating whether various items are mentioned.\n",
    "\n",
    "Create a final report indicating whether these items are mentioned in any of the subreports.  If they are Yes in any of the subreports, the final response for that item should be Yes.\n",
    "Include no other information besides what is asked for.  If any of the information is unclear, the response should be No.\n",
    "\n",
    "Final report format:\n",
    "Root canals mentioned: (Yes or No)\n",
    "Implants mentioned: (Yes or No)\n",
    "OTC benefits rollover: (Yes or No)\n",
    "Healthy food benefits rollover: (Yes or No)\n",
    "\n",
    "Set of subreports: {doc_summaries}\n",
    "\"\"\"\n",
    "\n",
    "#Removed this line\n",
    "#Some of the dental coverage reports may not contain dental benefit information.\n",
    "\n",
    "reduce_prompt = PromptTemplate.from_template(reduce_template)\n",
    "reduce_chain = LLMChain(llm=llm, prompt=reduce_prompt)\n",
    "\n",
    "# Takes a list of documents, combines them into a single string, and passes this to an LLMChain\n",
    "combine_documents_chain = StuffDocumentsChain(\n",
    "    llm_chain=reduce_chain, document_variable_name=\"doc_summaries\"\n",
    ")\n",
    "\n",
    "#Combines and iteravely reduces the mapped documents\n",
    "reduce_documents_chain = ReduceDocumentsChain(\n",
    "    #This is final chain that is called.\n",
    "    combine_documents_chain=combine_documents_chain,\n",
    "    #If documents exceed context for `StuffDocumentsChain`\n",
    "    collapse_documents_chain=combine_documents_chain,\n",
    "    #The maximum number of tokens to group documents into.\n",
    "    token_max=10000,\n",
    ")\n",
    "\n",
    "# Combining documents by mapping a chain over them, then combining results\n",
    "map_reduce_chain = MapReduceDocumentsChain(\n",
    "    # Map chain\n",
    "    llm_chain=map_chain,\n",
    "    # Reduce chain\n",
    "    reduce_documents_chain=reduce_documents_chain,\n",
    "    # The variable name in the llm_chain to put the documents in\n",
    "    document_variable_name=\"docs\",\n",
    "    # Return the results of the map steps in the output\n",
    "    return_intermediate_steps=False,  #Can change this to True to see output of map step\n",
    ")\n",
    "\n",
    "#counter = 1\n",
    "#Create empty list to store results\n",
    "results = []\n",
    "\n",
    "# loop through documents and extract benefits for each\n",
    "for text in docs:\n",
    "\n",
    "    encoding = tiktoken.encoding_for_model(\"gpt-3.5-turbo-16k-0613\")\n",
    "    num_tokens = len(encoding.encode(text))\n",
    "\n",
    "    #Initialize the splitter\n",
    "    #Should be space for 15k tokens. Length function will count chunk size and overlap based on LLM's tokenizer.\n",
    "    #Start at 10% chunk overlap\n",
    "    text_splitter = RecursiveCharacterTextSplitter(chunk_size=10000, chunk_overlap=1000, separators=[\"\\n\\n\", \"\\n\", \" \", \"\"], length_function=llm.get_num_tokens)\n",
    "\n",
    "    # Split docs into texts\n",
    "    texts = text_splitter.split_text(text)\n",
    "\n",
    "    # Create documents from texts\n",
    "    document_texts = text_splitter.create_documents(texts)\n",
    "\n",
    "    model_summary = map_reduce_chain.run(document_texts)\n",
    "    #response = map_reduce_chain(document_texts)\n",
    "    #intermediate_steps = response[\"intermediate_steps\"]\n",
    "    #model_extraction = response[\"output_text\"]\n",
    "    #print(intermediate_steps)\n",
    "\n",
    "    #Add results to results list\n",
    "    results.append(model_summary)\n",
    "    time.sleep(10)\n",
    "\n",
    "    #print(\"Document #{}:\\n\".format(counter), model_summary)\n",
    "    #counter = counter + 1"
   ]
  },
  {
   "cell_type": "code",
   "execution_count": 46,
   "id": "7b663f91-9ae5-4b5d-8ed2-e4e4ba07faaf",
   "metadata": {
    "tags": []
   },
   "outputs": [],
   "source": [
    "#Function to replace new line characters\n",
    "def strip_newlines(text_list):\n",
    "    stripped_list = [text.replace('\\n', ' ') for text in text_list]\n",
    "    return stripped_list"
   ]
  },
  {
   "cell_type": "code",
   "execution_count": 47,
   "id": "48e9efaf-234d-4fea-ac8d-40696c691710",
   "metadata": {
    "tags": []
   },
   "outputs": [],
   "source": [
    "results = strip_newlines(results)"
   ]
  },
  {
   "cell_type": "code",
   "execution_count": 48,
   "id": "f38c6292-55a0-40e0-8468-7a7f32295153",
   "metadata": {
    "tags": []
   },
   "outputs": [],
   "source": [
    "#results"
   ]
  },
  {
   "cell_type": "code",
   "execution_count": 49,
   "id": "1a538ac5-a6d1-45ce-9824-9408a8039ded",
   "metadata": {
    "tags": []
   },
   "outputs": [],
   "source": [
    "#Iterate through results and append Y or N to dataframe\n",
    "\n",
    "root_canals = []\n",
    "implants = []\n",
    "otc = []\n",
    "food = []\n",
    "\n",
    "for text in results:\n",
    "    index_rt = text.find(\"Root canals mentioned: \")\n",
    "    letter_rt = text[index_rt + len(\"Root canals mentioned: \")]\n",
    "    root_canals.append(letter_rt)\n",
    "    \n",
    "    index_im = text.find(\"Implants mentioned: \")\n",
    "    letter_im = text[index_im + len(\"Implants mentioned: \")]\n",
    "    implants.append(letter_im)\n",
    "    \n",
    "    index_otc = text.find(\"OTC benefits rollover: \")\n",
    "    letter_otc = text[index_otc + len(\"OTC benefits rollover: \")]\n",
    "    otc.append(letter_otc)\n",
    "    \n",
    "    index_food = text.find(\"Healthy food benefits rollover: \")\n",
    "    letter_food = text[index_food + len(\"Healthy food benefits rollover: \")]\n",
    "    food.append(letter_food)"
   ]
  },
  {
   "cell_type": "code",
   "execution_count": 50,
   "id": "a5c5bf55-e497-40b8-8ed4-9e630aa37816",
   "metadata": {
    "tags": []
   },
   "outputs": [],
   "source": [
    "#Add results to dataframe\n",
    "model_df[\"Root Canal Results\"] = root_canals\n",
    "model_df[\"Implant Results\"] = implants\n",
    "model_df[\"OTC Results\"] = otc\n",
    "model_df[\"Healthy Food Results\"] = food"
   ]
  },
  {
   "cell_type": "code",
   "execution_count": 51,
   "id": "1cbb80be-d796-415e-84b9-d8bb12a074f1",
   "metadata": {
    "tags": []
   },
   "outputs": [],
   "source": [
    "#Change N or Y to 0 or 1\n",
    "model_df['Root Canal Results'] = model_df['Root Canal Results'].map({'Y': 1, 'N': 0, 'U': 0})\n",
    "model_df['Implant Results'] = model_df['Implant Results'].map({'Y': 1, 'N': 0, 'U': 0})\n",
    "model_df['OTC Results'] = model_df['OTC Results'].map({'Y': 1, 'N': 0, 'U': 0})\n",
    "model_df['Healthy Food Results'] = model_df['Healthy Food Results'].map({'Y': 1, 'N': 0, 'U': 0})"
   ]
  },
  {
   "cell_type": "code",
   "execution_count": 52,
   "id": "524fcd5b-faa0-449f-b8d3-fa69c16d1d48",
   "metadata": {
    "tags": []
   },
   "outputs": [],
   "source": [
    "#Convert columns to numeric\n",
    "model_df[['Root Canal Coverage (Y/N)', 'Root Canal Results', 'Implant Coverage (Y/N)', 'Implant Results', 'OTC Rollover (Y/N)', 'OTC Results', 'Healthy Food Rollover', 'Healthy Food Results']] = model_df[['Root Canal Coverage (Y/N)', 'Root Canal Results', 'Implant Coverage (Y/N)', 'Implant Results', 'OTC Rollover (Y/N)', 'OTC Results', 'Healthy Food Rollover', 'Healthy Food Results']].apply(pd.to_numeric)"
   ]
  },
  {
   "cell_type": "code",
   "execution_count": 53,
   "id": "e89dff05-5d91-4171-ac64-631c71cebed9",
   "metadata": {
    "tags": []
   },
   "outputs": [],
   "source": [
    "#Write function for calculating accuracy and precision\n",
    "def compare_binary_columns(column1, column2):\n",
    "\n",
    "    column1 = column1.tolist()\n",
    "    column2 = column2.tolist()\n",
    "\n",
    "    true_positive = 0\n",
    "    false_positive = 0\n",
    "    true_negative = 0\n",
    "    false_negative = 0\n",
    "\n",
    "    for i in range(len(column1)):\n",
    "        if column1[i] == 1 and column2[i] == 1:\n",
    "            true_positive += 1\n",
    "        elif column1[i] == 0 and column2[i] == 1:\n",
    "            false_positive += 1\n",
    "        elif column1[i] == 1 and column2[i] == 0:\n",
    "            false_negative += 1\n",
    "        else:\n",
    "            true_negative += 1\n",
    "\n",
    "    accuracy = (true_positive + true_negative) / len(column1)\n",
    "    if true_positive + false_positive != 0:\n",
    "        precision = true_positive / (true_positive + false_positive)\n",
    "    else:\n",
    "        precision = 0\n",
    "\n",
    "    return accuracy, precision"
   ]
  },
  {
   "cell_type": "code",
   "execution_count": 54,
   "id": "e90dd996-7363-4648-bab3-538339dffdc5",
   "metadata": {
    "tags": []
   },
   "outputs": [
    {
     "name": "stdout",
     "output_type": "stream",
     "text": [
      "Root Canal Accuracy:  0.628032345013477\n",
      "Root Canal Precision:  0.9710144927536232\n",
      "Implant Accuracy:  0.6630727762803235\n",
      "Implant Precision:  0.9411764705882353\n",
      "OTC Accuracy:  0.8463611859838275\n",
      "OTC Precision:  0.4375\n",
      "Food Accuracy:  0.9407008086253369\n",
      "Food Precision:  0.6666666666666666\n"
     ]
    }
   ],
   "source": [
    "#Print accuracy and precision results\n",
    "rc_accuracy, rc_precision = compare_binary_columns(model_df['Root Canal Coverage (Y/N)'], model_df['Root Canal Results'])\n",
    "implant_accuracy, implant_precision = compare_binary_columns(model_df['Implant Coverage (Y/N)'], model_df['Implant Results'])\n",
    "otc_accuracy, otc_precision = compare_binary_columns(model_df['OTC Rollover (Y/N)'], model_df['OTC Results'])\n",
    "food_accuracy, food_precision = compare_binary_columns(model_df['Healthy Food Rollover'], model_df['Healthy Food Results'])\n",
    "\n",
    "print(\"Root Canal Accuracy: \", rc_accuracy)\n",
    "print(\"Root Canal Precision: \", rc_precision)\n",
    "print(\"Implant Accuracy: \", implant_accuracy)\n",
    "print(\"Implant Precision: \", implant_precision)\n",
    "print(\"OTC Accuracy: \", otc_accuracy)\n",
    "print(\"OTC Precision: \", otc_precision)\n",
    "print(\"Food Accuracy: \", food_accuracy)\n",
    "print(\"Food Precision: \", food_precision)"
   ]
  },
  {
   "cell_type": "code",
   "execution_count": 55,
   "id": "a3618de0-e556-4e65-b848-e313a3ff535e",
   "metadata": {},
   "outputs": [],
   "source": [
    "model_output = model_df[['County', 'Provider', 'contract_plan', 'Implant Coverage (Y/N)','Root Canal Coverage (Y/N)',\n",
    "                 'Healthy Food Rollover','OTC Rollover (Y/N)', 'Root Canal Results', 'Implant Results', 'OTC Results', 'Healthy Food Results']]\n",
    "model_output.to_csv('extraction_results.csv', index = False)"
   ]
  },
  {
   "cell_type": "code",
   "execution_count": 56,
   "id": "30ac7a9b-b30f-44b1-95d5-32bde2b66e74",
   "metadata": {
    "tags": []
   },
   "outputs": [],
   "source": [
    "#results"
   ]
  }
 ],
 "metadata": {
  "kernelspec": {
   "display_name": "test_env",
   "language": "python",
   "name": "test_env"
  },
  "language_info": {
   "codemirror_mode": {
    "name": "ipython",
    "version": 3
   },
   "file_extension": ".py",
   "mimetype": "text/x-python",
   "name": "python",
   "nbconvert_exporter": "python",
   "pygments_lexer": "ipython3",
   "version": "3.10.13"
  }
 },
 "nbformat": 4,
 "nbformat_minor": 5
}
